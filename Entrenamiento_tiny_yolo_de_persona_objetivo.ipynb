{
  "nbformat": 4,
  "nbformat_minor": 0,
  "metadata": {
    "colab": {
      "provenance": [],
      "gpuType": "T4"
    },
    "kernelspec": {
      "name": "python3",
      "display_name": "Python 3"
    },
    "language_info": {
      "name": "python"
    },
    "accelerator": "GPU"
  },
  "cells": [
    {
      "cell_type": "code",
      "source": [
        "!unzip Human_target_labelImg.zip"
      ],
      "metadata": {
        "colab": {
          "base_uri": "https://localhost:8080/"
        },
        "id": "uVFtE6OJ2ahz",
        "outputId": "d120215d-c2fe-409b-d855-9576b61e4f01"
      },
      "execution_count": null,
      "outputs": [
        {
          "output_type": "stream",
          "name": "stdout",
          "text": [
            "Archive:  Human_target_labelImg.zip\n",
            "   creating: Human_target_labelImg/\n",
            "   creating: Human_target_labelImg/train/\n",
            "   creating: Human_target_labelImg/train/annotations/\n",
            "  inflating: Human_target_labelImg/train/annotations/Person0.txt  \n",
            "  inflating: Human_target_labelImg/train/annotations/Person10.txt  \n",
            "  inflating: Human_target_labelImg/train/annotations/Person100.txt  \n",
            "  inflating: Human_target_labelImg/train/annotations/Person101.txt  \n",
            "  inflating: Human_target_labelImg/train/annotations/Person105.txt  \n",
            "  inflating: Human_target_labelImg/train/annotations/Person106.txt  \n",
            "  inflating: Human_target_labelImg/train/annotations/Person108.txt  \n",
            "  inflating: Human_target_labelImg/train/annotations/Person109.txt  \n",
            "  inflating: Human_target_labelImg/train/annotations/Person11.txt  \n",
            "  inflating: Human_target_labelImg/train/annotations/Person111.txt  \n",
            "  inflating: Human_target_labelImg/train/annotations/Person114.txt  \n",
            "  inflating: Human_target_labelImg/train/annotations/Person116.txt  \n",
            "  inflating: Human_target_labelImg/train/annotations/Person119.txt  \n",
            "  inflating: Human_target_labelImg/train/annotations/Person12.txt  \n",
            "  inflating: Human_target_labelImg/train/annotations/Person120.txt  \n",
            "  inflating: Human_target_labelImg/train/annotations/Person121.txt  \n",
            "  inflating: Human_target_labelImg/train/annotations/Person122.txt  \n",
            "  inflating: Human_target_labelImg/train/annotations/Person123.txt  \n",
            "  inflating: Human_target_labelImg/train/annotations/Person124.txt  \n",
            "  inflating: Human_target_labelImg/train/annotations/Person125.txt  \n",
            "  inflating: Human_target_labelImg/train/annotations/Person127.txt  \n",
            "  inflating: Human_target_labelImg/train/annotations/Person13.txt  \n",
            "  inflating: Human_target_labelImg/train/annotations/Person132.txt  \n",
            "  inflating: Human_target_labelImg/train/annotations/Person134.txt  \n",
            "  inflating: Human_target_labelImg/train/annotations/Person135.txt  \n",
            "  inflating: Human_target_labelImg/train/annotations/Person136.txt  \n",
            "  inflating: Human_target_labelImg/train/annotations/Person137.txt  \n",
            "  inflating: Human_target_labelImg/train/annotations/Person138.txt  \n",
            "  inflating: Human_target_labelImg/train/annotations/Person139.txt  \n",
            "  inflating: Human_target_labelImg/train/annotations/Person14.txt  \n",
            "  inflating: Human_target_labelImg/train/annotations/Person140.txt  \n",
            "  inflating: Human_target_labelImg/train/annotations/Person141.txt  \n",
            "  inflating: Human_target_labelImg/train/annotations/Person145.txt  \n",
            "  inflating: Human_target_labelImg/train/annotations/Person146.txt  \n",
            "  inflating: Human_target_labelImg/train/annotations/Person148.txt  \n",
            "  inflating: Human_target_labelImg/train/annotations/Person149.txt  \n",
            "  inflating: Human_target_labelImg/train/annotations/Person15.txt  \n",
            "  inflating: Human_target_labelImg/train/annotations/Person150.txt  \n",
            "  inflating: Human_target_labelImg/train/annotations/Person151.txt  \n",
            "  inflating: Human_target_labelImg/train/annotations/Person152.txt  \n",
            "  inflating: Human_target_labelImg/train/annotations/Person153.txt  \n",
            "  inflating: Human_target_labelImg/train/annotations/Person155.txt  \n",
            "  inflating: Human_target_labelImg/train/annotations/Person156.txt  \n",
            "  inflating: Human_target_labelImg/train/annotations/Person157.txt  \n",
            "  inflating: Human_target_labelImg/train/annotations/Person158.txt  \n",
            "  inflating: Human_target_labelImg/train/annotations/Person160.txt  \n",
            "  inflating: Human_target_labelImg/train/annotations/Person161.txt  \n",
            "  inflating: Human_target_labelImg/train/annotations/Person162.txt  \n",
            "  inflating: Human_target_labelImg/train/annotations/Person163.txt  \n",
            "  inflating: Human_target_labelImg/train/annotations/Person164.txt  \n",
            "  inflating: Human_target_labelImg/train/annotations/Person165.txt  \n",
            "  inflating: Human_target_labelImg/train/annotations/Person167.txt  \n",
            "  inflating: Human_target_labelImg/train/annotations/Person168.txt  \n",
            "  inflating: Human_target_labelImg/train/annotations/Person169.txt  \n",
            "  inflating: Human_target_labelImg/train/annotations/Person17.txt  \n",
            "  inflating: Human_target_labelImg/train/annotations/Person170.txt  \n",
            "  inflating: Human_target_labelImg/train/annotations/Person171.txt  \n",
            "  inflating: Human_target_labelImg/train/annotations/Person172.txt  \n",
            "  inflating: Human_target_labelImg/train/annotations/Person173.txt  \n",
            "  inflating: Human_target_labelImg/train/annotations/Person175.txt  \n",
            "  inflating: Human_target_labelImg/train/annotations/Person176.txt  \n",
            "  inflating: Human_target_labelImg/train/annotations/Person177.txt  \n",
            "  inflating: Human_target_labelImg/train/annotations/Person178.txt  \n",
            "  inflating: Human_target_labelImg/train/annotations/Person179.txt  \n",
            "  inflating: Human_target_labelImg/train/annotations/Person18.txt  \n",
            "  inflating: Human_target_labelImg/train/annotations/Person180.txt  \n",
            "  inflating: Human_target_labelImg/train/annotations/Person181.txt  \n",
            "  inflating: Human_target_labelImg/train/annotations/Person182.txt  \n",
            "  inflating: Human_target_labelImg/train/annotations/Person183.txt  \n",
            "  inflating: Human_target_labelImg/train/annotations/Person184.txt  \n",
            "  inflating: Human_target_labelImg/train/annotations/Person185.txt  \n",
            "  inflating: Human_target_labelImg/train/annotations/Person186.txt  \n",
            "  inflating: Human_target_labelImg/train/annotations/Person189.txt  \n",
            "  inflating: Human_target_labelImg/train/annotations/Person19.txt  \n",
            "  inflating: Human_target_labelImg/train/annotations/Person190.txt  \n",
            "  inflating: Human_target_labelImg/train/annotations/Person191.txt  \n",
            "  inflating: Human_target_labelImg/train/annotations/Person193.txt  \n",
            "  inflating: Human_target_labelImg/train/annotations/Person194.txt  \n",
            "  inflating: Human_target_labelImg/train/annotations/Person195.txt  \n",
            "  inflating: Human_target_labelImg/train/annotations/Person197.txt  \n",
            "  inflating: Human_target_labelImg/train/annotations/Person199.txt  \n",
            "  inflating: Human_target_labelImg/train/annotations/Person2.txt  \n",
            "  inflating: Human_target_labelImg/train/annotations/Person20.txt  \n",
            "  inflating: Human_target_labelImg/train/annotations/Person200.txt  \n",
            "  inflating: Human_target_labelImg/train/annotations/Person25.txt  \n",
            "  inflating: Human_target_labelImg/train/annotations/Person26.txt  \n",
            "  inflating: Human_target_labelImg/train/annotations/Person27.txt  \n",
            "  inflating: Human_target_labelImg/train/annotations/Person29.txt  \n",
            "  inflating: Human_target_labelImg/train/annotations/Person3.txt  \n",
            "  inflating: Human_target_labelImg/train/annotations/Person31.txt  \n",
            "  inflating: Human_target_labelImg/train/annotations/Person33.txt  \n",
            "  inflating: Human_target_labelImg/train/annotations/Person35.txt  \n",
            "  inflating: Human_target_labelImg/train/annotations/Person39.txt  \n",
            "  inflating: Human_target_labelImg/train/annotations/Person4.txt  \n",
            "  inflating: Human_target_labelImg/train/annotations/Person41.txt  \n",
            "  inflating: Human_target_labelImg/train/annotations/Person42.txt  \n",
            "  inflating: Human_target_labelImg/train/annotations/Person45.txt  \n",
            "  inflating: Human_target_labelImg/train/annotations/Person46.txt  \n",
            "  inflating: Human_target_labelImg/train/annotations/Person48.txt  \n",
            "  inflating: Human_target_labelImg/train/annotations/Person5.txt  \n",
            "  inflating: Human_target_labelImg/train/annotations/Person50.txt  \n",
            "  inflating: Human_target_labelImg/train/annotations/Person51.txt  \n",
            "  inflating: Human_target_labelImg/train/annotations/Person52.txt  \n",
            "  inflating: Human_target_labelImg/train/annotations/Person53.txt  \n",
            "  inflating: Human_target_labelImg/train/annotations/Person54.txt  \n",
            "  inflating: Human_target_labelImg/train/annotations/Person55.txt  \n",
            "  inflating: Human_target_labelImg/train/annotations/Person56.txt  \n",
            "  inflating: Human_target_labelImg/train/annotations/Person57.txt  \n",
            "  inflating: Human_target_labelImg/train/annotations/Person58.txt  \n",
            "  inflating: Human_target_labelImg/train/annotations/Person6.txt  \n",
            "  inflating: Human_target_labelImg/train/annotations/Person60.txt  \n",
            "  inflating: Human_target_labelImg/train/annotations/Person62.txt  \n",
            "  inflating: Human_target_labelImg/train/annotations/Person63.txt  \n",
            "  inflating: Human_target_labelImg/train/annotations/Person64.txt  \n",
            "  inflating: Human_target_labelImg/train/annotations/Person66.txt  \n",
            "  inflating: Human_target_labelImg/train/annotations/Person69.txt  \n",
            "  inflating: Human_target_labelImg/train/annotations/Person70.txt  \n",
            "  inflating: Human_target_labelImg/train/annotations/Person71.txt  \n",
            "  inflating: Human_target_labelImg/train/annotations/Person72.txt  \n",
            "  inflating: Human_target_labelImg/train/annotations/Person74.txt  \n",
            "  inflating: Human_target_labelImg/train/annotations/Person75.txt  \n",
            "  inflating: Human_target_labelImg/train/annotations/Person76.txt  \n",
            "  inflating: Human_target_labelImg/train/annotations/Person78.txt  \n",
            "  inflating: Human_target_labelImg/train/annotations/Person80.txt  \n",
            "  inflating: Human_target_labelImg/train/annotations/Person81.txt  \n",
            "  inflating: Human_target_labelImg/train/annotations/Person82.txt  \n",
            "  inflating: Human_target_labelImg/train/annotations/Person83.txt  \n",
            "  inflating: Human_target_labelImg/train/annotations/Person84.txt  \n",
            "  inflating: Human_target_labelImg/train/annotations/Person85.txt  \n",
            "  inflating: Human_target_labelImg/train/annotations/Person86.txt  \n",
            "  inflating: Human_target_labelImg/train/annotations/Person87.txt  \n",
            "  inflating: Human_target_labelImg/train/annotations/Person88.txt  \n",
            "  inflating: Human_target_labelImg/train/annotations/Person89.txt  \n",
            "  inflating: Human_target_labelImg/train/annotations/Person92.txt  \n",
            "  inflating: Human_target_labelImg/train/annotations/Person93.txt  \n",
            "  inflating: Human_target_labelImg/train/annotations/Person94.txt  \n",
            "  inflating: Human_target_labelImg/train/annotations/Person95.txt  \n",
            "  inflating: Human_target_labelImg/train/annotations/Person96.txt  \n",
            "  inflating: Human_target_labelImg/train/annotations/Person97.txt  \n",
            "   creating: Human_target_labelImg/train/images/\n",
            "  inflating: Human_target_labelImg/train/images/Person0.png  \n",
            "  inflating: Human_target_labelImg/train/images/Person10.png  \n",
            "  inflating: Human_target_labelImg/train/images/Person100.png  \n",
            "  inflating: Human_target_labelImg/train/images/Person101.png  \n",
            "  inflating: Human_target_labelImg/train/images/Person105.png  \n",
            "  inflating: Human_target_labelImg/train/images/Person106.png  \n",
            "  inflating: Human_target_labelImg/train/images/Person108.png  \n",
            "  inflating: Human_target_labelImg/train/images/Person109.png  \n",
            "  inflating: Human_target_labelImg/train/images/Person11.png  \n",
            "  inflating: Human_target_labelImg/train/images/Person111.png  \n",
            "  inflating: Human_target_labelImg/train/images/Person114.png  \n",
            "  inflating: Human_target_labelImg/train/images/Person116.png  \n",
            "  inflating: Human_target_labelImg/train/images/Person119.png  \n",
            "  inflating: Human_target_labelImg/train/images/Person12.png  \n",
            "  inflating: Human_target_labelImg/train/images/Person120.png  \n",
            "  inflating: Human_target_labelImg/train/images/Person121.png  \n",
            "  inflating: Human_target_labelImg/train/images/Person122.png  \n",
            "  inflating: Human_target_labelImg/train/images/Person123.png  \n",
            "  inflating: Human_target_labelImg/train/images/Person124.png  \n",
            "  inflating: Human_target_labelImg/train/images/Person125.png  \n",
            "  inflating: Human_target_labelImg/train/images/Person127.png  \n",
            "  inflating: Human_target_labelImg/train/images/Person13.png  \n",
            "  inflating: Human_target_labelImg/train/images/Person132.png  \n",
            "  inflating: Human_target_labelImg/train/images/Person134.png  \n",
            "  inflating: Human_target_labelImg/train/images/Person135.png  \n",
            "  inflating: Human_target_labelImg/train/images/Person136.png  \n",
            "  inflating: Human_target_labelImg/train/images/Person137.png  \n",
            "  inflating: Human_target_labelImg/train/images/Person138.png  \n",
            "  inflating: Human_target_labelImg/train/images/Person139.png  \n",
            "  inflating: Human_target_labelImg/train/images/Person14.png  \n",
            "  inflating: Human_target_labelImg/train/images/Person140.png  \n",
            "  inflating: Human_target_labelImg/train/images/Person141.png  \n",
            "  inflating: Human_target_labelImg/train/images/Person145.png  \n",
            "  inflating: Human_target_labelImg/train/images/Person146.png  \n",
            "  inflating: Human_target_labelImg/train/images/Person148.png  \n",
            "  inflating: Human_target_labelImg/train/images/Person149.png  \n",
            "  inflating: Human_target_labelImg/train/images/Person15.png  \n",
            "  inflating: Human_target_labelImg/train/images/Person150.png  \n",
            "  inflating: Human_target_labelImg/train/images/Person151.png  \n",
            "  inflating: Human_target_labelImg/train/images/Person152.png  \n",
            "  inflating: Human_target_labelImg/train/images/Person153.png  \n",
            "  inflating: Human_target_labelImg/train/images/Person155.png  \n",
            "  inflating: Human_target_labelImg/train/images/Person156.png  \n",
            "  inflating: Human_target_labelImg/train/images/Person157.png  \n",
            "  inflating: Human_target_labelImg/train/images/Person158.png  \n",
            "  inflating: Human_target_labelImg/train/images/Person160.png  \n",
            "  inflating: Human_target_labelImg/train/images/Person161.png  \n",
            "  inflating: Human_target_labelImg/train/images/Person162.png  \n",
            "  inflating: Human_target_labelImg/train/images/Person163.png  \n",
            "  inflating: Human_target_labelImg/train/images/Person164.png  \n",
            "  inflating: Human_target_labelImg/train/images/Person165.png  \n",
            "  inflating: Human_target_labelImg/train/images/Person167.png  \n",
            "  inflating: Human_target_labelImg/train/images/Person168.png  \n",
            "  inflating: Human_target_labelImg/train/images/Person169.png  \n",
            "  inflating: Human_target_labelImg/train/images/Person17.png  \n",
            "  inflating: Human_target_labelImg/train/images/Person170.png  \n",
            "  inflating: Human_target_labelImg/train/images/Person171.png  \n",
            "  inflating: Human_target_labelImg/train/images/Person172.png  \n",
            "  inflating: Human_target_labelImg/train/images/Person173.png  \n",
            "  inflating: Human_target_labelImg/train/images/Person175.png  \n",
            "  inflating: Human_target_labelImg/train/images/Person176.png  \n",
            "  inflating: Human_target_labelImg/train/images/Person177.png  \n",
            "  inflating: Human_target_labelImg/train/images/Person178.png  \n",
            "  inflating: Human_target_labelImg/train/images/Person179.png  \n",
            "  inflating: Human_target_labelImg/train/images/Person18.png  \n",
            "  inflating: Human_target_labelImg/train/images/Person180.png  \n",
            "  inflating: Human_target_labelImg/train/images/Person181.png  \n",
            "  inflating: Human_target_labelImg/train/images/Person182.png  \n",
            "  inflating: Human_target_labelImg/train/images/Person183.png  \n",
            "  inflating: Human_target_labelImg/train/images/Person184.png  \n",
            "  inflating: Human_target_labelImg/train/images/Person185.png  \n",
            "  inflating: Human_target_labelImg/train/images/Person186.png  \n",
            "  inflating: Human_target_labelImg/train/images/Person189.png  \n",
            "  inflating: Human_target_labelImg/train/images/Person19.png  \n",
            "  inflating: Human_target_labelImg/train/images/Person190.png  \n",
            "  inflating: Human_target_labelImg/train/images/Person191.png  \n",
            "  inflating: Human_target_labelImg/train/images/Person193.png  \n",
            "  inflating: Human_target_labelImg/train/images/Person194.png  \n",
            "  inflating: Human_target_labelImg/train/images/Person195.png  \n",
            "  inflating: Human_target_labelImg/train/images/Person197.png  \n",
            "  inflating: Human_target_labelImg/train/images/Person199.png  \n",
            "  inflating: Human_target_labelImg/train/images/Person2.png  \n",
            "  inflating: Human_target_labelImg/train/images/Person20.png  \n",
            "  inflating: Human_target_labelImg/train/images/Person200.png  \n",
            "  inflating: Human_target_labelImg/train/images/Person25.png  \n",
            "  inflating: Human_target_labelImg/train/images/Person26.png  \n",
            "  inflating: Human_target_labelImg/train/images/Person27.png  \n",
            "  inflating: Human_target_labelImg/train/images/Person29.png  \n",
            "  inflating: Human_target_labelImg/train/images/Person3.png  \n",
            "  inflating: Human_target_labelImg/train/images/Person31.png  \n",
            "  inflating: Human_target_labelImg/train/images/Person33.png  \n",
            "  inflating: Human_target_labelImg/train/images/Person35.png  \n",
            "  inflating: Human_target_labelImg/train/images/Person39.png  \n",
            "  inflating: Human_target_labelImg/train/images/Person4.png  \n",
            "  inflating: Human_target_labelImg/train/images/Person41.png  \n",
            "  inflating: Human_target_labelImg/train/images/Person42.png  \n",
            "  inflating: Human_target_labelImg/train/images/Person45.png  \n",
            "  inflating: Human_target_labelImg/train/images/Person46.png  \n",
            "  inflating: Human_target_labelImg/train/images/Person48.png  \n",
            "  inflating: Human_target_labelImg/train/images/Person5.png  \n",
            "  inflating: Human_target_labelImg/train/images/Person50.png  \n",
            "  inflating: Human_target_labelImg/train/images/Person51.png  \n",
            "  inflating: Human_target_labelImg/train/images/Person52.png  \n",
            "  inflating: Human_target_labelImg/train/images/Person53.png  \n",
            "  inflating: Human_target_labelImg/train/images/Person54.png  \n",
            "  inflating: Human_target_labelImg/train/images/Person55.png  \n",
            "  inflating: Human_target_labelImg/train/images/Person56.png  \n",
            "  inflating: Human_target_labelImg/train/images/Person57.png  \n",
            "  inflating: Human_target_labelImg/train/images/Person58.png  \n",
            "  inflating: Human_target_labelImg/train/images/Person6.png  \n",
            "  inflating: Human_target_labelImg/train/images/Person60.png  \n",
            "  inflating: Human_target_labelImg/train/images/Person62.png  \n",
            "  inflating: Human_target_labelImg/train/images/Person63.png  \n",
            "  inflating: Human_target_labelImg/train/images/Person64.png  \n",
            "  inflating: Human_target_labelImg/train/images/Person66.png  \n",
            "  inflating: Human_target_labelImg/train/images/Person69.png  \n",
            "  inflating: Human_target_labelImg/train/images/Person70.png  \n",
            "  inflating: Human_target_labelImg/train/images/Person71.png  \n",
            "  inflating: Human_target_labelImg/train/images/Person72.png  \n",
            "  inflating: Human_target_labelImg/train/images/Person74.png  \n",
            "  inflating: Human_target_labelImg/train/images/Person75.png  \n",
            "  inflating: Human_target_labelImg/train/images/Person76.png  \n",
            "  inflating: Human_target_labelImg/train/images/Person78.png  \n",
            "  inflating: Human_target_labelImg/train/images/Person80.png  \n",
            "  inflating: Human_target_labelImg/train/images/Person81.png  \n",
            "  inflating: Human_target_labelImg/train/images/Person82.png  \n",
            "  inflating: Human_target_labelImg/train/images/Person83.png  \n",
            "  inflating: Human_target_labelImg/train/images/Person84.png  \n",
            "  inflating: Human_target_labelImg/train/images/Person85.png  \n",
            "  inflating: Human_target_labelImg/train/images/Person86.png  \n",
            "  inflating: Human_target_labelImg/train/images/Person87.png  \n",
            "  inflating: Human_target_labelImg/train/images/Person88.png  \n",
            "  inflating: Human_target_labelImg/train/images/Person89.png  \n",
            "  inflating: Human_target_labelImg/train/images/Person92.png  \n",
            "  inflating: Human_target_labelImg/train/images/Person93.png  \n",
            "  inflating: Human_target_labelImg/train/images/Person94.png  \n",
            "  inflating: Human_target_labelImg/train/images/Person95.png  \n",
            "  inflating: Human_target_labelImg/train/images/Person96.png  \n",
            "  inflating: Human_target_labelImg/train/images/Person97.png  \n",
            "   creating: Human_target_labelImg/validation/\n",
            "   creating: Human_target_labelImg/validation/annotations/\n",
            "  inflating: Human_target_labelImg/validation/annotations/Person1.txt  \n",
            "  inflating: Human_target_labelImg/validation/annotations/Person102.txt  \n",
            "  inflating: Human_target_labelImg/validation/annotations/Person103.txt  \n",
            "  inflating: Human_target_labelImg/validation/annotations/Person104.txt  \n",
            "  inflating: Human_target_labelImg/validation/annotations/Person107.txt  \n",
            "  inflating: Human_target_labelImg/validation/annotations/Person110.txt  \n",
            "  inflating: Human_target_labelImg/validation/annotations/Person112.txt  \n",
            "  inflating: Human_target_labelImg/validation/annotations/Person113.txt  \n",
            "  inflating: Human_target_labelImg/validation/annotations/Person115.txt  \n",
            "  inflating: Human_target_labelImg/validation/annotations/Person117.txt  \n",
            "  inflating: Human_target_labelImg/validation/annotations/Person118.txt  \n",
            "  inflating: Human_target_labelImg/validation/annotations/Person126.txt  \n",
            "  inflating: Human_target_labelImg/validation/annotations/Person128.txt  \n",
            "  inflating: Human_target_labelImg/validation/annotations/Person129.txt  \n",
            "  inflating: Human_target_labelImg/validation/annotations/Person130.txt  \n",
            "  inflating: Human_target_labelImg/validation/annotations/Person131.txt  \n",
            "  inflating: Human_target_labelImg/validation/annotations/Person133.txt  \n",
            "  inflating: Human_target_labelImg/validation/annotations/Person142.txt  \n",
            "  inflating: Human_target_labelImg/validation/annotations/Person143.txt  \n",
            "  inflating: Human_target_labelImg/validation/annotations/Person144.txt  \n",
            "  inflating: Human_target_labelImg/validation/annotations/Person147.txt  \n",
            "  inflating: Human_target_labelImg/validation/annotations/Person154.txt  \n",
            "  inflating: Human_target_labelImg/validation/annotations/Person159.txt  \n",
            "  inflating: Human_target_labelImg/validation/annotations/Person166.txt  \n",
            "  inflating: Human_target_labelImg/validation/annotations/Person174.txt  \n",
            "  inflating: Human_target_labelImg/validation/annotations/Person187.txt  \n",
            "  inflating: Human_target_labelImg/validation/annotations/Person188.txt  \n",
            "  inflating: Human_target_labelImg/validation/annotations/Person192.txt  \n",
            "  inflating: Human_target_labelImg/validation/annotations/Person196.txt  \n",
            "  inflating: Human_target_labelImg/validation/annotations/Person198.txt  \n",
            "  inflating: Human_target_labelImg/validation/annotations/Person21.txt  \n",
            "  inflating: Human_target_labelImg/validation/annotations/Person22.txt  \n",
            "  inflating: Human_target_labelImg/validation/annotations/Person23.txt  \n",
            "  inflating: Human_target_labelImg/validation/annotations/Person24.txt  \n",
            "  inflating: Human_target_labelImg/validation/annotations/Person28.txt  \n",
            "  inflating: Human_target_labelImg/validation/annotations/Person30.txt  \n",
            "  inflating: Human_target_labelImg/validation/annotations/Person32.txt  \n",
            "  inflating: Human_target_labelImg/validation/annotations/Person34.txt  \n",
            "  inflating: Human_target_labelImg/validation/annotations/Person36.txt  \n",
            "  inflating: Human_target_labelImg/validation/annotations/Person37.txt  \n",
            "  inflating: Human_target_labelImg/validation/annotations/Person38.txt  \n",
            "  inflating: Human_target_labelImg/validation/annotations/Person40.txt  \n",
            "  inflating: Human_target_labelImg/validation/annotations/Person43.txt  \n",
            "  inflating: Human_target_labelImg/validation/annotations/Person44.txt  \n",
            "  inflating: Human_target_labelImg/validation/annotations/Person47.txt  \n",
            "  inflating: Human_target_labelImg/validation/annotations/Person49.txt  \n",
            "  inflating: Human_target_labelImg/validation/annotations/Person59.txt  \n",
            "  inflating: Human_target_labelImg/validation/annotations/Person61.txt  \n",
            "  inflating: Human_target_labelImg/validation/annotations/Person65.txt  \n",
            "  inflating: Human_target_labelImg/validation/annotations/Person67.txt  \n",
            "  inflating: Human_target_labelImg/validation/annotations/Person68.txt  \n",
            "  inflating: Human_target_labelImg/validation/annotations/Person7.txt  \n",
            "  inflating: Human_target_labelImg/validation/annotations/Person73.txt  \n",
            "  inflating: Human_target_labelImg/validation/annotations/Person77.txt  \n",
            "  inflating: Human_target_labelImg/validation/annotations/Person79.txt  \n",
            "  inflating: Human_target_labelImg/validation/annotations/Person8.txt  \n",
            "  inflating: Human_target_labelImg/validation/annotations/Person9.txt  \n",
            "  inflating: Human_target_labelImg/validation/annotations/Person91.txt  \n",
            "  inflating: Human_target_labelImg/validation/annotations/Person98.txt  \n",
            "  inflating: Human_target_labelImg/validation/annotations/Person99.txt  \n",
            "   creating: Human_target_labelImg/validation/images/\n",
            "  inflating: Human_target_labelImg/validation/images/Person1.png  \n",
            "  inflating: Human_target_labelImg/validation/images/Person102.png  \n",
            "  inflating: Human_target_labelImg/validation/images/Person103.png  \n",
            "  inflating: Human_target_labelImg/validation/images/Person104.png  \n",
            "  inflating: Human_target_labelImg/validation/images/Person107.png  \n",
            "  inflating: Human_target_labelImg/validation/images/Person110.png  \n",
            "  inflating: Human_target_labelImg/validation/images/Person112.png  \n",
            "  inflating: Human_target_labelImg/validation/images/Person113.png  \n",
            "  inflating: Human_target_labelImg/validation/images/Person115.png  \n",
            "  inflating: Human_target_labelImg/validation/images/Person117.png  \n",
            "  inflating: Human_target_labelImg/validation/images/Person118.png  \n",
            "  inflating: Human_target_labelImg/validation/images/Person126.png  \n",
            "  inflating: Human_target_labelImg/validation/images/Person128.png  \n",
            "  inflating: Human_target_labelImg/validation/images/Person129.png  \n",
            "  inflating: Human_target_labelImg/validation/images/Person130.png  \n",
            "  inflating: Human_target_labelImg/validation/images/Person131.png  \n",
            "  inflating: Human_target_labelImg/validation/images/Person133.png  \n",
            "  inflating: Human_target_labelImg/validation/images/Person142.png  \n",
            "  inflating: Human_target_labelImg/validation/images/Person143.png  \n",
            "  inflating: Human_target_labelImg/validation/images/Person144.png  \n",
            "  inflating: Human_target_labelImg/validation/images/Person147.png  \n",
            "  inflating: Human_target_labelImg/validation/images/Person154.png  \n",
            "  inflating: Human_target_labelImg/validation/images/Person159.png  \n",
            "  inflating: Human_target_labelImg/validation/images/Person166.png  \n",
            "  inflating: Human_target_labelImg/validation/images/Person174.png  \n",
            "  inflating: Human_target_labelImg/validation/images/Person187.png  \n",
            "  inflating: Human_target_labelImg/validation/images/Person188.png  \n",
            "  inflating: Human_target_labelImg/validation/images/Person192.png  \n",
            "  inflating: Human_target_labelImg/validation/images/Person196.png  \n",
            "  inflating: Human_target_labelImg/validation/images/Person198.png  \n",
            "  inflating: Human_target_labelImg/validation/images/Person21.png  \n",
            "  inflating: Human_target_labelImg/validation/images/Person22.png  \n",
            "  inflating: Human_target_labelImg/validation/images/Person23.png  \n",
            "  inflating: Human_target_labelImg/validation/images/Person24.png  \n",
            "  inflating: Human_target_labelImg/validation/images/Person28.png  \n",
            "  inflating: Human_target_labelImg/validation/images/Person30.png  \n",
            "  inflating: Human_target_labelImg/validation/images/Person32.png  \n",
            "  inflating: Human_target_labelImg/validation/images/Person34.png  \n",
            "  inflating: Human_target_labelImg/validation/images/Person36.png  \n",
            "  inflating: Human_target_labelImg/validation/images/Person37.png  \n",
            "  inflating: Human_target_labelImg/validation/images/Person38.png  \n",
            "  inflating: Human_target_labelImg/validation/images/Person40.png  \n",
            "  inflating: Human_target_labelImg/validation/images/Person43.png  \n",
            "  inflating: Human_target_labelImg/validation/images/Person44.png  \n",
            "  inflating: Human_target_labelImg/validation/images/Person47.png  \n",
            "  inflating: Human_target_labelImg/validation/images/Person49.png  \n",
            "  inflating: Human_target_labelImg/validation/images/Person59.png  \n",
            "  inflating: Human_target_labelImg/validation/images/Person61.png  \n",
            "  inflating: Human_target_labelImg/validation/images/Person65.png  \n",
            "  inflating: Human_target_labelImg/validation/images/Person67.png  \n",
            "  inflating: Human_target_labelImg/validation/images/Person68.png  \n",
            "  inflating: Human_target_labelImg/validation/images/Person7.png  \n",
            "  inflating: Human_target_labelImg/validation/images/Person73.png  \n",
            "  inflating: Human_target_labelImg/validation/images/Person77.png  \n",
            "  inflating: Human_target_labelImg/validation/images/Person79.png  \n",
            "  inflating: Human_target_labelImg/validation/images/Person8.png  \n",
            "  inflating: Human_target_labelImg/validation/images/Person9.png  \n",
            "  inflating: Human_target_labelImg/validation/images/Person91.png  \n",
            "  inflating: Human_target_labelImg/validation/images/Person98.png  \n",
            "  inflating: Human_target_labelImg/validation/images/Person99.png  \n"
          ]
        }
      ]
    },
    {
      "cell_type": "code",
      "source": [
        "!pip install imageai"
      ],
      "metadata": {
        "colab": {
          "base_uri": "https://localhost:8080/"
        },
        "id": "9i3zm3Sj4Dar",
        "outputId": "85bc1413-19ce-496d-b2eb-31afb3c019dc"
      },
      "execution_count": null,
      "outputs": [
        {
          "output_type": "stream",
          "name": "stdout",
          "text": [
            "Requirement already satisfied: imageai in /usr/local/lib/python3.10/dist-packages (3.0.3)\n"
          ]
        }
      ]
    },
    {
      "cell_type": "code",
      "source": [
        "from imageai.Detection.Custom import DetectionModelTrainer"
      ],
      "metadata": {
        "id": "lRjU6vkLhKTS"
      },
      "execution_count": null,
      "outputs": []
    },
    {
      "cell_type": "code",
      "execution_count": null,
      "metadata": {
        "colab": {
          "base_uri": "https://localhost:8080/"
        },
        "id": "w24pYJb12Jow",
        "outputId": "ad6f087c-9af6-4e7e-9f6a-39e23ab4f3fb"
      },
      "outputs": [
        {
          "output_type": "stream",
          "name": "stdout",
          "text": [
            "Generating anchor boxes for training images...\n",
            "thr=0.25: 1.0000 best possible recall, 5.42 anchors past thr\n",
            "n=6, img_size=416, metric_all=0.534/0.857-mean/best, past_thr=0.571-mean: \n",
            "====================\n",
            "Pretrained YOLOv3 model loaded to initialize weights\n",
            "====================\n",
            "Epoch 1/200\n",
            "----------\n",
            "Train: \n"
          ]
        },
        {
          "output_type": "stream",
          "name": "stderr",
          "text": [
            "35it [00:02, 13.89it/s]\n"
          ]
        },
        {
          "output_type": "stream",
          "name": "stdout",
          "text": [
            "    box loss-> 0.07507, object loss-> 0.34216, class loss-> 0.00000\n",
            "Validation:\n"
          ]
        },
        {
          "output_type": "stream",
          "name": "stderr",
          "text": [
            "30it [00:01, 26.21it/s]\n"
          ]
        },
        {
          "output_type": "stream",
          "name": "stdout",
          "text": [
            "ok    recall: 0.083333 precision: 0.021160 mAP@0.5: 0.004470, mAP@0.5-0.95: 0.001003\n",
            "\n",
            "Epoch 2/200\n",
            "----------\n",
            "Train: \n"
          ]
        },
        {
          "output_type": "stream",
          "name": "stderr",
          "text": [
            "35it [00:02, 11.85it/s]\n"
          ]
        },
        {
          "output_type": "stream",
          "name": "stdout",
          "text": [
            "    box loss-> 0.06882, object loss-> 0.06334, class loss-> 0.00000\n",
            "Validation:\n"
          ]
        },
        {
          "output_type": "stream",
          "name": "stderr",
          "text": [
            "30it [00:01, 27.15it/s]\n"
          ]
        },
        {
          "output_type": "stream",
          "name": "stdout",
          "text": [
            "ok    recall: 0.116667 precision: 0.074280 mAP@0.5: 0.019573, mAP@0.5-0.95: 0.003706\n",
            "\n",
            "Epoch 3/200\n",
            "----------\n",
            "Train: \n"
          ]
        },
        {
          "output_type": "stream",
          "name": "stderr",
          "text": [
            "35it [00:02, 14.09it/s]\n"
          ]
        },
        {
          "output_type": "stream",
          "name": "stdout",
          "text": [
            "    box loss-> 0.06519, object loss-> 0.05698, class loss-> 0.00000\n",
            "Validation:\n"
          ]
        },
        {
          "output_type": "stream",
          "name": "stderr",
          "text": [
            "30it [00:01, 26.36it/s]\n"
          ]
        },
        {
          "output_type": "stream",
          "name": "stdout",
          "text": [
            "ok    recall: 0.116667 precision: 0.046577 mAP@0.5: 0.017374, mAP@0.5-0.95: 0.003026\n",
            "\n",
            "Epoch 4/200\n",
            "----------\n",
            "Train: \n"
          ]
        },
        {
          "output_type": "stream",
          "name": "stderr",
          "text": [
            "35it [00:02, 14.53it/s]\n"
          ]
        },
        {
          "output_type": "stream",
          "name": "stdout",
          "text": [
            "    box loss-> 0.06181, object loss-> 0.05282, class loss-> 0.00000\n",
            "Validation:\n"
          ]
        },
        {
          "output_type": "stream",
          "name": "stderr",
          "text": [
            "30it [00:01, 27.23it/s]\n"
          ]
        },
        {
          "output_type": "stream",
          "name": "stdout",
          "text": [
            "ok    recall: 0.266667 precision: 0.101028 mAP@0.5: 0.055816, mAP@0.5-0.95: 0.011268\n",
            "\n",
            "Epoch 5/200\n",
            "----------\n",
            "Train: \n"
          ]
        },
        {
          "output_type": "stream",
          "name": "stderr",
          "text": [
            "35it [00:02, 12.14it/s]\n"
          ]
        },
        {
          "output_type": "stream",
          "name": "stdout",
          "text": [
            "    box loss-> 0.05957, object loss-> 0.04890, class loss-> 0.00000\n",
            "Validation:\n"
          ]
        },
        {
          "output_type": "stream",
          "name": "stderr",
          "text": [
            "30it [00:01, 26.47it/s]\n"
          ]
        },
        {
          "output_type": "stream",
          "name": "stdout",
          "text": [
            "ok    recall: 0.250000 precision: 0.248084 mAP@0.5: 0.149252, mAP@0.5-0.95: 0.029896\n",
            "\n",
            "Epoch 6/200\n",
            "----------\n",
            "Train: \n"
          ]
        },
        {
          "output_type": "stream",
          "name": "stderr",
          "text": [
            "35it [00:02, 14.56it/s]\n"
          ]
        },
        {
          "output_type": "stream",
          "name": "stdout",
          "text": [
            "    box loss-> 0.05695, object loss-> 0.04498, class loss-> 0.00000\n",
            "Validation:\n"
          ]
        },
        {
          "output_type": "stream",
          "name": "stderr",
          "text": [
            "30it [00:01, 27.18it/s]\n"
          ]
        },
        {
          "output_type": "stream",
          "name": "stdout",
          "text": [
            "ok    recall: 0.316667 precision: 0.320558 mAP@0.5: 0.209567, mAP@0.5-0.95: 0.050077\n",
            "\n",
            "Epoch 7/200\n",
            "----------\n",
            "Train: \n"
          ]
        },
        {
          "output_type": "stream",
          "name": "stderr",
          "text": [
            "35it [00:02, 15.17it/s]\n"
          ]
        },
        {
          "output_type": "stream",
          "name": "stdout",
          "text": [
            "    box loss-> 0.05440, object loss-> 0.04129, class loss-> 0.00000\n",
            "Validation:\n"
          ]
        },
        {
          "output_type": "stream",
          "name": "stderr",
          "text": [
            "30it [00:01, 26.77it/s]\n"
          ]
        },
        {
          "output_type": "stream",
          "name": "stdout",
          "text": [
            "ok    recall: 0.299908 precision: 0.428495 mAP@0.5: 0.255355, mAP@0.5-0.95: 0.056865\n",
            "\n",
            "Epoch 8/200\n",
            "----------\n",
            "Train: \n"
          ]
        },
        {
          "output_type": "stream",
          "name": "stderr",
          "text": [
            "35it [00:02, 13.84it/s]\n"
          ]
        },
        {
          "output_type": "stream",
          "name": "stdout",
          "text": [
            "    box loss-> 0.05189, object loss-> 0.03902, class loss-> 0.00000\n",
            "Validation:\n"
          ]
        },
        {
          "output_type": "stream",
          "name": "stderr",
          "text": [
            "30it [00:01, 20.68it/s]\n"
          ]
        },
        {
          "output_type": "stream",
          "name": "stdout",
          "text": [
            "ok    recall: 0.333333 precision: 0.464164 mAP@0.5: 0.321075, mAP@0.5-0.95: 0.088123\n",
            "\n",
            "Epoch 9/200\n",
            "----------\n",
            "Train: \n"
          ]
        },
        {
          "output_type": "stream",
          "name": "stderr",
          "text": [
            "35it [00:02, 15.25it/s]\n"
          ]
        },
        {
          "output_type": "stream",
          "name": "stdout",
          "text": [
            "    box loss-> 0.04959, object loss-> 0.03726, class loss-> 0.00000\n",
            "Validation:\n"
          ]
        },
        {
          "output_type": "stream",
          "name": "stderr",
          "text": [
            "30it [00:01, 27.78it/s]\n"
          ]
        },
        {
          "output_type": "stream",
          "name": "stdout",
          "text": [
            "ok    recall: 0.466667 precision: 0.404111 mAP@0.5: 0.361074, mAP@0.5-0.95: 0.083571\n",
            "\n",
            "Epoch 10/200\n",
            "----------\n",
            "Train: \n"
          ]
        },
        {
          "output_type": "stream",
          "name": "stderr",
          "text": [
            "35it [00:02, 15.52it/s]\n"
          ]
        },
        {
          "output_type": "stream",
          "name": "stdout",
          "text": [
            "    box loss-> 0.04692, object loss-> 0.03603, class loss-> 0.00000\n",
            "Validation:\n"
          ]
        },
        {
          "output_type": "stream",
          "name": "stderr",
          "text": [
            "30it [00:01, 27.19it/s]\n"
          ]
        },
        {
          "output_type": "stream",
          "name": "stdout",
          "text": [
            "ok    recall: 0.566667 precision: 0.446880 mAP@0.5: 0.419573, mAP@0.5-0.95: 0.129459\n",
            "\n",
            "Epoch 11/200\n",
            "----------\n",
            "Train: \n"
          ]
        },
        {
          "output_type": "stream",
          "name": "stderr",
          "text": [
            "35it [00:02, 15.17it/s]\n"
          ]
        },
        {
          "output_type": "stream",
          "name": "stdout",
          "text": [
            "    box loss-> 0.04489, object loss-> 0.03520, class loss-> 0.00000\n",
            "Validation:\n"
          ]
        },
        {
          "output_type": "stream",
          "name": "stderr",
          "text": [
            "30it [00:01, 24.22it/s]\n"
          ]
        },
        {
          "output_type": "stream",
          "name": "stdout",
          "text": [
            "ok    recall: 0.600000 precision: 0.449286 mAP@0.5: 0.422974, mAP@0.5-0.95: 0.126579\n",
            "\n",
            "Epoch 12/200\n",
            "----------\n",
            "Train: \n"
          ]
        },
        {
          "output_type": "stream",
          "name": "stderr",
          "text": [
            "35it [00:02, 12.82it/s]\n"
          ]
        },
        {
          "output_type": "stream",
          "name": "stdout",
          "text": [
            "    box loss-> 0.04297, object loss-> 0.03450, class loss-> 0.00000\n",
            "Validation:\n"
          ]
        },
        {
          "output_type": "stream",
          "name": "stderr",
          "text": [
            "30it [00:01, 27.06it/s]\n"
          ]
        },
        {
          "output_type": "stream",
          "name": "stdout",
          "text": [
            "ok    recall: 0.533333 precision: 0.499394 mAP@0.5: 0.457564, mAP@0.5-0.95: 0.095811\n",
            "\n",
            "Epoch 13/200\n",
            "----------\n",
            "Train: \n"
          ]
        },
        {
          "output_type": "stream",
          "name": "stderr",
          "text": [
            "35it [00:02, 15.43it/s]\n"
          ]
        },
        {
          "output_type": "stream",
          "name": "stdout",
          "text": [
            "    box loss-> 0.04130, object loss-> 0.03352, class loss-> 0.00000\n",
            "Validation:\n"
          ]
        },
        {
          "output_type": "stream",
          "name": "stderr",
          "text": [
            "30it [00:01, 27.66it/s]\n"
          ]
        },
        {
          "output_type": "stream",
          "name": "stdout",
          "text": [
            "ok    recall: 0.550000 precision: 0.450823 mAP@0.5: 0.411682, mAP@0.5-0.95: 0.142799\n",
            "\n",
            "Epoch 14/200\n",
            "----------\n",
            "Train: \n"
          ]
        },
        {
          "output_type": "stream",
          "name": "stderr",
          "text": [
            "35it [00:02, 15.48it/s]\n"
          ]
        },
        {
          "output_type": "stream",
          "name": "stdout",
          "text": [
            "    box loss-> 0.04109, object loss-> 0.03283, class loss-> 0.00000\n",
            "Validation:\n"
          ]
        },
        {
          "output_type": "stream",
          "name": "stderr",
          "text": [
            "30it [00:01, 26.79it/s]\n"
          ]
        },
        {
          "output_type": "stream",
          "name": "stdout",
          "text": [
            "ok    recall: 0.532379 precision: 0.541921 mAP@0.5: 0.513648, mAP@0.5-0.95: 0.177604\n",
            "\n",
            "Epoch 15/200\n",
            "----------\n",
            "Train: \n"
          ]
        },
        {
          "output_type": "stream",
          "name": "stderr",
          "text": [
            "35it [00:02, 12.88it/s]\n"
          ]
        },
        {
          "output_type": "stream",
          "name": "stdout",
          "text": [
            "    box loss-> 0.03966, object loss-> 0.03170, class loss-> 0.00000\n",
            "Validation:\n"
          ]
        },
        {
          "output_type": "stream",
          "name": "stderr",
          "text": [
            "30it [00:01, 23.90it/s]\n"
          ]
        },
        {
          "output_type": "stream",
          "name": "stdout",
          "text": [
            "ok    recall: 0.478800 precision: 0.524891 mAP@0.5: 0.495279, mAP@0.5-0.95: 0.150718\n",
            "\n",
            "Epoch 16/200\n",
            "----------\n",
            "Train: \n"
          ]
        },
        {
          "output_type": "stream",
          "name": "stderr",
          "text": [
            "35it [00:02, 15.50it/s]\n"
          ]
        },
        {
          "output_type": "stream",
          "name": "stdout",
          "text": [
            "    box loss-> 0.03913, object loss-> 0.03135, class loss-> 0.00000\n",
            "Validation:\n"
          ]
        },
        {
          "output_type": "stream",
          "name": "stderr",
          "text": [
            "30it [00:01, 27.11it/s]\n"
          ]
        },
        {
          "output_type": "stream",
          "name": "stdout",
          "text": [
            "ok    recall: 0.550000 precision: 0.458188 mAP@0.5: 0.415984, mAP@0.5-0.95: 0.153575\n",
            "\n",
            "Epoch 17/200\n",
            "----------\n",
            "Train: \n"
          ]
        },
        {
          "output_type": "stream",
          "name": "stderr",
          "text": [
            "35it [00:02, 15.56it/s]\n"
          ]
        },
        {
          "output_type": "stream",
          "name": "stdout",
          "text": [
            "    box loss-> 0.03711, object loss-> 0.03041, class loss-> 0.00000\n",
            "Validation:\n"
          ]
        },
        {
          "output_type": "stream",
          "name": "stderr",
          "text": [
            "30it [00:01, 27.62it/s]\n"
          ]
        },
        {
          "output_type": "stream",
          "name": "stdout",
          "text": [
            "ok    recall: 0.600000 precision: 0.506588 mAP@0.5: 0.574269, mAP@0.5-0.95: 0.185821\n",
            "\n",
            "Epoch 18/200\n",
            "----------\n",
            "Train: \n"
          ]
        },
        {
          "output_type": "stream",
          "name": "stderr",
          "text": [
            "35it [00:02, 15.35it/s]\n"
          ]
        },
        {
          "output_type": "stream",
          "name": "stdout",
          "text": [
            "    box loss-> 0.03487, object loss-> 0.02999, class loss-> 0.00000\n",
            "Validation:\n"
          ]
        },
        {
          "output_type": "stream",
          "name": "stderr",
          "text": [
            "30it [00:01, 21.19it/s]\n"
          ]
        },
        {
          "output_type": "stream",
          "name": "stdout",
          "text": [
            "ok    recall: 0.583333 precision: 0.537941 mAP@0.5: 0.528701, mAP@0.5-0.95: 0.183008\n",
            "\n",
            "Epoch 19/200\n",
            "----------\n",
            "Train: \n"
          ]
        },
        {
          "output_type": "stream",
          "name": "stderr",
          "text": [
            "35it [00:02, 13.56it/s]\n"
          ]
        },
        {
          "output_type": "stream",
          "name": "stdout",
          "text": [
            "    box loss-> 0.03632, object loss-> 0.02912, class loss-> 0.00000\n",
            "Validation:\n"
          ]
        },
        {
          "output_type": "stream",
          "name": "stderr",
          "text": [
            "30it [00:01, 26.65it/s]\n"
          ]
        },
        {
          "output_type": "stream",
          "name": "stdout",
          "text": [
            "ok    recall: 0.583333 precision: 0.201923 mAP@0.5: 0.210942, mAP@0.5-0.95: 0.051045\n",
            "\n",
            "Epoch 20/200\n",
            "----------\n",
            "Train: \n"
          ]
        },
        {
          "output_type": "stream",
          "name": "stderr",
          "text": [
            "35it [00:02, 14.68it/s]\n"
          ]
        },
        {
          "output_type": "stream",
          "name": "stdout",
          "text": [
            "    box loss-> 0.03777, object loss-> 0.02863, class loss-> 0.00000\n",
            "Validation:\n"
          ]
        },
        {
          "output_type": "stream",
          "name": "stderr",
          "text": [
            "30it [00:01, 26.75it/s]\n"
          ]
        },
        {
          "output_type": "stream",
          "name": "stdout",
          "text": [
            "ok    recall: 0.549205 precision: 0.499633 mAP@0.5: 0.538871, mAP@0.5-0.95: 0.173166\n",
            "\n",
            "Epoch 21/200\n",
            "----------\n",
            "Train: \n"
          ]
        },
        {
          "output_type": "stream",
          "name": "stderr",
          "text": [
            "35it [00:02, 15.34it/s]\n"
          ]
        },
        {
          "output_type": "stream",
          "name": "stdout",
          "text": [
            "    box loss-> 0.03389, object loss-> 0.02756, class loss-> 0.00000\n",
            "Validation:\n"
          ]
        },
        {
          "output_type": "stream",
          "name": "stderr",
          "text": [
            "30it [00:01, 27.35it/s]\n"
          ]
        },
        {
          "output_type": "stream",
          "name": "stdout",
          "text": [
            "ok    recall: 0.600000 precision: 0.404289 mAP@0.5: 0.421218, mAP@0.5-0.95: 0.104761\n",
            "\n",
            "Epoch 22/200\n",
            "----------\n",
            "Train: \n"
          ]
        },
        {
          "output_type": "stream",
          "name": "stderr",
          "text": [
            "35it [00:02, 12.21it/s]\n"
          ]
        },
        {
          "output_type": "stream",
          "name": "stdout",
          "text": [
            "    box loss-> 0.03563, object loss-> 0.02711, class loss-> 0.00000\n",
            "Validation:\n"
          ]
        },
        {
          "output_type": "stream",
          "name": "stderr",
          "text": [
            "30it [00:01, 26.05it/s]\n"
          ]
        },
        {
          "output_type": "stream",
          "name": "stdout",
          "text": [
            "ok    recall: 0.650000 precision: 0.590326 mAP@0.5: 0.623348, mAP@0.5-0.95: 0.226379\n",
            "\n",
            "Epoch 23/200\n",
            "----------\n",
            "Train: \n"
          ]
        },
        {
          "output_type": "stream",
          "name": "stderr",
          "text": [
            "35it [00:02, 15.08it/s]\n"
          ]
        },
        {
          "output_type": "stream",
          "name": "stdout",
          "text": [
            "    box loss-> 0.02693, object loss-> 0.02582, class loss-> 0.00000\n",
            "Validation:\n"
          ]
        },
        {
          "output_type": "stream",
          "name": "stderr",
          "text": [
            "30it [00:01, 27.46it/s]\n"
          ]
        },
        {
          "output_type": "stream",
          "name": "stdout",
          "text": [
            "ok    recall: 0.533333 precision: 0.318108 mAP@0.5: 0.293489, mAP@0.5-0.95: 0.065754\n",
            "\n",
            "Epoch 24/200\n",
            "----------\n",
            "Train: \n"
          ]
        },
        {
          "output_type": "stream",
          "name": "stderr",
          "text": [
            "35it [00:02, 15.05it/s]\n"
          ]
        },
        {
          "output_type": "stream",
          "name": "stdout",
          "text": [
            "    box loss-> 0.03312, object loss-> 0.03008, class loss-> 0.00000\n",
            "Validation:\n"
          ]
        },
        {
          "output_type": "stream",
          "name": "stderr",
          "text": [
            "30it [00:01, 26.87it/s]\n"
          ]
        },
        {
          "output_type": "stream",
          "name": "stdout",
          "text": [
            "ok    recall: 0.716667 precision: 0.524081 mAP@0.5: 0.602225, mAP@0.5-0.95: 0.149146\n",
            "\n",
            "Epoch 25/200\n",
            "----------\n",
            "Train: \n"
          ]
        },
        {
          "output_type": "stream",
          "name": "stderr",
          "text": [
            "35it [00:02, 13.99it/s]\n"
          ]
        },
        {
          "output_type": "stream",
          "name": "stdout",
          "text": [
            "    box loss-> 0.03010, object loss-> 0.02594, class loss-> 0.00000\n",
            "Validation:\n"
          ]
        },
        {
          "output_type": "stream",
          "name": "stderr",
          "text": [
            "30it [00:01, 20.73it/s]\n"
          ]
        },
        {
          "output_type": "stream",
          "name": "stdout",
          "text": [
            "ok    recall: 0.583333 precision: 0.499628 mAP@0.5: 0.566518, mAP@0.5-0.95: 0.195710\n",
            "\n",
            "Epoch 26/200\n",
            "----------\n",
            "Train: \n"
          ]
        },
        {
          "output_type": "stream",
          "name": "stderr",
          "text": [
            "35it [00:02, 15.19it/s]\n"
          ]
        },
        {
          "output_type": "stream",
          "name": "stdout",
          "text": [
            "    box loss-> 0.03256, object loss-> 0.02685, class loss-> 0.00000\n",
            "Validation:\n"
          ]
        },
        {
          "output_type": "stream",
          "name": "stderr",
          "text": [
            "30it [00:01, 26.25it/s]\n"
          ]
        },
        {
          "output_type": "stream",
          "name": "stdout",
          "text": [
            "ok    recall: 0.600000 precision: 0.495083 mAP@0.5: 0.543513, mAP@0.5-0.95: 0.137521\n",
            "\n",
            "Epoch 27/200\n",
            "----------\n",
            "Train: \n"
          ]
        },
        {
          "output_type": "stream",
          "name": "stderr",
          "text": [
            "35it [00:02, 15.54it/s]\n"
          ]
        },
        {
          "output_type": "stream",
          "name": "stdout",
          "text": [
            "    box loss-> 0.03066, object loss-> 0.02630, class loss-> 0.00000\n",
            "Validation:\n"
          ]
        },
        {
          "output_type": "stream",
          "name": "stderr",
          "text": [
            "30it [00:01, 27.52it/s]\n"
          ]
        },
        {
          "output_type": "stream",
          "name": "stdout",
          "text": [
            "ok    recall: 0.600000 precision: 0.443862 mAP@0.5: 0.459617, mAP@0.5-0.95: 0.138862\n",
            "\n",
            "Epoch 28/200\n",
            "----------\n",
            "Train: \n"
          ]
        },
        {
          "output_type": "stream",
          "name": "stderr",
          "text": [
            "35it [00:02, 15.62it/s]\n"
          ]
        },
        {
          "output_type": "stream",
          "name": "stdout",
          "text": [
            "    box loss-> 0.03049, object loss-> 0.02470, class loss-> 0.00000\n",
            "Validation:\n"
          ]
        },
        {
          "output_type": "stream",
          "name": "stderr",
          "text": [
            "30it [00:01, 25.75it/s]\n"
          ]
        },
        {
          "output_type": "stream",
          "name": "stdout",
          "text": [
            "ok    recall: 0.583333 precision: 0.471745 mAP@0.5: 0.555617, mAP@0.5-0.95: 0.138309\n",
            "\n",
            "Epoch 29/200\n",
            "----------\n",
            "Train: \n"
          ]
        },
        {
          "output_type": "stream",
          "name": "stderr",
          "text": [
            "35it [00:02, 12.55it/s]\n"
          ]
        },
        {
          "output_type": "stream",
          "name": "stdout",
          "text": [
            "    box loss-> 0.03611, object loss-> 0.02462, class loss-> 0.00000\n",
            "Validation:\n"
          ]
        },
        {
          "output_type": "stream",
          "name": "stderr",
          "text": [
            "30it [00:01, 27.46it/s]\n"
          ]
        },
        {
          "output_type": "stream",
          "name": "stdout",
          "text": [
            "ok    recall: 0.633333 precision: 0.446741 mAP@0.5: 0.482161, mAP@0.5-0.95: 0.138121\n",
            "\n",
            "Epoch 30/200\n",
            "----------\n",
            "Train: \n"
          ]
        },
        {
          "output_type": "stream",
          "name": "stderr",
          "text": [
            "35it [00:02, 15.53it/s]\n"
          ]
        },
        {
          "output_type": "stream",
          "name": "stdout",
          "text": [
            "    box loss-> 0.02830, object loss-> 0.02477, class loss-> 0.00000\n",
            "Validation:\n"
          ]
        },
        {
          "output_type": "stream",
          "name": "stderr",
          "text": [
            "30it [00:01, 27.29it/s]\n"
          ]
        },
        {
          "output_type": "stream",
          "name": "stdout",
          "text": [
            "ok    recall: 0.715142 precision: 0.456913 mAP@0.5: 0.506727, mAP@0.5-0.95: 0.129457\n",
            "\n",
            "Epoch 31/200\n",
            "----------\n",
            "Train: \n"
          ]
        },
        {
          "output_type": "stream",
          "name": "stderr",
          "text": [
            "35it [00:02, 15.45it/s]\n"
          ]
        },
        {
          "output_type": "stream",
          "name": "stdout",
          "text": [
            "    box loss-> 0.02803, object loss-> 0.02358, class loss-> 0.00000\n",
            "Validation:\n"
          ]
        },
        {
          "output_type": "stream",
          "name": "stderr",
          "text": [
            "30it [00:01, 27.18it/s]\n"
          ]
        },
        {
          "output_type": "stream",
          "name": "stdout",
          "text": [
            "ok    recall: 0.633333 precision: 0.612690 mAP@0.5: 0.638151, mAP@0.5-0.95: 0.149220\n",
            "\n",
            "Epoch 32/200\n",
            "----------\n",
            "Train: \n"
          ]
        },
        {
          "output_type": "stream",
          "name": "stderr",
          "text": [
            "35it [00:02, 13.50it/s]\n"
          ]
        },
        {
          "output_type": "stream",
          "name": "stdout",
          "text": [
            "    box loss-> 0.02626, object loss-> 0.02368, class loss-> 0.00000\n",
            "Validation:\n"
          ]
        },
        {
          "output_type": "stream",
          "name": "stderr",
          "text": [
            "30it [00:01, 22.21it/s]\n"
          ]
        },
        {
          "output_type": "stream",
          "name": "stdout",
          "text": [
            "ok    recall: 0.733333 precision: 0.505233 mAP@0.5: 0.601953, mAP@0.5-0.95: 0.194043\n",
            "\n",
            "Epoch 33/200\n",
            "----------\n",
            "Train: \n"
          ]
        },
        {
          "output_type": "stream",
          "name": "stderr",
          "text": [
            "35it [00:02, 15.58it/s]\n"
          ]
        },
        {
          "output_type": "stream",
          "name": "stdout",
          "text": [
            "    box loss-> 0.02169, object loss-> 0.02155, class loss-> 0.00000\n",
            "Validation:\n"
          ]
        },
        {
          "output_type": "stream",
          "name": "stderr",
          "text": [
            "30it [00:01, 27.58it/s]\n"
          ]
        },
        {
          "output_type": "stream",
          "name": "stdout",
          "text": [
            "ok    recall: 0.766667 precision: 0.534424 mAP@0.5: 0.645978, mAP@0.5-0.95: 0.193138\n",
            "\n",
            "Epoch 34/200\n",
            "----------\n",
            "Train: \n"
          ]
        },
        {
          "output_type": "stream",
          "name": "stderr",
          "text": [
            "35it [00:02, 15.46it/s]\n"
          ]
        },
        {
          "output_type": "stream",
          "name": "stdout",
          "text": [
            "    box loss-> 0.02275, object loss-> 0.02151, class loss-> 0.00000\n",
            "Validation:\n"
          ]
        },
        {
          "output_type": "stream",
          "name": "stderr",
          "text": [
            "30it [00:01, 26.88it/s]\n"
          ]
        },
        {
          "output_type": "stream",
          "name": "stdout",
          "text": [
            "ok    recall: 0.698854 precision: 0.403448 mAP@0.5: 0.472604, mAP@0.5-0.95: 0.147933\n",
            "\n",
            "Epoch 35/200\n",
            "----------\n",
            "Train: \n"
          ]
        },
        {
          "output_type": "stream",
          "name": "stderr",
          "text": [
            "35it [00:02, 15.38it/s]\n"
          ]
        },
        {
          "output_type": "stream",
          "name": "stdout",
          "text": [
            "    box loss-> 0.02574, object loss-> 0.02310, class loss-> 0.00000\n",
            "Validation:\n"
          ]
        },
        {
          "output_type": "stream",
          "name": "stderr",
          "text": [
            "30it [00:01, 22.76it/s]\n"
          ]
        },
        {
          "output_type": "stream",
          "name": "stdout",
          "text": [
            "ok    recall: 0.682116 precision: 0.585276 mAP@0.5: 0.615863, mAP@0.5-0.95: 0.218639\n",
            "\n",
            "Epoch 36/200\n",
            "----------\n",
            "Train: \n"
          ]
        },
        {
          "output_type": "stream",
          "name": "stderr",
          "text": [
            "35it [00:02, 13.02it/s]\n"
          ]
        },
        {
          "output_type": "stream",
          "name": "stdout",
          "text": [
            "    box loss-> 0.02469, object loss-> 0.02125, class loss-> 0.00000\n",
            "Validation:\n"
          ]
        },
        {
          "output_type": "stream",
          "name": "stderr",
          "text": [
            "30it [00:01, 25.03it/s]\n"
          ]
        },
        {
          "output_type": "stream",
          "name": "stdout",
          "text": [
            "ok    recall: 0.750000 precision: 0.548385 mAP@0.5: 0.658353, mAP@0.5-0.95: 0.192896\n",
            "\n",
            "Epoch 37/200\n",
            "----------\n",
            "Train: \n"
          ]
        },
        {
          "output_type": "stream",
          "name": "stderr",
          "text": [
            "35it [00:02, 15.49it/s]\n"
          ]
        },
        {
          "output_type": "stream",
          "name": "stdout",
          "text": [
            "    box loss-> 0.02139, object loss-> 0.01973, class loss-> 0.00000\n",
            "Validation:\n"
          ]
        },
        {
          "output_type": "stream",
          "name": "stderr",
          "text": [
            "30it [00:01, 27.06it/s]\n"
          ]
        },
        {
          "output_type": "stream",
          "name": "stdout",
          "text": [
            "ok    recall: 0.666667 precision: 0.596521 mAP@0.5: 0.640336, mAP@0.5-0.95: 0.225783\n",
            "\n",
            "Epoch 38/200\n",
            "----------\n",
            "Train: \n"
          ]
        },
        {
          "output_type": "stream",
          "name": "stderr",
          "text": [
            "35it [00:02, 15.20it/s]\n"
          ]
        },
        {
          "output_type": "stream",
          "name": "stdout",
          "text": [
            "    box loss-> 0.01838, object loss-> 0.01866, class loss-> 0.00000\n",
            "Validation:\n"
          ]
        },
        {
          "output_type": "stream",
          "name": "stderr",
          "text": [
            "30it [00:01, 27.30it/s]\n"
          ]
        },
        {
          "output_type": "stream",
          "name": "stdout",
          "text": [
            "ok    recall: 0.616667 precision: 0.636180 mAP@0.5: 0.623468, mAP@0.5-0.95: 0.162176\n",
            "\n",
            "Epoch 39/200\n",
            "----------\n",
            "Train: \n"
          ]
        },
        {
          "output_type": "stream",
          "name": "stderr",
          "text": [
            "35it [00:02, 12.35it/s]\n"
          ]
        },
        {
          "output_type": "stream",
          "name": "stdout",
          "text": [
            "    box loss-> 0.01950, object loss-> 0.01891, class loss-> 0.00000\n",
            "Validation:\n"
          ]
        },
        {
          "output_type": "stream",
          "name": "stderr",
          "text": [
            "30it [00:01, 26.56it/s]\n"
          ]
        },
        {
          "output_type": "stream",
          "name": "stdout",
          "text": [
            "ok    recall: 0.748705 precision: 0.691934 mAP@0.5: 0.715202, mAP@0.5-0.95: 0.225995\n",
            "\n",
            "Epoch 40/200\n",
            "----------\n",
            "Train: \n"
          ]
        },
        {
          "output_type": "stream",
          "name": "stderr",
          "text": [
            "35it [00:02, 14.93it/s]\n"
          ]
        },
        {
          "output_type": "stream",
          "name": "stdout",
          "text": [
            "    box loss-> 0.02630, object loss-> 0.02106, class loss-> 0.00000\n",
            "Validation:\n"
          ]
        },
        {
          "output_type": "stream",
          "name": "stderr",
          "text": [
            "30it [00:01, 27.32it/s]\n"
          ]
        },
        {
          "output_type": "stream",
          "name": "stdout",
          "text": [
            "ok    recall: 0.614342 precision: 0.615761 mAP@0.5: 0.637520, mAP@0.5-0.95: 0.226096\n",
            "\n",
            "Epoch 41/200\n",
            "----------\n",
            "Train: \n"
          ]
        },
        {
          "output_type": "stream",
          "name": "stderr",
          "text": [
            "35it [00:02, 15.16it/s]\n"
          ]
        },
        {
          "output_type": "stream",
          "name": "stdout",
          "text": [
            "    box loss-> 0.02146, object loss-> 0.02090, class loss-> 0.00000\n",
            "Validation:\n"
          ]
        },
        {
          "output_type": "stream",
          "name": "stderr",
          "text": [
            "30it [00:01, 27.05it/s]\n"
          ]
        },
        {
          "output_type": "stream",
          "name": "stdout",
          "text": [
            "ok    recall: 0.616667 precision: 0.407501 mAP@0.5: 0.449344, mAP@0.5-0.95: 0.137823\n",
            "\n",
            "Epoch 42/200\n",
            "----------\n",
            "Train: \n"
          ]
        },
        {
          "output_type": "stream",
          "name": "stderr",
          "text": [
            "35it [00:02, 14.88it/s]\n"
          ]
        },
        {
          "output_type": "stream",
          "name": "stdout",
          "text": [
            "    box loss-> 0.02188, object loss-> 0.01953, class loss-> 0.00000\n",
            "Validation:\n"
          ]
        },
        {
          "output_type": "stream",
          "name": "stderr",
          "text": [
            "30it [00:01, 20.59it/s]\n"
          ]
        },
        {
          "output_type": "stream",
          "name": "stdout",
          "text": [
            "ok    recall: 0.663205 precision: 0.554255 mAP@0.5: 0.630410, mAP@0.5-0.95: 0.178168\n",
            "\n",
            "Epoch 43/200\n",
            "----------\n",
            "Train: \n"
          ]
        },
        {
          "output_type": "stream",
          "name": "stderr",
          "text": [
            "35it [00:02, 14.72it/s]\n"
          ]
        },
        {
          "output_type": "stream",
          "name": "stdout",
          "text": [
            "    box loss-> 0.01786, object loss-> 0.01829, class loss-> 0.00000\n",
            "Validation:\n"
          ]
        },
        {
          "output_type": "stream",
          "name": "stderr",
          "text": [
            "30it [00:01, 26.93it/s]\n"
          ]
        },
        {
          "output_type": "stream",
          "name": "stdout",
          "text": [
            "ok    recall: 0.800000 precision: 0.557227 mAP@0.5: 0.707724, mAP@0.5-0.95: 0.240574\n",
            "\n",
            "Epoch 44/200\n",
            "----------\n",
            "Train: \n"
          ]
        },
        {
          "output_type": "stream",
          "name": "stderr",
          "text": [
            "35it [00:02, 15.45it/s]\n"
          ]
        },
        {
          "output_type": "stream",
          "name": "stdout",
          "text": [
            "    box loss-> 0.01809, object loss-> 0.01834, class loss-> 0.00000\n",
            "Validation:\n"
          ]
        },
        {
          "output_type": "stream",
          "name": "stderr",
          "text": [
            "30it [00:01, 26.66it/s]\n"
          ]
        },
        {
          "output_type": "stream",
          "name": "stdout",
          "text": [
            "ok    recall: 0.566667 precision: 0.470619 mAP@0.5: 0.508706, mAP@0.5-0.95: 0.164040\n",
            "\n",
            "Epoch 45/200\n",
            "----------\n",
            "Train: \n"
          ]
        },
        {
          "output_type": "stream",
          "name": "stderr",
          "text": [
            "35it [00:02, 15.18it/s]\n"
          ]
        },
        {
          "output_type": "stream",
          "name": "stdout",
          "text": [
            "    box loss-> 0.02058, object loss-> 0.01974, class loss-> 0.00000\n",
            "Validation:\n"
          ]
        },
        {
          "output_type": "stream",
          "name": "stderr",
          "text": [
            "30it [00:01, 26.67it/s]\n"
          ]
        },
        {
          "output_type": "stream",
          "name": "stdout",
          "text": [
            "ok    recall: 0.650000 precision: 0.671013 mAP@0.5: 0.683995, mAP@0.5-0.95: 0.237510\n",
            "\n",
            "Epoch 46/200\n",
            "----------\n",
            "Train: \n"
          ]
        },
        {
          "output_type": "stream",
          "name": "stderr",
          "text": [
            "35it [00:02, 12.17it/s]\n"
          ]
        },
        {
          "output_type": "stream",
          "name": "stdout",
          "text": [
            "    box loss-> 0.02128, object loss-> 0.01870, class loss-> 0.00000\n",
            "Validation:\n"
          ]
        },
        {
          "output_type": "stream",
          "name": "stderr",
          "text": [
            "30it [00:01, 27.24it/s]\n"
          ]
        },
        {
          "output_type": "stream",
          "name": "stdout",
          "text": [
            "ok    recall: 0.550000 precision: 0.464367 mAP@0.5: 0.532743, mAP@0.5-0.95: 0.113887\n",
            "\n",
            "Epoch 47/200\n",
            "----------\n",
            "Train: \n"
          ]
        },
        {
          "output_type": "stream",
          "name": "stderr",
          "text": [
            "35it [00:02, 15.66it/s]\n"
          ]
        },
        {
          "output_type": "stream",
          "name": "stdout",
          "text": [
            "    box loss-> 0.02457, object loss-> 0.02117, class loss-> 0.00000\n",
            "Validation:\n"
          ]
        },
        {
          "output_type": "stream",
          "name": "stderr",
          "text": [
            "30it [00:01, 27.14it/s]\n"
          ]
        },
        {
          "output_type": "stream",
          "name": "stdout",
          "text": [
            "ok    recall: 0.765679 precision: 0.540853 mAP@0.5: 0.665960, mAP@0.5-0.95: 0.209311\n",
            "\n",
            "Epoch 48/200\n",
            "----------\n",
            "Train: \n"
          ]
        },
        {
          "output_type": "stream",
          "name": "stderr",
          "text": [
            "35it [00:02, 15.14it/s]\n"
          ]
        },
        {
          "output_type": "stream",
          "name": "stdout",
          "text": [
            "    box loss-> 0.01652, object loss-> 0.01659, class loss-> 0.00000\n",
            "Validation:\n"
          ]
        },
        {
          "output_type": "stream",
          "name": "stderr",
          "text": [
            "30it [00:01, 27.04it/s]\n"
          ]
        },
        {
          "output_type": "stream",
          "name": "stdout",
          "text": [
            "ok    recall: 0.683333 precision: 0.566949 mAP@0.5: 0.647352, mAP@0.5-0.95: 0.231242\n",
            "\n",
            "Epoch 49/200\n",
            "----------\n",
            "Train: \n"
          ]
        },
        {
          "output_type": "stream",
          "name": "stderr",
          "text": [
            "35it [00:02, 13.74it/s]\n"
          ]
        },
        {
          "output_type": "stream",
          "name": "stdout",
          "text": [
            "    box loss-> 0.01665, object loss-> 0.01662, class loss-> 0.00000\n",
            "Validation:\n"
          ]
        },
        {
          "output_type": "stream",
          "name": "stderr",
          "text": [
            "30it [00:01, 21.24it/s]\n"
          ]
        },
        {
          "output_type": "stream",
          "name": "stdout",
          "text": [
            "ok    recall: 0.566550 precision: 0.607093 mAP@0.5: 0.618134, mAP@0.5-0.95: 0.196419\n",
            "\n",
            "Epoch 50/200\n",
            "----------\n",
            "Train: \n"
          ]
        },
        {
          "output_type": "stream",
          "name": "stderr",
          "text": [
            "35it [00:02, 15.30it/s]\n"
          ]
        },
        {
          "output_type": "stream",
          "name": "stdout",
          "text": [
            "    box loss-> 0.01943, object loss-> 0.01814, class loss-> 0.00000\n",
            "Validation:\n"
          ]
        },
        {
          "output_type": "stream",
          "name": "stderr",
          "text": [
            "30it [00:01, 27.39it/s]\n"
          ]
        },
        {
          "output_type": "stream",
          "name": "stdout",
          "text": [
            "ok    recall: 0.733333 precision: 0.517396 mAP@0.5: 0.624497, mAP@0.5-0.95: 0.207601\n",
            "\n",
            "Epoch 51/200\n",
            "----------\n",
            "Train: \n"
          ]
        },
        {
          "output_type": "stream",
          "name": "stderr",
          "text": [
            "35it [00:02, 15.53it/s]\n"
          ]
        },
        {
          "output_type": "stream",
          "name": "stdout",
          "text": [
            "    box loss-> 0.02495, object loss-> 0.02111, class loss-> 0.00000\n",
            "Validation:\n"
          ]
        },
        {
          "output_type": "stream",
          "name": "stderr",
          "text": [
            "30it [00:01, 27.16it/s]\n"
          ]
        },
        {
          "output_type": "stream",
          "name": "stdout",
          "text": [
            "ok    recall: 0.731491 precision: 0.549370 mAP@0.5: 0.658813, mAP@0.5-0.95: 0.213721\n",
            "\n",
            "Epoch 52/200\n",
            "----------\n",
            "Train: \n"
          ]
        },
        {
          "output_type": "stream",
          "name": "stderr",
          "text": [
            "35it [00:02, 15.47it/s]\n"
          ]
        },
        {
          "output_type": "stream",
          "name": "stdout",
          "text": [
            "    box loss-> 0.01521, object loss-> 0.01655, class loss-> 0.00000\n",
            "Validation:\n"
          ]
        },
        {
          "output_type": "stream",
          "name": "stderr",
          "text": [
            "30it [00:01, 23.07it/s]\n"
          ]
        },
        {
          "output_type": "stream",
          "name": "stdout",
          "text": [
            "ok    recall: 0.698035 precision: 0.599317 mAP@0.5: 0.649264, mAP@0.5-0.95: 0.192359\n",
            "\n",
            "Epoch 53/200\n",
            "----------\n",
            "Train: \n"
          ]
        },
        {
          "output_type": "stream",
          "name": "stderr",
          "text": [
            "35it [00:02, 12.45it/s]\n"
          ]
        },
        {
          "output_type": "stream",
          "name": "stdout",
          "text": [
            "    box loss-> 0.01642, object loss-> 0.01641, class loss-> 0.00000\n",
            "Validation:\n"
          ]
        },
        {
          "output_type": "stream",
          "name": "stderr",
          "text": [
            "30it [00:01, 26.52it/s]\n"
          ]
        },
        {
          "output_type": "stream",
          "name": "stdout",
          "text": [
            "ok    recall: 0.666667 precision: 0.579208 mAP@0.5: 0.638234, mAP@0.5-0.95: 0.193188\n",
            "\n",
            "Epoch 54/200\n",
            "----------\n",
            "Train: \n"
          ]
        },
        {
          "output_type": "stream",
          "name": "stderr",
          "text": [
            "35it [00:02, 15.46it/s]\n"
          ]
        },
        {
          "output_type": "stream",
          "name": "stdout",
          "text": [
            "    box loss-> 0.01717, object loss-> 0.01654, class loss-> 0.00000\n",
            "Validation:\n"
          ]
        },
        {
          "output_type": "stream",
          "name": "stderr",
          "text": [
            "30it [00:01, 27.72it/s]\n"
          ]
        },
        {
          "output_type": "stream",
          "name": "stdout",
          "text": [
            "ok    recall: 0.649289 precision: 0.649747 mAP@0.5: 0.678088, mAP@0.5-0.95: 0.188462\n",
            "\n",
            "Epoch 55/200\n",
            "----------\n",
            "Train: \n"
          ]
        },
        {
          "output_type": "stream",
          "name": "stderr",
          "text": [
            "35it [00:02, 15.77it/s]\n"
          ]
        },
        {
          "output_type": "stream",
          "name": "stdout",
          "text": [
            "    box loss-> 0.01965, object loss-> 0.01755, class loss-> 0.00000\n",
            "Validation:\n"
          ]
        },
        {
          "output_type": "stream",
          "name": "stderr",
          "text": [
            "30it [00:01, 27.49it/s]\n"
          ]
        },
        {
          "output_type": "stream",
          "name": "stdout",
          "text": [
            "ok    recall: 0.699632 precision: 0.567437 mAP@0.5: 0.644854, mAP@0.5-0.95: 0.211040\n",
            "\n",
            "Epoch 56/200\n",
            "----------\n",
            "Train: \n"
          ]
        },
        {
          "output_type": "stream",
          "name": "stderr",
          "text": [
            "35it [00:02, 12.82it/s]\n"
          ]
        },
        {
          "output_type": "stream",
          "name": "stdout",
          "text": [
            "    box loss-> 0.02208, object loss-> 0.01873, class loss-> 0.00000\n",
            "Validation:\n"
          ]
        },
        {
          "output_type": "stream",
          "name": "stderr",
          "text": [
            "30it [00:01, 22.85it/s]\n"
          ]
        },
        {
          "output_type": "stream",
          "name": "stdout",
          "text": [
            "ok    recall: 0.683333 precision: 0.576570 mAP@0.5: 0.600893, mAP@0.5-0.95: 0.192251\n",
            "\n",
            "Epoch 57/200\n",
            "----------\n",
            "Train: \n"
          ]
        },
        {
          "output_type": "stream",
          "name": "stderr",
          "text": [
            "35it [00:02, 15.34it/s]\n"
          ]
        },
        {
          "output_type": "stream",
          "name": "stdout",
          "text": [
            "    box loss-> 0.01805, object loss-> 0.01730, class loss-> 0.00000\n",
            "Validation:\n"
          ]
        },
        {
          "output_type": "stream",
          "name": "stderr",
          "text": [
            "30it [00:01, 27.08it/s]\n"
          ]
        },
        {
          "output_type": "stream",
          "name": "stdout",
          "text": [
            "ok    recall: 0.631636 precision: 0.575093 mAP@0.5: 0.618494, mAP@0.5-0.95: 0.189272\n",
            "\n",
            "Epoch 58/200\n",
            "----------\n",
            "Train: \n"
          ]
        },
        {
          "output_type": "stream",
          "name": "stderr",
          "text": [
            "35it [00:02, 15.48it/s]\n"
          ]
        },
        {
          "output_type": "stream",
          "name": "stdout",
          "text": [
            "    box loss-> 0.01638, object loss-> 0.01668, class loss-> 0.00000\n",
            "Validation:\n"
          ]
        },
        {
          "output_type": "stream",
          "name": "stderr",
          "text": [
            "30it [00:01, 27.77it/s]\n"
          ]
        },
        {
          "output_type": "stream",
          "name": "stdout",
          "text": [
            "ok    recall: 0.599999 precision: 0.590164 mAP@0.5: 0.586510, mAP@0.5-0.95: 0.188976\n",
            "\n",
            "Epoch 59/200\n",
            "----------\n",
            "Train: \n"
          ]
        },
        {
          "output_type": "stream",
          "name": "stderr",
          "text": [
            "35it [00:02, 15.51it/s]\n"
          ]
        },
        {
          "output_type": "stream",
          "name": "stdout",
          "text": [
            "    box loss-> 0.01435, object loss-> 0.01538, class loss-> 0.00000\n",
            "Validation:\n"
          ]
        },
        {
          "output_type": "stream",
          "name": "stderr",
          "text": [
            "30it [00:01, 21.23it/s]\n"
          ]
        },
        {
          "output_type": "stream",
          "name": "stdout",
          "text": [
            "ok    recall: 0.650000 precision: 0.638713 mAP@0.5: 0.641951, mAP@0.5-0.95: 0.196362\n",
            "\n",
            "Epoch 60/200\n",
            "----------\n",
            "Train: \n"
          ]
        },
        {
          "output_type": "stream",
          "name": "stderr",
          "text": [
            "35it [00:02, 13.52it/s]\n"
          ]
        },
        {
          "output_type": "stream",
          "name": "stdout",
          "text": [
            "    box loss-> 0.01383, object loss-> 0.01488, class loss-> 0.00000\n",
            "Validation:\n"
          ]
        },
        {
          "output_type": "stream",
          "name": "stderr",
          "text": [
            "30it [00:01, 27.12it/s]\n"
          ]
        },
        {
          "output_type": "stream",
          "name": "stdout",
          "text": [
            "ok    recall: 0.666667 precision: 0.595674 mAP@0.5: 0.635390, mAP@0.5-0.95: 0.212686\n",
            "\n",
            "Epoch 61/200\n",
            "----------\n",
            "Train: \n"
          ]
        },
        {
          "output_type": "stream",
          "name": "stderr",
          "text": [
            "35it [00:02, 15.15it/s]\n"
          ]
        },
        {
          "output_type": "stream",
          "name": "stdout",
          "text": [
            "    box loss-> 0.01632, object loss-> 0.01654, class loss-> 0.00000\n",
            "Validation:\n"
          ]
        },
        {
          "output_type": "stream",
          "name": "stderr",
          "text": [
            "30it [00:01, 27.26it/s]\n"
          ]
        },
        {
          "output_type": "stream",
          "name": "stdout",
          "text": [
            "ok    recall: 0.748897 precision: 0.607753 mAP@0.5: 0.667113, mAP@0.5-0.95: 0.206266\n",
            "\n",
            "Epoch 62/200\n",
            "----------\n",
            "Train: \n"
          ]
        },
        {
          "output_type": "stream",
          "name": "stderr",
          "text": [
            "35it [00:02, 15.43it/s]\n"
          ]
        },
        {
          "output_type": "stream",
          "name": "stdout",
          "text": [
            "    box loss-> 0.01472, object loss-> 0.01521, class loss-> 0.00000\n",
            "Validation:\n"
          ]
        },
        {
          "output_type": "stream",
          "name": "stderr",
          "text": [
            "30it [00:01, 26.02it/s]\n"
          ]
        },
        {
          "output_type": "stream",
          "name": "stdout",
          "text": [
            "ok    recall: 0.633333 precision: 0.566752 mAP@0.5: 0.614752, mAP@0.5-0.95: 0.176899\n",
            "\n",
            "Epoch 63/200\n",
            "----------\n",
            "Train: \n"
          ]
        },
        {
          "output_type": "stream",
          "name": "stderr",
          "text": [
            "35it [00:02, 12.22it/s]\n"
          ]
        },
        {
          "output_type": "stream",
          "name": "stdout",
          "text": [
            "    box loss-> 0.01612, object loss-> 0.01580, class loss-> 0.00000\n",
            "Validation:\n"
          ]
        },
        {
          "output_type": "stream",
          "name": "stderr",
          "text": [
            "30it [00:01, 26.12it/s]\n"
          ]
        },
        {
          "output_type": "stream",
          "name": "stdout",
          "text": [
            "ok    recall: 0.716667 precision: 0.612459 mAP@0.5: 0.655906, mAP@0.5-0.95: 0.193903\n",
            "\n",
            "Epoch 64/200\n",
            "----------\n",
            "Train: \n"
          ]
        },
        {
          "output_type": "stream",
          "name": "stderr",
          "text": [
            "35it [00:02, 15.25it/s]\n"
          ]
        },
        {
          "output_type": "stream",
          "name": "stdout",
          "text": [
            "    box loss-> 0.01501, object loss-> 0.01536, class loss-> 0.00000\n",
            "Validation:\n"
          ]
        },
        {
          "output_type": "stream",
          "name": "stderr",
          "text": [
            "30it [00:01, 26.36it/s]\n"
          ]
        },
        {
          "output_type": "stream",
          "name": "stdout",
          "text": [
            "ok    recall: 0.699899 precision: 0.538425 mAP@0.5: 0.614751, mAP@0.5-0.95: 0.196253\n",
            "\n",
            "Epoch 65/200\n",
            "----------\n",
            "Train: \n"
          ]
        },
        {
          "output_type": "stream",
          "name": "stderr",
          "text": [
            "35it [00:02, 15.35it/s]\n"
          ]
        },
        {
          "output_type": "stream",
          "name": "stdout",
          "text": [
            "    box loss-> 0.01437, object loss-> 0.01489, class loss-> 0.00000\n",
            "Validation:\n"
          ]
        },
        {
          "output_type": "stream",
          "name": "stderr",
          "text": [
            "30it [00:01, 26.98it/s]\n"
          ]
        },
        {
          "output_type": "stream",
          "name": "stdout",
          "text": [
            "ok    recall: 0.633333 precision: 0.671489 mAP@0.5: 0.682041, mAP@0.5-0.95: 0.202583\n",
            "\n",
            "Epoch 66/200\n",
            "----------\n",
            "Train: \n"
          ]
        },
        {
          "output_type": "stream",
          "name": "stderr",
          "text": [
            "35it [00:02, 14.28it/s]\n"
          ]
        },
        {
          "output_type": "stream",
          "name": "stdout",
          "text": [
            "    box loss-> 0.01526, object loss-> 0.01567, class loss-> 0.00000\n",
            "Validation:\n"
          ]
        },
        {
          "output_type": "stream",
          "name": "stderr",
          "text": [
            "30it [00:01, 20.37it/s]\n"
          ]
        },
        {
          "output_type": "stream",
          "name": "stdout",
          "text": [
            "ok    recall: 0.698747 precision: 0.559553 mAP@0.5: 0.636234, mAP@0.5-0.95: 0.206860\n",
            "\n",
            "Epoch 67/200\n",
            "----------\n",
            "Train: \n"
          ]
        },
        {
          "output_type": "stream",
          "name": "stderr",
          "text": [
            "35it [00:02, 14.89it/s]\n"
          ]
        },
        {
          "output_type": "stream",
          "name": "stdout",
          "text": [
            "    box loss-> 0.01628, object loss-> 0.01589, class loss-> 0.00000\n",
            "Validation:\n"
          ]
        },
        {
          "output_type": "stream",
          "name": "stderr",
          "text": [
            "30it [00:01, 26.40it/s]\n"
          ]
        },
        {
          "output_type": "stream",
          "name": "stdout",
          "text": [
            "ok    recall: 0.783168 precision: 0.559471 mAP@0.5: 0.677995, mAP@0.5-0.95: 0.219940\n",
            "\n",
            "Epoch 68/200\n",
            "----------\n",
            "Train: \n"
          ]
        },
        {
          "output_type": "stream",
          "name": "stderr",
          "text": [
            "35it [00:02, 15.36it/s]\n"
          ]
        },
        {
          "output_type": "stream",
          "name": "stdout",
          "text": [
            "    box loss-> 0.01450, object loss-> 0.01565, class loss-> 0.00000\n",
            "Validation:\n"
          ]
        },
        {
          "output_type": "stream",
          "name": "stderr",
          "text": [
            "30it [00:01, 27.02it/s]\n"
          ]
        },
        {
          "output_type": "stream",
          "name": "stdout",
          "text": [
            "ok    recall: 0.681514 precision: 0.531796 mAP@0.5: 0.628198, mAP@0.5-0.95: 0.195537\n",
            "\n",
            "Epoch 69/200\n",
            "----------\n",
            "Train: \n"
          ]
        },
        {
          "output_type": "stream",
          "name": "stderr",
          "text": [
            "35it [00:02, 15.40it/s]\n"
          ]
        },
        {
          "output_type": "stream",
          "name": "stdout",
          "text": [
            "    box loss-> 0.01440, object loss-> 0.01550, class loss-> 0.00000\n",
            "Validation:\n"
          ]
        },
        {
          "output_type": "stream",
          "name": "stderr",
          "text": [
            "30it [00:01, 23.33it/s]\n"
          ]
        },
        {
          "output_type": "stream",
          "name": "stdout",
          "text": [
            "ok    recall: 0.616667 precision: 0.659278 mAP@0.5: 0.651023, mAP@0.5-0.95: 0.229031\n",
            "\n",
            "Epoch 70/200\n",
            "----------\n",
            "Train: \n"
          ]
        },
        {
          "output_type": "stream",
          "name": "stderr",
          "text": [
            "35it [00:02, 12.39it/s]\n"
          ]
        },
        {
          "output_type": "stream",
          "name": "stdout",
          "text": [
            "    box loss-> 0.01241, object loss-> 0.01395, class loss-> 0.00000\n",
            "Validation:\n"
          ]
        },
        {
          "output_type": "stream",
          "name": "stderr",
          "text": [
            "30it [00:01, 26.76it/s]\n"
          ]
        },
        {
          "output_type": "stream",
          "name": "stdout",
          "text": [
            "ok    recall: 0.733333 precision: 0.584566 mAP@0.5: 0.682281, mAP@0.5-0.95: 0.214469\n",
            "\n",
            "Epoch 71/200\n",
            "----------\n",
            "Train: \n"
          ]
        },
        {
          "output_type": "stream",
          "name": "stderr",
          "text": [
            "35it [00:02, 15.00it/s]\n"
          ]
        },
        {
          "output_type": "stream",
          "name": "stdout",
          "text": [
            "    box loss-> 0.01334, object loss-> 0.01465, class loss-> 0.00000\n",
            "Validation:\n"
          ]
        },
        {
          "output_type": "stream",
          "name": "stderr",
          "text": [
            "30it [00:01, 26.09it/s]\n"
          ]
        },
        {
          "output_type": "stream",
          "name": "stdout",
          "text": [
            "ok    recall: 0.716667 precision: 0.565450 mAP@0.5: 0.647602, mAP@0.5-0.95: 0.191240\n",
            "\n",
            "Epoch 72/200\n",
            "----------\n",
            "Train: \n"
          ]
        },
        {
          "output_type": "stream",
          "name": "stderr",
          "text": [
            "35it [00:02, 15.21it/s]\n"
          ]
        },
        {
          "output_type": "stream",
          "name": "stdout",
          "text": [
            "    box loss-> 0.01617, object loss-> 0.01657, class loss-> 0.00000\n",
            "Validation:\n"
          ]
        },
        {
          "output_type": "stream",
          "name": "stderr",
          "text": [
            "30it [00:01, 26.84it/s]\n"
          ]
        },
        {
          "output_type": "stream",
          "name": "stdout",
          "text": [
            "ok    recall: 0.700000 precision: 0.511223 mAP@0.5: 0.634484, mAP@0.5-0.95: 0.209723\n",
            "\n",
            "Epoch 73/200\n",
            "----------\n",
            "Train: \n"
          ]
        },
        {
          "output_type": "stream",
          "name": "stderr",
          "text": [
            "35it [00:02, 12.74it/s]\n"
          ]
        },
        {
          "output_type": "stream",
          "name": "stdout",
          "text": [
            "    box loss-> 0.01381, object loss-> 0.01444, class loss-> 0.00000\n",
            "Validation:\n"
          ]
        },
        {
          "output_type": "stream",
          "name": "stderr",
          "text": [
            "30it [00:01, 23.56it/s]\n"
          ]
        },
        {
          "output_type": "stream",
          "name": "stdout",
          "text": [
            "ok    recall: 0.766667 precision: 0.504886 mAP@0.5: 0.642654, mAP@0.5-0.95: 0.212103\n",
            "\n",
            "Epoch 74/200\n",
            "----------\n",
            "Train: \n"
          ]
        },
        {
          "output_type": "stream",
          "name": "stderr",
          "text": [
            "35it [00:02, 15.47it/s]\n"
          ]
        },
        {
          "output_type": "stream",
          "name": "stdout",
          "text": [
            "    box loss-> 0.01311, object loss-> 0.01425, class loss-> 0.00000\n",
            "Validation:\n"
          ]
        },
        {
          "output_type": "stream",
          "name": "stderr",
          "text": [
            "30it [00:01, 27.56it/s]\n"
          ]
        },
        {
          "output_type": "stream",
          "name": "stdout",
          "text": [
            "ok    recall: 0.733333 precision: 0.586527 mAP@0.5: 0.653625, mAP@0.5-0.95: 0.211182\n",
            "\n",
            "Epoch 75/200\n",
            "----------\n",
            "Train: \n"
          ]
        },
        {
          "output_type": "stream",
          "name": "stderr",
          "text": [
            "35it [00:02, 15.69it/s]\n"
          ]
        },
        {
          "output_type": "stream",
          "name": "stdout",
          "text": [
            "    box loss-> 0.01255, object loss-> 0.01470, class loss-> 0.00000\n",
            "Validation:\n"
          ]
        },
        {
          "output_type": "stream",
          "name": "stderr",
          "text": [
            "30it [00:01, 27.44it/s]\n"
          ]
        },
        {
          "output_type": "stream",
          "name": "stdout",
          "text": [
            "ok    recall: 0.783333 precision: 0.521513 mAP@0.5: 0.640224, mAP@0.5-0.95: 0.186595\n",
            "\n",
            "Epoch 76/200\n",
            "----------\n",
            "Train: \n"
          ]
        },
        {
          "output_type": "stream",
          "name": "stderr",
          "text": [
            "35it [00:02, 15.38it/s]\n"
          ]
        },
        {
          "output_type": "stream",
          "name": "stdout",
          "text": [
            "    box loss-> 0.01532, object loss-> 0.01669, class loss-> 0.00000\n",
            "Validation:\n"
          ]
        },
        {
          "output_type": "stream",
          "name": "stderr",
          "text": [
            "30it [00:01, 20.90it/s]\n"
          ]
        },
        {
          "output_type": "stream",
          "name": "stdout",
          "text": [
            "ok    recall: 0.633333 precision: 0.643868 mAP@0.5: 0.642988, mAP@0.5-0.95: 0.187153\n",
            "\n",
            "Epoch 77/200\n",
            "----------\n",
            "Train: \n"
          ]
        },
        {
          "output_type": "stream",
          "name": "stderr",
          "text": [
            "35it [00:02, 13.18it/s]\n"
          ]
        },
        {
          "output_type": "stream",
          "name": "stdout",
          "text": [
            "    box loss-> 0.01653, object loss-> 0.01739, class loss-> 0.00000\n",
            "Validation:\n"
          ]
        },
        {
          "output_type": "stream",
          "name": "stderr",
          "text": [
            "30it [00:01, 26.48it/s]\n"
          ]
        },
        {
          "output_type": "stream",
          "name": "stdout",
          "text": [
            "ok    recall: 0.747230 precision: 0.528481 mAP@0.5: 0.617640, mAP@0.5-0.95: 0.199584\n",
            "\n",
            "Epoch 78/200\n",
            "----------\n",
            "Train: \n"
          ]
        },
        {
          "output_type": "stream",
          "name": "stderr",
          "text": [
            "35it [00:02, 15.22it/s]\n"
          ]
        },
        {
          "output_type": "stream",
          "name": "stdout",
          "text": [
            "    box loss-> 0.01268, object loss-> 0.01450, class loss-> 0.00000\n",
            "Validation:\n"
          ]
        },
        {
          "output_type": "stream",
          "name": "stderr",
          "text": [
            "30it [00:01, 26.01it/s]\n"
          ]
        },
        {
          "output_type": "stream",
          "name": "stdout",
          "text": [
            "ok    recall: 0.766667 precision: 0.597202 mAP@0.5: 0.691588, mAP@0.5-0.95: 0.218315\n",
            "\n",
            "Epoch 79/200\n",
            "----------\n",
            "Train: \n"
          ]
        },
        {
          "output_type": "stream",
          "name": "stderr",
          "text": [
            "35it [00:02, 14.97it/s]\n"
          ]
        },
        {
          "output_type": "stream",
          "name": "stdout",
          "text": [
            "    box loss-> 0.01258, object loss-> 0.01419, class loss-> 0.00000\n",
            "Validation:\n"
          ]
        },
        {
          "output_type": "stream",
          "name": "stderr",
          "text": [
            "30it [00:01, 27.09it/s]\n"
          ]
        },
        {
          "output_type": "stream",
          "name": "stdout",
          "text": [
            "ok    recall: 0.716667 precision: 0.549675 mAP@0.5: 0.641488, mAP@0.5-0.95: 0.199036\n",
            "\n",
            "Epoch 80/200\n",
            "----------\n",
            "Train: \n"
          ]
        },
        {
          "output_type": "stream",
          "name": "stderr",
          "text": [
            "35it [00:02, 12.30it/s]\n"
          ]
        },
        {
          "output_type": "stream",
          "name": "stdout",
          "text": [
            "    box loss-> 0.01291, object loss-> 0.01416, class loss-> 0.00000\n",
            "Validation:\n"
          ]
        },
        {
          "output_type": "stream",
          "name": "stderr",
          "text": [
            "30it [00:01, 26.84it/s]\n"
          ]
        },
        {
          "output_type": "stream",
          "name": "stdout",
          "text": [
            "ok    recall: 0.783333 precision: 0.564665 mAP@0.5: 0.654235, mAP@0.5-0.95: 0.206289\n",
            "\n",
            "Epoch 81/200\n",
            "----------\n",
            "Train: \n"
          ]
        },
        {
          "output_type": "stream",
          "name": "stderr",
          "text": [
            "35it [00:02, 15.46it/s]\n"
          ]
        },
        {
          "output_type": "stream",
          "name": "stdout",
          "text": [
            "    box loss-> 0.01370, object loss-> 0.01418, class loss-> 0.00000\n",
            "Validation:\n"
          ]
        },
        {
          "output_type": "stream",
          "name": "stderr",
          "text": [
            "30it [00:01, 27.11it/s]\n"
          ]
        },
        {
          "output_type": "stream",
          "name": "stdout",
          "text": [
            "ok    recall: 0.666667 precision: 0.624278 mAP@0.5: 0.651395, mAP@0.5-0.95: 0.196968\n",
            "\n",
            "Epoch 82/200\n",
            "----------\n",
            "Train: \n"
          ]
        },
        {
          "output_type": "stream",
          "name": "stderr",
          "text": [
            "35it [00:02, 15.39it/s]\n"
          ]
        },
        {
          "output_type": "stream",
          "name": "stdout",
          "text": [
            "    box loss-> 0.01606, object loss-> 0.01529, class loss-> 0.00000\n",
            "Validation:\n"
          ]
        },
        {
          "output_type": "stream",
          "name": "stderr",
          "text": [
            "30it [00:01, 27.58it/s]\n"
          ]
        },
        {
          "output_type": "stream",
          "name": "stdout",
          "text": [
            "ok    recall: 0.800000 precision: 0.489221 mAP@0.5: 0.613999, mAP@0.5-0.95: 0.174047\n",
            "\n",
            "Epoch 83/200\n",
            "----------\n",
            "Train: \n"
          ]
        },
        {
          "output_type": "stream",
          "name": "stderr",
          "text": [
            "35it [00:02, 14.56it/s]\n"
          ]
        },
        {
          "output_type": "stream",
          "name": "stdout",
          "text": [
            "    box loss-> 0.01826, object loss-> 0.01687, class loss-> 0.00000\n",
            "Validation:\n"
          ]
        },
        {
          "output_type": "stream",
          "name": "stderr",
          "text": [
            "30it [00:01, 20.48it/s]\n"
          ]
        },
        {
          "output_type": "stream",
          "name": "stdout",
          "text": [
            "ok    recall: 0.699964 precision: 0.518505 mAP@0.5: 0.621718, mAP@0.5-0.95: 0.193486\n",
            "\n",
            "Epoch 84/200\n",
            "----------\n",
            "Train: \n"
          ]
        },
        {
          "output_type": "stream",
          "name": "stderr",
          "text": [
            "35it [00:02, 15.04it/s]\n"
          ]
        },
        {
          "output_type": "stream",
          "name": "stdout",
          "text": [
            "    box loss-> 0.01323, object loss-> 0.01383, class loss-> 0.00000\n",
            "Validation:\n"
          ]
        },
        {
          "output_type": "stream",
          "name": "stderr",
          "text": [
            "30it [00:01, 27.00it/s]\n"
          ]
        },
        {
          "output_type": "stream",
          "name": "stdout",
          "text": [
            "ok    recall: 0.766667 precision: 0.516484 mAP@0.5: 0.632206, mAP@0.5-0.95: 0.188554\n",
            "\n",
            "Epoch 85/200\n",
            "----------\n",
            "Train: \n"
          ]
        },
        {
          "output_type": "stream",
          "name": "stderr",
          "text": [
            "35it [00:02, 15.10it/s]\n"
          ]
        },
        {
          "output_type": "stream",
          "name": "stdout",
          "text": [
            "    box loss-> 0.01207, object loss-> 0.01315, class loss-> 0.00000\n",
            "Validation:\n"
          ]
        },
        {
          "output_type": "stream",
          "name": "stderr",
          "text": [
            "30it [00:01, 27.30it/s]\n"
          ]
        },
        {
          "output_type": "stream",
          "name": "stdout",
          "text": [
            "ok    recall: 0.710944 precision: 0.542298 mAP@0.5: 0.626640, mAP@0.5-0.95: 0.212524\n",
            "\n",
            "Epoch 86/200\n",
            "----------\n",
            "Train: \n"
          ]
        },
        {
          "output_type": "stream",
          "name": "stderr",
          "text": [
            "35it [00:02, 14.65it/s]\n"
          ]
        },
        {
          "output_type": "stream",
          "name": "stdout",
          "text": [
            "    box loss-> 0.00951, object loss-> 0.01166, class loss-> 0.00000\n",
            "Validation:\n"
          ]
        },
        {
          "output_type": "stream",
          "name": "stderr",
          "text": [
            "30it [00:01, 24.07it/s]\n"
          ]
        },
        {
          "output_type": "stream",
          "name": "stdout",
          "text": [
            "ok    recall: 0.700000 precision: 0.588833 mAP@0.5: 0.670309, mAP@0.5-0.95: 0.225881\n",
            "\n",
            "Epoch 87/200\n",
            "----------\n",
            "Train: \n"
          ]
        },
        {
          "output_type": "stream",
          "name": "stderr",
          "text": [
            "35it [00:02, 12.62it/s]\n"
          ]
        },
        {
          "output_type": "stream",
          "name": "stdout",
          "text": [
            "    box loss-> 0.01010, object loss-> 0.01219, class loss-> 0.00000\n",
            "Validation:\n"
          ]
        },
        {
          "output_type": "stream",
          "name": "stderr",
          "text": [
            "30it [00:01, 27.17it/s]\n"
          ]
        },
        {
          "output_type": "stream",
          "name": "stdout",
          "text": [
            "ok    recall: 0.633333 precision: 0.654346 mAP@0.5: 0.659994, mAP@0.5-0.95: 0.225132\n",
            "\n",
            "Epoch 88/200\n",
            "----------\n",
            "Train: \n"
          ]
        },
        {
          "output_type": "stream",
          "name": "stderr",
          "text": [
            "35it [00:02, 15.58it/s]\n"
          ]
        },
        {
          "output_type": "stream",
          "name": "stdout",
          "text": [
            "    box loss-> 0.01276, object loss-> 0.01374, class loss-> 0.00000\n",
            "Validation:\n"
          ]
        },
        {
          "output_type": "stream",
          "name": "stderr",
          "text": [
            "30it [00:01, 27.45it/s]\n"
          ]
        },
        {
          "output_type": "stream",
          "name": "stdout",
          "text": [
            "ok    recall: 0.716667 precision: 0.569191 mAP@0.5: 0.668251, mAP@0.5-0.95: 0.217550\n",
            "\n",
            "Epoch 89/200\n",
            "----------\n",
            "Train: \n"
          ]
        },
        {
          "output_type": "stream",
          "name": "stderr",
          "text": [
            "35it [00:02, 15.45it/s]\n"
          ]
        },
        {
          "output_type": "stream",
          "name": "stdout",
          "text": [
            "    box loss-> 0.01309, object loss-> 0.01345, class loss-> 0.00000\n",
            "Validation:\n"
          ]
        },
        {
          "output_type": "stream",
          "name": "stderr",
          "text": [
            "30it [00:01, 27.48it/s]\n"
          ]
        },
        {
          "output_type": "stream",
          "name": "stdout",
          "text": [
            "ok    recall: 0.725365 precision: 0.561396 mAP@0.5: 0.653545, mAP@0.5-0.95: 0.216929\n",
            "\n",
            "Epoch 90/200\n",
            "----------\n",
            "Train: \n"
          ]
        },
        {
          "output_type": "stream",
          "name": "stderr",
          "text": [
            "35it [00:02, 12.70it/s]\n"
          ]
        },
        {
          "output_type": "stream",
          "name": "stdout",
          "text": [
            "    box loss-> 0.01163, object loss-> 0.01289, class loss-> 0.00000\n",
            "Validation:\n"
          ]
        },
        {
          "output_type": "stream",
          "name": "stderr",
          "text": [
            "30it [00:01, 21.60it/s]\n"
          ]
        },
        {
          "output_type": "stream",
          "name": "stdout",
          "text": [
            "ok    recall: 0.750000 precision: 0.546648 mAP@0.5: 0.648970, mAP@0.5-0.95: 0.210751\n",
            "\n",
            "Epoch 91/200\n",
            "----------\n",
            "Train: \n"
          ]
        },
        {
          "output_type": "stream",
          "name": "stderr",
          "text": [
            "35it [00:02, 15.47it/s]\n"
          ]
        },
        {
          "output_type": "stream",
          "name": "stdout",
          "text": [
            "    box loss-> 0.01031, object loss-> 0.01225, class loss-> 0.00000\n",
            "Validation:\n"
          ]
        },
        {
          "output_type": "stream",
          "name": "stderr",
          "text": [
            "30it [00:01, 26.74it/s]\n"
          ]
        },
        {
          "output_type": "stream",
          "name": "stdout",
          "text": [
            "ok    recall: 0.716667 precision: 0.596262 mAP@0.5: 0.686616, mAP@0.5-0.95: 0.223047\n",
            "\n",
            "Epoch 92/200\n",
            "----------\n",
            "Train: \n"
          ]
        },
        {
          "output_type": "stream",
          "name": "stderr",
          "text": [
            "35it [00:02, 15.47it/s]\n"
          ]
        },
        {
          "output_type": "stream",
          "name": "stdout",
          "text": [
            "    box loss-> 0.00994, object loss-> 0.01189, class loss-> 0.00000\n",
            "Validation:\n"
          ]
        },
        {
          "output_type": "stream",
          "name": "stderr",
          "text": [
            "30it [00:01, 26.94it/s]\n"
          ]
        },
        {
          "output_type": "stream",
          "name": "stdout",
          "text": [
            "ok    recall: 0.779219 precision: 0.532769 mAP@0.5: 0.658877, mAP@0.5-0.95: 0.215905\n",
            "\n",
            "Epoch 93/200\n",
            "----------\n",
            "Train: \n"
          ]
        },
        {
          "output_type": "stream",
          "name": "stderr",
          "text": [
            "35it [00:02, 15.12it/s]\n"
          ]
        },
        {
          "output_type": "stream",
          "name": "stdout",
          "text": [
            "    box loss-> 0.01262, object loss-> 0.01356, class loss-> 0.00000\n",
            "Validation:\n"
          ]
        },
        {
          "output_type": "stream",
          "name": "stderr",
          "text": [
            "30it [00:01, 22.16it/s]\n"
          ]
        },
        {
          "output_type": "stream",
          "name": "stdout",
          "text": [
            "ok    recall: 0.733333 precision: 0.511254 mAP@0.5: 0.631656, mAP@0.5-0.95: 0.207915\n",
            "\n",
            "Epoch 94/200\n",
            "----------\n",
            "Train: \n"
          ]
        },
        {
          "output_type": "stream",
          "name": "stderr",
          "text": [
            "35it [00:02, 13.35it/s]\n"
          ]
        },
        {
          "output_type": "stream",
          "name": "stdout",
          "text": [
            "    box loss-> 0.01272, object loss-> 0.01327, class loss-> 0.00000\n",
            "Validation:\n"
          ]
        },
        {
          "output_type": "stream",
          "name": "stderr",
          "text": [
            "30it [00:01, 26.48it/s]\n"
          ]
        },
        {
          "output_type": "stream",
          "name": "stdout",
          "text": [
            "ok    recall: 0.716376 precision: 0.588941 mAP@0.5: 0.666091, mAP@0.5-0.95: 0.216910\n",
            "\n",
            "Epoch 95/200\n",
            "----------\n",
            "Train: \n"
          ]
        },
        {
          "output_type": "stream",
          "name": "stderr",
          "text": [
            "35it [00:02, 14.72it/s]\n"
          ]
        },
        {
          "output_type": "stream",
          "name": "stdout",
          "text": [
            "    box loss-> 0.01274, object loss-> 0.01383, class loss-> 0.00000\n",
            "Validation:\n"
          ]
        },
        {
          "output_type": "stream",
          "name": "stderr",
          "text": [
            "30it [00:01, 27.22it/s]\n"
          ]
        },
        {
          "output_type": "stream",
          "name": "stdout",
          "text": [
            "ok    recall: 0.783333 precision: 0.521420 mAP@0.5: 0.657717, mAP@0.5-0.95: 0.214554\n",
            "\n",
            "Epoch 96/200\n",
            "----------\n",
            "Train: \n"
          ]
        },
        {
          "output_type": "stream",
          "name": "stderr",
          "text": [
            "35it [00:02, 15.60it/s]\n"
          ]
        },
        {
          "output_type": "stream",
          "name": "stdout",
          "text": [
            "    box loss-> 0.01046, object loss-> 0.01231, class loss-> 0.00000\n",
            "Validation:\n"
          ]
        },
        {
          "output_type": "stream",
          "name": "stderr",
          "text": [
            "30it [00:01, 27.77it/s]\n"
          ]
        },
        {
          "output_type": "stream",
          "name": "stdout",
          "text": [
            "ok    recall: 0.799356 precision: 0.557939 mAP@0.5: 0.676445, mAP@0.5-0.95: 0.215310\n",
            "\n",
            "Epoch 97/200\n",
            "----------\n",
            "Train: \n"
          ]
        },
        {
          "output_type": "stream",
          "name": "stderr",
          "text": [
            "35it [00:02, 12.68it/s]\n"
          ]
        },
        {
          "output_type": "stream",
          "name": "stdout",
          "text": [
            "    box loss-> 0.00923, object loss-> 0.01139, class loss-> 0.00000\n",
            "Validation:\n"
          ]
        },
        {
          "output_type": "stream",
          "name": "stderr",
          "text": [
            "30it [00:01, 25.06it/s]\n"
          ]
        },
        {
          "output_type": "stream",
          "name": "stdout",
          "text": [
            "ok    recall: 0.732517 precision: 0.549721 mAP@0.5: 0.668509, mAP@0.5-0.95: 0.209616\n",
            "\n",
            "Epoch 98/200\n",
            "----------\n",
            "Train: \n"
          ]
        },
        {
          "output_type": "stream",
          "name": "stderr",
          "text": [
            "35it [00:02, 15.40it/s]\n"
          ]
        },
        {
          "output_type": "stream",
          "name": "stdout",
          "text": [
            "    box loss-> 0.00997, object loss-> 0.01198, class loss-> 0.00000\n",
            "Validation:\n"
          ]
        },
        {
          "output_type": "stream",
          "name": "stderr",
          "text": [
            "30it [00:01, 26.63it/s]\n"
          ]
        },
        {
          "output_type": "stream",
          "name": "stdout",
          "text": [
            "ok    recall: 0.616667 precision: 0.648313 mAP@0.5: 0.693785, mAP@0.5-0.95: 0.207180\n",
            "\n",
            "Epoch 99/200\n",
            "----------\n",
            "Train: \n"
          ]
        },
        {
          "output_type": "stream",
          "name": "stderr",
          "text": [
            "35it [00:02, 15.08it/s]\n"
          ]
        },
        {
          "output_type": "stream",
          "name": "stdout",
          "text": [
            "    box loss-> 0.01075, object loss-> 0.01283, class loss-> 0.00000\n",
            "Validation:\n"
          ]
        },
        {
          "output_type": "stream",
          "name": "stderr",
          "text": [
            "30it [00:01, 26.90it/s]\n"
          ]
        },
        {
          "output_type": "stream",
          "name": "stdout",
          "text": [
            "ok    recall: 0.783333 precision: 0.572858 mAP@0.5: 0.698084, mAP@0.5-0.95: 0.210527\n",
            "\n",
            "Epoch 100/200\n",
            "----------\n",
            "Train: \n"
          ]
        },
        {
          "output_type": "stream",
          "name": "stderr",
          "text": [
            "35it [00:02, 15.10it/s]\n"
          ]
        },
        {
          "output_type": "stream",
          "name": "stdout",
          "text": [
            "    box loss-> 0.00946, object loss-> 0.01093, class loss-> 0.00000\n",
            "Validation:\n"
          ]
        },
        {
          "output_type": "stream",
          "name": "stderr",
          "text": [
            "30it [00:01, 20.06it/s]\n"
          ]
        },
        {
          "output_type": "stream",
          "name": "stdout",
          "text": [
            "ok    recall: 0.633333 precision: 0.632049 mAP@0.5: 0.703006, mAP@0.5-0.95: 0.237028\n",
            "\n",
            "Epoch 101/200\n",
            "----------\n",
            "Train: \n"
          ]
        },
        {
          "output_type": "stream",
          "name": "stderr",
          "text": [
            "35it [00:02, 14.28it/s]\n"
          ]
        },
        {
          "output_type": "stream",
          "name": "stdout",
          "text": [
            "    box loss-> 0.00968, object loss-> 0.01128, class loss-> 0.00000\n",
            "Validation:\n"
          ]
        },
        {
          "output_type": "stream",
          "name": "stderr",
          "text": [
            "30it [00:01, 26.87it/s]\n"
          ]
        },
        {
          "output_type": "stream",
          "name": "stdout",
          "text": [
            "ok    recall: 0.700000 precision: 0.581857 mAP@0.5: 0.675092, mAP@0.5-0.95: 0.220374\n",
            "\n",
            "Epoch 102/200\n",
            "----------\n",
            "Train: \n"
          ]
        },
        {
          "output_type": "stream",
          "name": "stderr",
          "text": [
            "35it [00:02, 15.06it/s]\n"
          ]
        },
        {
          "output_type": "stream",
          "name": "stdout",
          "text": [
            "    box loss-> 0.00887, object loss-> 0.01109, class loss-> 0.00000\n",
            "Validation:\n"
          ]
        },
        {
          "output_type": "stream",
          "name": "stderr",
          "text": [
            "30it [00:01, 25.14it/s]\n"
          ]
        },
        {
          "output_type": "stream",
          "name": "stdout",
          "text": [
            "ok    recall: 0.783333 precision: 0.558549 mAP@0.5: 0.709501, mAP@0.5-0.95: 0.227518\n",
            "\n",
            "Epoch 103/200\n",
            "----------\n",
            "Train: \n"
          ]
        },
        {
          "output_type": "stream",
          "name": "stderr",
          "text": [
            "35it [00:02, 14.68it/s]\n"
          ]
        },
        {
          "output_type": "stream",
          "name": "stdout",
          "text": [
            "    box loss-> 0.00943, object loss-> 0.01171, class loss-> 0.00000\n",
            "Validation:\n"
          ]
        },
        {
          "output_type": "stream",
          "name": "stderr",
          "text": [
            "30it [00:01, 25.11it/s]\n"
          ]
        },
        {
          "output_type": "stream",
          "name": "stdout",
          "text": [
            "ok    recall: 0.730839 precision: 0.556112 mAP@0.5: 0.658939, mAP@0.5-0.95: 0.210228\n",
            "\n",
            "Epoch 104/200\n",
            "----------\n",
            "Train: \n"
          ]
        },
        {
          "output_type": "stream",
          "name": "stderr",
          "text": [
            "35it [00:02, 12.38it/s]\n"
          ]
        },
        {
          "output_type": "stream",
          "name": "stdout",
          "text": [
            "    box loss-> 0.01115, object loss-> 0.01310, class loss-> 0.00000\n",
            "Validation:\n"
          ]
        },
        {
          "output_type": "stream",
          "name": "stderr",
          "text": [
            "30it [00:01, 26.40it/s]\n"
          ]
        },
        {
          "output_type": "stream",
          "name": "stdout",
          "text": [
            "ok    recall: 0.699930 precision: 0.531621 mAP@0.5: 0.641126, mAP@0.5-0.95: 0.214884\n",
            "\n",
            "Epoch 105/200\n",
            "----------\n",
            "Train: \n"
          ]
        },
        {
          "output_type": "stream",
          "name": "stderr",
          "text": [
            "35it [00:02, 15.18it/s]\n"
          ]
        },
        {
          "output_type": "stream",
          "name": "stdout",
          "text": [
            "    box loss-> 0.00994, object loss-> 0.01161, class loss-> 0.00000\n",
            "Validation:\n"
          ]
        },
        {
          "output_type": "stream",
          "name": "stderr",
          "text": [
            "30it [00:01, 27.02it/s]\n"
          ]
        },
        {
          "output_type": "stream",
          "name": "stdout",
          "text": [
            "ok    recall: 0.716667 precision: 0.548963 mAP@0.5: 0.665425, mAP@0.5-0.95: 0.230508\n",
            "\n",
            "Epoch 106/200\n",
            "----------\n",
            "Train: \n"
          ]
        },
        {
          "output_type": "stream",
          "name": "stderr",
          "text": [
            "35it [00:02, 15.51it/s]\n"
          ]
        },
        {
          "output_type": "stream",
          "name": "stdout",
          "text": [
            "    box loss-> 0.00986, object loss-> 0.01146, class loss-> 0.00000\n",
            "Validation:\n"
          ]
        },
        {
          "output_type": "stream",
          "name": "stderr",
          "text": [
            "30it [00:01, 27.49it/s]\n"
          ]
        },
        {
          "output_type": "stream",
          "name": "stdout",
          "text": [
            "ok    recall: 0.716382 precision: 0.558342 mAP@0.5: 0.669042, mAP@0.5-0.95: 0.228057\n",
            "\n",
            "Epoch 107/200\n",
            "----------\n",
            "Train: \n"
          ]
        },
        {
          "output_type": "stream",
          "name": "stderr",
          "text": [
            "35it [00:02, 13.04it/s]\n"
          ]
        },
        {
          "output_type": "stream",
          "name": "stdout",
          "text": [
            "    box loss-> 0.00865, object loss-> 0.01072, class loss-> 0.00000\n",
            "Validation:\n"
          ]
        },
        {
          "output_type": "stream",
          "name": "stderr",
          "text": [
            "30it [00:01, 21.76it/s]\n"
          ]
        },
        {
          "output_type": "stream",
          "name": "stdout",
          "text": [
            "ok    recall: 0.683333 precision: 0.512253 mAP@0.5: 0.623263, mAP@0.5-0.95: 0.201981\n",
            "\n",
            "Epoch 108/200\n",
            "----------\n",
            "Train: \n"
          ]
        },
        {
          "output_type": "stream",
          "name": "stderr",
          "text": [
            "35it [00:02, 15.56it/s]\n"
          ]
        },
        {
          "output_type": "stream",
          "name": "stdout",
          "text": [
            "    box loss-> 0.00860, object loss-> 0.01100, class loss-> 0.00000\n",
            "Validation:\n"
          ]
        },
        {
          "output_type": "stream",
          "name": "stderr",
          "text": [
            "30it [00:01, 27.28it/s]\n"
          ]
        },
        {
          "output_type": "stream",
          "name": "stdout",
          "text": [
            "ok    recall: 0.733333 precision: 0.517287 mAP@0.5: 0.653477, mAP@0.5-0.95: 0.223529\n",
            "\n",
            "Epoch 109/200\n",
            "----------\n",
            "Train: \n"
          ]
        },
        {
          "output_type": "stream",
          "name": "stderr",
          "text": [
            "35it [00:02, 15.32it/s]\n"
          ]
        },
        {
          "output_type": "stream",
          "name": "stdout",
          "text": [
            "    box loss-> 0.01062, object loss-> 0.01268, class loss-> 0.00000\n",
            "Validation:\n"
          ]
        },
        {
          "output_type": "stream",
          "name": "stderr",
          "text": [
            "30it [00:01, 26.08it/s]\n"
          ]
        },
        {
          "output_type": "stream",
          "name": "stdout",
          "text": [
            "ok    recall: 0.693420 precision: 0.536095 mAP@0.5: 0.646093, mAP@0.5-0.95: 0.211481\n",
            "\n",
            "Epoch 110/200\n",
            "----------\n",
            "Train: \n"
          ]
        },
        {
          "output_type": "stream",
          "name": "stderr",
          "text": [
            "35it [00:02, 14.98it/s]\n"
          ]
        },
        {
          "output_type": "stream",
          "name": "stdout",
          "text": [
            "    box loss-> 0.01069, object loss-> 0.01218, class loss-> 0.00000\n",
            "Validation:\n"
          ]
        },
        {
          "output_type": "stream",
          "name": "stderr",
          "text": [
            "30it [00:01, 21.57it/s]\n"
          ]
        },
        {
          "output_type": "stream",
          "name": "stdout",
          "text": [
            "ok    recall: 0.714423 precision: 0.530075 mAP@0.5: 0.631681, mAP@0.5-0.95: 0.202111\n",
            "\n",
            "Epoch 111/200\n",
            "----------\n",
            "Train: \n"
          ]
        },
        {
          "output_type": "stream",
          "name": "stderr",
          "text": [
            "35it [00:02, 13.37it/s]\n"
          ]
        },
        {
          "output_type": "stream",
          "name": "stdout",
          "text": [
            "    box loss-> 0.00929, object loss-> 0.01144, class loss-> 0.00000\n",
            "Validation:\n"
          ]
        },
        {
          "output_type": "stream",
          "name": "stderr",
          "text": [
            "30it [00:01, 27.02it/s]\n"
          ]
        },
        {
          "output_type": "stream",
          "name": "stdout",
          "text": [
            "ok    recall: 0.732388 precision: 0.542886 mAP@0.5: 0.651907, mAP@0.5-0.95: 0.211648\n",
            "\n",
            "Epoch 112/200\n",
            "----------\n",
            "Train: \n"
          ]
        },
        {
          "output_type": "stream",
          "name": "stderr",
          "text": [
            "35it [00:02, 15.50it/s]\n"
          ]
        },
        {
          "output_type": "stream",
          "name": "stdout",
          "text": [
            "    box loss-> 0.00872, object loss-> 0.01053, class loss-> 0.00000\n",
            "Validation:\n"
          ]
        },
        {
          "output_type": "stream",
          "name": "stderr",
          "text": [
            "30it [00:01, 26.77it/s]\n"
          ]
        },
        {
          "output_type": "stream",
          "name": "stdout",
          "text": [
            "ok    recall: 0.733333 precision: 0.505220 mAP@0.5: 0.632866, mAP@0.5-0.95: 0.191437\n",
            "\n",
            "Epoch 113/200\n",
            "----------\n",
            "Train: \n"
          ]
        },
        {
          "output_type": "stream",
          "name": "stderr",
          "text": [
            "35it [00:02, 15.37it/s]\n"
          ]
        },
        {
          "output_type": "stream",
          "name": "stdout",
          "text": [
            "    box loss-> 0.00898, object loss-> 0.00996, class loss-> 0.00000\n",
            "Validation:\n"
          ]
        },
        {
          "output_type": "stream",
          "name": "stderr",
          "text": [
            "30it [00:01, 27.47it/s]\n"
          ]
        },
        {
          "output_type": "stream",
          "name": "stdout",
          "text": [
            "ok    recall: 0.766667 precision: 0.514265 mAP@0.5: 0.645084, mAP@0.5-0.95: 0.196570\n",
            "\n",
            "Epoch 114/200\n",
            "----------\n",
            "Train: \n"
          ]
        },
        {
          "output_type": "stream",
          "name": "stderr",
          "text": [
            "35it [00:02, 12.67it/s]\n"
          ]
        },
        {
          "output_type": "stream",
          "name": "stdout",
          "text": [
            "    box loss-> 0.01081, object loss-> 0.01124, class loss-> 0.00000\n",
            "Validation:\n"
          ]
        },
        {
          "output_type": "stream",
          "name": "stderr",
          "text": [
            "30it [00:01, 24.87it/s]\n"
          ]
        },
        {
          "output_type": "stream",
          "name": "stdout",
          "text": [
            "ok    recall: 0.766667 precision: 0.579023 mAP@0.5: 0.688230, mAP@0.5-0.95: 0.224640\n",
            "\n",
            "Epoch 115/200\n",
            "----------\n",
            "Train: \n"
          ]
        },
        {
          "output_type": "stream",
          "name": "stderr",
          "text": [
            "35it [00:02, 15.35it/s]\n"
          ]
        },
        {
          "output_type": "stream",
          "name": "stdout",
          "text": [
            "    box loss-> 0.01193, object loss-> 0.01307, class loss-> 0.00000\n",
            "Validation:\n"
          ]
        },
        {
          "output_type": "stream",
          "name": "stderr",
          "text": [
            "30it [00:01, 27.23it/s]\n"
          ]
        },
        {
          "output_type": "stream",
          "name": "stdout",
          "text": [
            "ok    recall: 0.750000 precision: 0.522274 mAP@0.5: 0.646085, mAP@0.5-0.95: 0.212461\n",
            "\n",
            "Epoch 116/200\n",
            "----------\n",
            "Train: \n"
          ]
        },
        {
          "output_type": "stream",
          "name": "stderr",
          "text": [
            "35it [00:02, 15.57it/s]\n"
          ]
        },
        {
          "output_type": "stream",
          "name": "stdout",
          "text": [
            "    box loss-> 0.00905, object loss-> 0.01127, class loss-> 0.00000\n",
            "Validation:\n"
          ]
        },
        {
          "output_type": "stream",
          "name": "stderr",
          "text": [
            "30it [00:01, 27.61it/s]\n"
          ]
        },
        {
          "output_type": "stream",
          "name": "stdout",
          "text": [
            "ok    recall: 0.716667 precision: 0.516142 mAP@0.5: 0.648094, mAP@0.5-0.95: 0.207638\n",
            "\n",
            "Epoch 117/200\n",
            "----------\n",
            "Train: \n"
          ]
        },
        {
          "output_type": "stream",
          "name": "stderr",
          "text": [
            "35it [00:02, 15.54it/s]\n"
          ]
        },
        {
          "output_type": "stream",
          "name": "stdout",
          "text": [
            "    box loss-> 0.00898, object loss-> 0.01101, class loss-> 0.00000\n",
            "Validation:\n"
          ]
        },
        {
          "output_type": "stream",
          "name": "stderr",
          "text": [
            "30it [00:01, 20.91it/s]\n"
          ]
        },
        {
          "output_type": "stream",
          "name": "stdout",
          "text": [
            "ok    recall: 0.683333 precision: 0.544835 mAP@0.5: 0.646650, mAP@0.5-0.95: 0.219639\n",
            "\n",
            "Epoch 118/200\n",
            "----------\n",
            "Train: \n"
          ]
        },
        {
          "output_type": "stream",
          "name": "stderr",
          "text": [
            "35it [00:02, 13.93it/s]\n"
          ]
        },
        {
          "output_type": "stream",
          "name": "stdout",
          "text": [
            "    box loss-> 0.00820, object loss-> 0.01031, class loss-> 0.00000\n",
            "Validation:\n"
          ]
        },
        {
          "output_type": "stream",
          "name": "stderr",
          "text": [
            "30it [00:01, 26.94it/s]\n"
          ]
        },
        {
          "output_type": "stream",
          "name": "stdout",
          "text": [
            "ok    recall: 0.731688 precision: 0.536020 mAP@0.5: 0.670133, mAP@0.5-0.95: 0.205630\n",
            "\n",
            "Epoch 119/200\n",
            "----------\n",
            "Train: \n"
          ]
        },
        {
          "output_type": "stream",
          "name": "stderr",
          "text": [
            "35it [00:02, 14.49it/s]\n"
          ]
        },
        {
          "output_type": "stream",
          "name": "stdout",
          "text": [
            "    box loss-> 0.00988, object loss-> 0.01171, class loss-> 0.00000\n",
            "Validation:\n"
          ]
        },
        {
          "output_type": "stream",
          "name": "stderr",
          "text": [
            "30it [00:01, 26.02it/s]\n"
          ]
        },
        {
          "output_type": "stream",
          "name": "stdout",
          "text": [
            "ok    recall: 0.700000 precision: 0.567420 mAP@0.5: 0.679591, mAP@0.5-0.95: 0.217954\n",
            "\n",
            "Epoch 120/200\n",
            "----------\n",
            "Train: \n"
          ]
        },
        {
          "output_type": "stream",
          "name": "stderr",
          "text": [
            "35it [00:02, 15.46it/s]\n"
          ]
        },
        {
          "output_type": "stream",
          "name": "stdout",
          "text": [
            "    box loss-> 0.01257, object loss-> 0.01357, class loss-> 0.00000\n",
            "Validation:\n"
          ]
        },
        {
          "output_type": "stream",
          "name": "stderr",
          "text": [
            "30it [00:01, 27.57it/s]\n"
          ]
        },
        {
          "output_type": "stream",
          "name": "stdout",
          "text": [
            "ok    recall: 0.733333 precision: 0.541866 mAP@0.5: 0.661868, mAP@0.5-0.95: 0.224864\n",
            "\n",
            "Epoch 121/200\n",
            "----------\n",
            "Train: \n"
          ]
        },
        {
          "output_type": "stream",
          "name": "stderr",
          "text": [
            "35it [00:02, 12.26it/s]\n"
          ]
        },
        {
          "output_type": "stream",
          "name": "stdout",
          "text": [
            "    box loss-> 0.00970, object loss-> 0.01167, class loss-> 0.00000\n",
            "Validation:\n"
          ]
        },
        {
          "output_type": "stream",
          "name": "stderr",
          "text": [
            "30it [00:01, 26.22it/s]\n"
          ]
        },
        {
          "output_type": "stream",
          "name": "stdout",
          "text": [
            "ok    recall: 0.733333 precision: 0.523145 mAP@0.5: 0.645969, mAP@0.5-0.95: 0.211981\n",
            "\n",
            "Epoch 122/200\n",
            "----------\n",
            "Train: \n"
          ]
        },
        {
          "output_type": "stream",
          "name": "stderr",
          "text": [
            "35it [00:02, 15.48it/s]\n"
          ]
        },
        {
          "output_type": "stream",
          "name": "stdout",
          "text": [
            "    box loss-> 0.00958, object loss-> 0.01125, class loss-> 0.00000\n",
            "Validation:\n"
          ]
        },
        {
          "output_type": "stream",
          "name": "stderr",
          "text": [
            "30it [00:01, 27.36it/s]\n"
          ]
        },
        {
          "output_type": "stream",
          "name": "stdout",
          "text": [
            "ok    recall: 0.583333 precision: 0.644507 mAP@0.5: 0.666179, mAP@0.5-0.95: 0.215457\n",
            "\n",
            "Epoch 123/200\n",
            "----------\n",
            "Train: \n"
          ]
        },
        {
          "output_type": "stream",
          "name": "stderr",
          "text": [
            "35it [00:02, 15.54it/s]\n"
          ]
        },
        {
          "output_type": "stream",
          "name": "stdout",
          "text": [
            "    box loss-> 0.00824, object loss-> 0.01026, class loss-> 0.00000\n",
            "Validation:\n"
          ]
        },
        {
          "output_type": "stream",
          "name": "stderr",
          "text": [
            "30it [00:01, 27.52it/s]\n"
          ]
        },
        {
          "output_type": "stream",
          "name": "stdout",
          "text": [
            "ok    recall: 0.716667 precision: 0.528895 mAP@0.5: 0.665486, mAP@0.5-0.95: 0.197479\n",
            "\n",
            "Epoch 124/200\n",
            "----------\n",
            "Train: \n"
          ]
        },
        {
          "output_type": "stream",
          "name": "stderr",
          "text": [
            "35it [00:02, 14.22it/s]\n"
          ]
        },
        {
          "output_type": "stream",
          "name": "stdout",
          "text": [
            "    box loss-> 0.00806, object loss-> 0.00984, class loss-> 0.00000\n",
            "Validation:\n"
          ]
        },
        {
          "output_type": "stream",
          "name": "stderr",
          "text": [
            "30it [00:01, 19.38it/s]\n"
          ]
        },
        {
          "output_type": "stream",
          "name": "stdout",
          "text": [
            "ok    recall: 0.715259 precision: 0.523894 mAP@0.5: 0.642821, mAP@0.5-0.95: 0.214773\n",
            "\n",
            "Epoch 125/200\n",
            "----------\n",
            "Train: \n"
          ]
        },
        {
          "output_type": "stream",
          "name": "stderr",
          "text": [
            "35it [00:02, 15.16it/s]\n"
          ]
        },
        {
          "output_type": "stream",
          "name": "stdout",
          "text": [
            "    box loss-> 0.01117, object loss-> 0.01264, class loss-> 0.00000\n",
            "Validation:\n"
          ]
        },
        {
          "output_type": "stream",
          "name": "stderr",
          "text": [
            "30it [00:01, 27.13it/s]\n"
          ]
        },
        {
          "output_type": "stream",
          "name": "stdout",
          "text": [
            "ok    recall: 0.700000 precision: 0.579016 mAP@0.5: 0.658552, mAP@0.5-0.95: 0.215783\n",
            "\n",
            "Epoch 126/200\n",
            "----------\n",
            "Train: \n"
          ]
        },
        {
          "output_type": "stream",
          "name": "stderr",
          "text": [
            "35it [00:02, 15.62it/s]\n"
          ]
        },
        {
          "output_type": "stream",
          "name": "stdout",
          "text": [
            "    box loss-> 0.00986, object loss-> 0.01109, class loss-> 0.00000\n",
            "Validation:\n"
          ]
        },
        {
          "output_type": "stream",
          "name": "stderr",
          "text": [
            "30it [00:01, 26.97it/s]\n"
          ]
        },
        {
          "output_type": "stream",
          "name": "stdout",
          "text": [
            "ok    recall: 0.714188 precision: 0.564928 mAP@0.5: 0.656447, mAP@0.5-0.95: 0.206453\n",
            "\n",
            "Epoch 127/200\n",
            "----------\n",
            "Train: \n"
          ]
        },
        {
          "output_type": "stream",
          "name": "stderr",
          "text": [
            "35it [00:02, 15.15it/s]\n"
          ]
        },
        {
          "output_type": "stream",
          "name": "stdout",
          "text": [
            "    box loss-> 0.00918, object loss-> 0.01122, class loss-> 0.00000\n",
            "Validation:\n"
          ]
        },
        {
          "output_type": "stream",
          "name": "stderr",
          "text": [
            "30it [00:01, 25.40it/s]\n"
          ]
        },
        {
          "output_type": "stream",
          "name": "stdout",
          "text": [
            "ok    recall: 0.714513 precision: 0.572588 mAP@0.5: 0.669139, mAP@0.5-0.95: 0.208563\n",
            "\n",
            "Epoch 128/200\n",
            "----------\n",
            "Train: \n"
          ]
        },
        {
          "output_type": "stream",
          "name": "stderr",
          "text": [
            "35it [00:02, 12.27it/s]\n"
          ]
        },
        {
          "output_type": "stream",
          "name": "stdout",
          "text": [
            "    box loss-> 0.00661, object loss-> 0.00899, class loss-> 0.00000\n",
            "Validation:\n"
          ]
        },
        {
          "output_type": "stream",
          "name": "stderr",
          "text": [
            "30it [00:01, 26.54it/s]\n"
          ]
        },
        {
          "output_type": "stream",
          "name": "stdout",
          "text": [
            "ok    recall: 0.683333 precision: 0.599117 mAP@0.5: 0.688815, mAP@0.5-0.95: 0.223330\n",
            "\n",
            "Epoch 129/200\n",
            "----------\n",
            "Train: \n"
          ]
        },
        {
          "output_type": "stream",
          "name": "stderr",
          "text": [
            "35it [00:02, 15.04it/s]\n"
          ]
        },
        {
          "output_type": "stream",
          "name": "stdout",
          "text": [
            "    box loss-> 0.00653, object loss-> 0.00871, class loss-> 0.00000\n",
            "Validation:\n"
          ]
        },
        {
          "output_type": "stream",
          "name": "stderr",
          "text": [
            "30it [00:01, 25.81it/s]\n"
          ]
        },
        {
          "output_type": "stream",
          "name": "stdout",
          "text": [
            "ok    recall: 0.716667 precision: 0.544140 mAP@0.5: 0.673953, mAP@0.5-0.95: 0.223143\n",
            "\n",
            "Epoch 130/200\n",
            "----------\n",
            "Train: \n"
          ]
        },
        {
          "output_type": "stream",
          "name": "stderr",
          "text": [
            "35it [00:02, 15.06it/s]\n"
          ]
        },
        {
          "output_type": "stream",
          "name": "stdout",
          "text": [
            "    box loss-> 0.00773, object loss-> 0.00993, class loss-> 0.00000\n",
            "Validation:\n"
          ]
        },
        {
          "output_type": "stream",
          "name": "stderr",
          "text": [
            "30it [00:01, 25.85it/s]\n"
          ]
        },
        {
          "output_type": "stream",
          "name": "stdout",
          "text": [
            "ok    recall: 0.683333 precision: 0.646187 mAP@0.5: 0.706126, mAP@0.5-0.95: 0.234442\n",
            "\n",
            "Epoch 131/200\n",
            "----------\n",
            "Train: \n"
          ]
        },
        {
          "output_type": "stream",
          "name": "stderr",
          "text": [
            "35it [00:02, 12.44it/s]\n"
          ]
        },
        {
          "output_type": "stream",
          "name": "stdout",
          "text": [
            "    box loss-> 0.01072, object loss-> 0.01293, class loss-> 0.00000\n",
            "Validation:\n"
          ]
        },
        {
          "output_type": "stream",
          "name": "stderr",
          "text": [
            "30it [00:01, 23.60it/s]\n"
          ]
        },
        {
          "output_type": "stream",
          "name": "stdout",
          "text": [
            "ok    recall: 0.748310 precision: 0.516672 mAP@0.5: 0.646251, mAP@0.5-0.95: 0.221598\n",
            "\n",
            "Epoch 132/200\n",
            "----------\n",
            "Train: \n"
          ]
        },
        {
          "output_type": "stream",
          "name": "stderr",
          "text": [
            "35it [00:02, 15.24it/s]\n"
          ]
        },
        {
          "output_type": "stream",
          "name": "stdout",
          "text": [
            "    box loss-> 0.00806, object loss-> 0.01056, class loss-> 0.00000\n",
            "Validation:\n"
          ]
        },
        {
          "output_type": "stream",
          "name": "stderr",
          "text": [
            "30it [00:01, 26.15it/s]\n"
          ]
        },
        {
          "output_type": "stream",
          "name": "stdout",
          "text": [
            "ok    recall: 0.750000 precision: 0.522202 mAP@0.5: 0.656874, mAP@0.5-0.95: 0.218737\n",
            "\n",
            "Epoch 133/200\n",
            "----------\n",
            "Train: \n"
          ]
        },
        {
          "output_type": "stream",
          "name": "stderr",
          "text": [
            "35it [00:02, 15.09it/s]\n"
          ]
        },
        {
          "output_type": "stream",
          "name": "stdout",
          "text": [
            "    box loss-> 0.00755, object loss-> 0.01013, class loss-> 0.00000\n",
            "Validation:\n"
          ]
        },
        {
          "output_type": "stream",
          "name": "stderr",
          "text": [
            "30it [00:01, 27.17it/s]\n"
          ]
        },
        {
          "output_type": "stream",
          "name": "stdout",
          "text": [
            "ok    recall: 0.748599 precision: 0.541699 mAP@0.5: 0.678494, mAP@0.5-0.95: 0.222569\n",
            "\n",
            "Epoch 134/200\n",
            "----------\n",
            "Train: \n"
          ]
        },
        {
          "output_type": "stream",
          "name": "stderr",
          "text": [
            "35it [00:02, 15.14it/s]\n"
          ]
        },
        {
          "output_type": "stream",
          "name": "stdout",
          "text": [
            "    box loss-> 0.00647, object loss-> 0.00888, class loss-> 0.00000\n",
            "Validation:\n"
          ]
        },
        {
          "output_type": "stream",
          "name": "stderr",
          "text": [
            "30it [00:01, 20.42it/s]\n"
          ]
        },
        {
          "output_type": "stream",
          "name": "stdout",
          "text": [
            "ok    recall: 0.562082 precision: 0.651979 mAP@0.5: 0.649375, mAP@0.5-0.95: 0.218437\n",
            "\n",
            "Epoch 135/200\n",
            "----------\n",
            "Train: \n"
          ]
        },
        {
          "output_type": "stream",
          "name": "stderr",
          "text": [
            "35it [00:02, 13.79it/s]\n"
          ]
        },
        {
          "output_type": "stream",
          "name": "stdout",
          "text": [
            "    box loss-> 0.00657, object loss-> 0.00877, class loss-> 0.00000\n",
            "Validation:\n"
          ]
        },
        {
          "output_type": "stream",
          "name": "stderr",
          "text": [
            "30it [00:01, 24.86it/s]\n"
          ]
        },
        {
          "output_type": "stream",
          "name": "stdout",
          "text": [
            "ok    recall: 0.782885 precision: 0.546368 mAP@0.5: 0.694191, mAP@0.5-0.95: 0.235296\n",
            "\n",
            "Epoch 136/200\n",
            "----------\n",
            "Train: \n"
          ]
        },
        {
          "output_type": "stream",
          "name": "stderr",
          "text": [
            "35it [00:02, 14.69it/s]\n"
          ]
        },
        {
          "output_type": "stream",
          "name": "stdout",
          "text": [
            "    box loss-> 0.00793, object loss-> 0.01000, class loss-> 0.00000\n",
            "Validation:\n"
          ]
        },
        {
          "output_type": "stream",
          "name": "stderr",
          "text": [
            "30it [00:01, 26.33it/s]\n"
          ]
        },
        {
          "output_type": "stream",
          "name": "stdout",
          "text": [
            "ok    recall: 0.766667 precision: 0.567546 mAP@0.5: 0.681100, mAP@0.5-0.95: 0.227099\n",
            "\n",
            "Epoch 137/200\n",
            "----------\n",
            "Train: \n"
          ]
        },
        {
          "output_type": "stream",
          "name": "stderr",
          "text": [
            "35it [00:02, 15.20it/s]\n"
          ]
        },
        {
          "output_type": "stream",
          "name": "stdout",
          "text": [
            "    box loss-> 0.00773, object loss-> 0.00988, class loss-> 0.00000\n",
            "Validation:\n"
          ]
        },
        {
          "output_type": "stream",
          "name": "stderr",
          "text": [
            "30it [00:01, 26.35it/s]\n"
          ]
        },
        {
          "output_type": "stream",
          "name": "stdout",
          "text": [
            "ok    recall: 0.533333 precision: 0.759280 mAP@0.5: 0.674074, mAP@0.5-0.95: 0.216214\n",
            "\n",
            "Epoch 138/200\n",
            "----------\n",
            "Train: \n"
          ]
        },
        {
          "output_type": "stream",
          "name": "stderr",
          "text": [
            "35it [00:02, 11.88it/s]\n"
          ]
        },
        {
          "output_type": "stream",
          "name": "stdout",
          "text": [
            "    box loss-> 0.00681, object loss-> 0.00897, class loss-> 0.00000\n",
            "Validation:\n"
          ]
        },
        {
          "output_type": "stream",
          "name": "stderr",
          "text": [
            "30it [00:01, 25.87it/s]\n"
          ]
        },
        {
          "output_type": "stream",
          "name": "stdout",
          "text": [
            "ok    recall: 0.800000 precision: 0.515421 mAP@0.5: 0.681562, mAP@0.5-0.95: 0.217854\n",
            "\n",
            "Epoch 139/200\n",
            "----------\n",
            "Train: \n"
          ]
        },
        {
          "output_type": "stream",
          "name": "stderr",
          "text": [
            "35it [00:02, 14.89it/s]\n"
          ]
        },
        {
          "output_type": "stream",
          "name": "stdout",
          "text": [
            "    box loss-> 0.00605, object loss-> 0.00839, class loss-> 0.00000\n",
            "Validation:\n"
          ]
        },
        {
          "output_type": "stream",
          "name": "stderr",
          "text": [
            "30it [00:01, 26.38it/s]\n"
          ]
        },
        {
          "output_type": "stream",
          "name": "stdout",
          "text": [
            "ok    recall: 0.750000 precision: 0.553397 mAP@0.5: 0.672383, mAP@0.5-0.95: 0.221631\n",
            "\n",
            "Epoch 140/200\n",
            "----------\n",
            "Train: \n"
          ]
        },
        {
          "output_type": "stream",
          "name": "stderr",
          "text": [
            "35it [00:02, 14.83it/s]\n"
          ]
        },
        {
          "output_type": "stream",
          "name": "stdout",
          "text": [
            "    box loss-> 0.00591, object loss-> 0.00812, class loss-> 0.00000\n",
            "Validation:\n"
          ]
        },
        {
          "output_type": "stream",
          "name": "stderr",
          "text": [
            "30it [00:01, 25.58it/s]\n"
          ]
        },
        {
          "output_type": "stream",
          "name": "stdout",
          "text": [
            "ok    recall: 0.765343 precision: 0.528300 mAP@0.5: 0.631466, mAP@0.5-0.95: 0.222945\n",
            "\n",
            "Epoch 141/200\n",
            "----------\n",
            "Train: \n"
          ]
        },
        {
          "output_type": "stream",
          "name": "stderr",
          "text": [
            "35it [00:02, 12.83it/s]\n"
          ]
        },
        {
          "output_type": "stream",
          "name": "stdout",
          "text": [
            "    box loss-> 0.00652, object loss-> 0.00873, class loss-> 0.00000\n",
            "Validation:\n"
          ]
        },
        {
          "output_type": "stream",
          "name": "stderr",
          "text": [
            "30it [00:01, 21.59it/s]\n"
          ]
        },
        {
          "output_type": "stream",
          "name": "stdout",
          "text": [
            "ok    recall: 0.750000 precision: 0.547588 mAP@0.5: 0.635660, mAP@0.5-0.95: 0.220541\n",
            "\n",
            "Epoch 142/200\n",
            "----------\n",
            "Train: \n"
          ]
        },
        {
          "output_type": "stream",
          "name": "stderr",
          "text": [
            "35it [00:02, 14.92it/s]\n"
          ]
        },
        {
          "output_type": "stream",
          "name": "stdout",
          "text": [
            "    box loss-> 0.00698, object loss-> 0.00957, class loss-> 0.00000\n",
            "Validation:\n"
          ]
        },
        {
          "output_type": "stream",
          "name": "stderr",
          "text": [
            "30it [00:01, 25.88it/s]\n"
          ]
        },
        {
          "output_type": "stream",
          "name": "stdout",
          "text": [
            "ok    recall: 0.643772 precision: 0.562828 mAP@0.5: 0.639929, mAP@0.5-0.95: 0.214868\n",
            "\n",
            "Epoch 143/200\n",
            "----------\n",
            "Train: \n"
          ]
        },
        {
          "output_type": "stream",
          "name": "stderr",
          "text": [
            "35it [00:02, 15.13it/s]\n"
          ]
        },
        {
          "output_type": "stream",
          "name": "stdout",
          "text": [
            "    box loss-> 0.00796, object loss-> 0.01012, class loss-> 0.00000\n",
            "Validation:\n"
          ]
        },
        {
          "output_type": "stream",
          "name": "stderr",
          "text": [
            "30it [00:01, 26.04it/s]\n"
          ]
        },
        {
          "output_type": "stream",
          "name": "stdout",
          "text": [
            "ok    recall: 0.716667 precision: 0.579964 mAP@0.5: 0.675663, mAP@0.5-0.95: 0.220611\n",
            "\n",
            "Epoch 144/200\n",
            "----------\n",
            "Train: \n"
          ]
        },
        {
          "output_type": "stream",
          "name": "stderr",
          "text": [
            "35it [00:02, 15.34it/s]\n"
          ]
        },
        {
          "output_type": "stream",
          "name": "stdout",
          "text": [
            "    box loss-> 0.00662, object loss-> 0.00893, class loss-> 0.00000\n",
            "Validation:\n"
          ]
        },
        {
          "output_type": "stream",
          "name": "stderr",
          "text": [
            "30it [00:01, 20.94it/s]\n"
          ]
        },
        {
          "output_type": "stream",
          "name": "stdout",
          "text": [
            "ok    recall: 0.700000 precision: 0.538010 mAP@0.5: 0.636453, mAP@0.5-0.95: 0.211638\n",
            "\n",
            "Epoch 145/200\n",
            "----------\n",
            "Train: \n"
          ]
        },
        {
          "output_type": "stream",
          "name": "stderr",
          "text": [
            "35it [00:02, 13.61it/s]\n"
          ]
        },
        {
          "output_type": "stream",
          "name": "stdout",
          "text": [
            "    box loss-> 0.00621, object loss-> 0.00884, class loss-> 0.00000\n",
            "Validation:\n"
          ]
        },
        {
          "output_type": "stream",
          "name": "stderr",
          "text": [
            "30it [00:01, 26.99it/s]\n"
          ]
        },
        {
          "output_type": "stream",
          "name": "stdout",
          "text": [
            "ok    recall: 0.733333 precision: 0.556160 mAP@0.5: 0.672513, mAP@0.5-0.95: 0.226684\n",
            "\n",
            "Epoch 146/200\n",
            "----------\n",
            "Train: \n"
          ]
        },
        {
          "output_type": "stream",
          "name": "stderr",
          "text": [
            "35it [00:02, 15.41it/s]\n"
          ]
        },
        {
          "output_type": "stream",
          "name": "stdout",
          "text": [
            "    box loss-> 0.00765, object loss-> 0.01021, class loss-> 0.00000\n",
            "Validation:\n"
          ]
        },
        {
          "output_type": "stream",
          "name": "stderr",
          "text": [
            "30it [00:01, 26.51it/s]\n"
          ]
        },
        {
          "output_type": "stream",
          "name": "stdout",
          "text": [
            "ok    recall: 0.650000 precision: 0.604599 mAP@0.5: 0.661202, mAP@0.5-0.95: 0.209019\n",
            "\n",
            "Epoch 147/200\n",
            "----------\n",
            "Train: \n"
          ]
        },
        {
          "output_type": "stream",
          "name": "stderr",
          "text": [
            "35it [00:02, 14.99it/s]\n"
          ]
        },
        {
          "output_type": "stream",
          "name": "stdout",
          "text": [
            "    box loss-> 0.00901, object loss-> 0.01160, class loss-> 0.00000\n",
            "Validation:\n"
          ]
        },
        {
          "output_type": "stream",
          "name": "stderr",
          "text": [
            "30it [00:01, 26.72it/s]\n"
          ]
        },
        {
          "output_type": "stream",
          "name": "stdout",
          "text": [
            "ok    recall: 0.650000 precision: 0.564582 mAP@0.5: 0.627567, mAP@0.5-0.95: 0.211337\n",
            "\n",
            "Epoch 148/200\n",
            "----------\n",
            "Train: \n"
          ]
        },
        {
          "output_type": "stream",
          "name": "stderr",
          "text": [
            "35it [00:02, 12.43it/s]\n"
          ]
        },
        {
          "output_type": "stream",
          "name": "stdout",
          "text": [
            "    box loss-> 0.00629, object loss-> 0.00863, class loss-> 0.00000\n",
            "Validation:\n"
          ]
        },
        {
          "output_type": "stream",
          "name": "stderr",
          "text": [
            "30it [00:01, 26.19it/s]\n"
          ]
        },
        {
          "output_type": "stream",
          "name": "stdout",
          "text": [
            "ok    recall: 0.665128 precision: 0.579139 mAP@0.5: 0.644064, mAP@0.5-0.95: 0.221426\n",
            "\n",
            "Epoch 149/200\n",
            "----------\n",
            "Train: \n"
          ]
        },
        {
          "output_type": "stream",
          "name": "stderr",
          "text": [
            "35it [00:02, 15.42it/s]\n"
          ]
        },
        {
          "output_type": "stream",
          "name": "stdout",
          "text": [
            "    box loss-> 0.00586, object loss-> 0.00808, class loss-> 0.00000\n",
            "Validation:\n"
          ]
        },
        {
          "output_type": "stream",
          "name": "stderr",
          "text": [
            "30it [00:01, 26.68it/s]\n"
          ]
        },
        {
          "output_type": "stream",
          "name": "stdout",
          "text": [
            "ok    recall: 0.666667 precision: 0.533006 mAP@0.5: 0.636288, mAP@0.5-0.95: 0.211991\n",
            "\n",
            "Epoch 150/200\n",
            "----------\n",
            "Train: \n"
          ]
        },
        {
          "output_type": "stream",
          "name": "stderr",
          "text": [
            "35it [00:02, 15.46it/s]\n"
          ]
        },
        {
          "output_type": "stream",
          "name": "stdout",
          "text": [
            "    box loss-> 0.00549, object loss-> 0.00781, class loss-> 0.00000\n",
            "Validation:\n"
          ]
        },
        {
          "output_type": "stream",
          "name": "stderr",
          "text": [
            "30it [00:01, 26.99it/s]\n"
          ]
        },
        {
          "output_type": "stream",
          "name": "stdout",
          "text": [
            "ok    recall: 0.733333 precision: 0.542862 mAP@0.5: 0.664764, mAP@0.5-0.95: 0.216336\n",
            "\n",
            "Epoch 151/200\n",
            "----------\n",
            "Train: \n"
          ]
        },
        {
          "output_type": "stream",
          "name": "stderr",
          "text": [
            "35it [00:02, 14.71it/s]\n"
          ]
        },
        {
          "output_type": "stream",
          "name": "stdout",
          "text": [
            "    box loss-> 0.00568, object loss-> 0.00789, class loss-> 0.00000\n",
            "Validation:\n"
          ]
        },
        {
          "output_type": "stream",
          "name": "stderr",
          "text": [
            "30it [00:01, 20.40it/s]\n"
          ]
        },
        {
          "output_type": "stream",
          "name": "stdout",
          "text": [
            "ok    recall: 0.733333 precision: 0.555083 mAP@0.5: 0.653652, mAP@0.5-0.95: 0.221375\n",
            "\n",
            "Epoch 152/200\n",
            "----------\n",
            "Train: \n"
          ]
        },
        {
          "output_type": "stream",
          "name": "stderr",
          "text": [
            "35it [00:02, 13.61it/s]\n"
          ]
        },
        {
          "output_type": "stream",
          "name": "stdout",
          "text": [
            "    box loss-> 0.00649, object loss-> 0.00887, class loss-> 0.00000\n",
            "Validation:\n"
          ]
        },
        {
          "output_type": "stream",
          "name": "stderr",
          "text": [
            "30it [00:01, 26.90it/s]\n"
          ]
        },
        {
          "output_type": "stream",
          "name": "stdout",
          "text": [
            "ok    recall: 0.683333 precision: 0.568112 mAP@0.5: 0.640669, mAP@0.5-0.95: 0.220154\n",
            "\n",
            "Epoch 153/200\n",
            "----------\n",
            "Train: \n"
          ]
        },
        {
          "output_type": "stream",
          "name": "stderr",
          "text": [
            "35it [00:02, 15.47it/s]\n"
          ]
        },
        {
          "output_type": "stream",
          "name": "stdout",
          "text": [
            "    box loss-> 0.00590, object loss-> 0.00840, class loss-> 0.00000\n",
            "Validation:\n"
          ]
        },
        {
          "output_type": "stream",
          "name": "stderr",
          "text": [
            "30it [00:01, 26.58it/s]\n"
          ]
        },
        {
          "output_type": "stream",
          "name": "stdout",
          "text": [
            "ok    recall: 0.700000 precision: 0.567185 mAP@0.5: 0.669404, mAP@0.5-0.95: 0.225639\n",
            "\n",
            "Epoch 154/200\n",
            "----------\n",
            "Train: \n"
          ]
        },
        {
          "output_type": "stream",
          "name": "stderr",
          "text": [
            "35it [00:02, 15.29it/s]\n"
          ]
        },
        {
          "output_type": "stream",
          "name": "stdout",
          "text": [
            "    box loss-> 0.00605, object loss-> 0.00865, class loss-> 0.00000\n",
            "Validation:\n"
          ]
        },
        {
          "output_type": "stream",
          "name": "stderr",
          "text": [
            "30it [00:01, 26.22it/s]\n"
          ]
        },
        {
          "output_type": "stream",
          "name": "stdout",
          "text": [
            "ok    recall: 0.783333 precision: 0.527622 mAP@0.5: 0.660861, mAP@0.5-0.95: 0.226063\n",
            "\n",
            "Epoch 155/200\n",
            "----------\n",
            "Train: \n"
          ]
        },
        {
          "output_type": "stream",
          "name": "stderr",
          "text": [
            "35it [00:02, 11.93it/s]\n"
          ]
        },
        {
          "output_type": "stream",
          "name": "stdout",
          "text": [
            "    box loss-> 0.00551, object loss-> 0.00793, class loss-> 0.00000\n",
            "Validation:\n"
          ]
        },
        {
          "output_type": "stream",
          "name": "stderr",
          "text": [
            "30it [00:01, 26.35it/s]\n"
          ]
        },
        {
          "output_type": "stream",
          "name": "stdout",
          "text": [
            "ok    recall: 0.616667 precision: 0.599706 mAP@0.5: 0.629084, mAP@0.5-0.95: 0.210832\n",
            "\n",
            "Epoch 156/200\n",
            "----------\n",
            "Train: \n"
          ]
        },
        {
          "output_type": "stream",
          "name": "stderr",
          "text": [
            "35it [00:02, 15.20it/s]\n"
          ]
        },
        {
          "output_type": "stream",
          "name": "stdout",
          "text": [
            "    box loss-> 0.00548, object loss-> 0.00781, class loss-> 0.00000\n",
            "Validation:\n"
          ]
        },
        {
          "output_type": "stream",
          "name": "stderr",
          "text": [
            "30it [00:01, 26.23it/s]\n"
          ]
        },
        {
          "output_type": "stream",
          "name": "stdout",
          "text": [
            "ok    recall: 0.783333 precision: 0.538531 mAP@0.5: 0.665948, mAP@0.5-0.95: 0.227146\n",
            "\n",
            "Epoch 157/200\n",
            "----------\n",
            "Train: \n"
          ]
        },
        {
          "output_type": "stream",
          "name": "stderr",
          "text": [
            "35it [00:02, 15.29it/s]\n"
          ]
        },
        {
          "output_type": "stream",
          "name": "stdout",
          "text": [
            "    box loss-> 0.00634, object loss-> 0.00879, class loss-> 0.00000\n",
            "Validation:\n"
          ]
        },
        {
          "output_type": "stream",
          "name": "stderr",
          "text": [
            "30it [00:01, 26.65it/s]\n"
          ]
        },
        {
          "output_type": "stream",
          "name": "stdout",
          "text": [
            "ok    recall: 0.600000 precision: 0.608873 mAP@0.5: 0.648139, mAP@0.5-0.95: 0.214479\n",
            "\n",
            "Epoch 158/200\n",
            "----------\n",
            "Train: \n"
          ]
        },
        {
          "output_type": "stream",
          "name": "stderr",
          "text": [
            "35it [00:02, 13.31it/s]\n"
          ]
        },
        {
          "output_type": "stream",
          "name": "stdout",
          "text": [
            "    box loss-> 0.00675, object loss-> 0.00943, class loss-> 0.00000\n",
            "Validation:\n"
          ]
        },
        {
          "output_type": "stream",
          "name": "stderr",
          "text": [
            "30it [00:01, 21.36it/s]\n"
          ]
        },
        {
          "output_type": "stream",
          "name": "stdout",
          "text": [
            "ok    recall: 0.700000 precision: 0.535042 mAP@0.5: 0.623304, mAP@0.5-0.95: 0.221056\n",
            "\n",
            "Epoch 159/200\n",
            "----------\n",
            "Train: \n"
          ]
        },
        {
          "output_type": "stream",
          "name": "stderr",
          "text": [
            "35it [00:02, 15.48it/s]\n"
          ]
        },
        {
          "output_type": "stream",
          "name": "stdout",
          "text": [
            "    box loss-> 0.00595, object loss-> 0.00843, class loss-> 0.00000\n",
            "Validation:\n"
          ]
        },
        {
          "output_type": "stream",
          "name": "stderr",
          "text": [
            "30it [00:01, 27.39it/s]\n"
          ]
        },
        {
          "output_type": "stream",
          "name": "stdout",
          "text": [
            "ok    recall: 0.683333 precision: 0.531254 mAP@0.5: 0.622385, mAP@0.5-0.95: 0.219518\n",
            "\n",
            "Epoch 160/200\n",
            "----------\n",
            "Train: \n"
          ]
        },
        {
          "output_type": "stream",
          "name": "stderr",
          "text": [
            "35it [00:02, 15.26it/s]\n"
          ]
        },
        {
          "output_type": "stream",
          "name": "stdout",
          "text": [
            "    box loss-> 0.00571, object loss-> 0.00796, class loss-> 0.00000\n",
            "Validation:\n"
          ]
        },
        {
          "output_type": "stream",
          "name": "stderr",
          "text": [
            "30it [00:01, 26.98it/s]\n"
          ]
        },
        {
          "output_type": "stream",
          "name": "stdout",
          "text": [
            "ok    recall: 0.716667 precision: 0.544203 mAP@0.5: 0.661980, mAP@0.5-0.95: 0.231554\n",
            "\n",
            "Epoch 161/200\n",
            "----------\n",
            "Train: \n"
          ]
        },
        {
          "output_type": "stream",
          "name": "stderr",
          "text": [
            "35it [00:02, 15.38it/s]\n"
          ]
        },
        {
          "output_type": "stream",
          "name": "stdout",
          "text": [
            "    box loss-> 0.00556, object loss-> 0.00792, class loss-> 0.00000\n",
            "Validation:\n"
          ]
        },
        {
          "output_type": "stream",
          "name": "stderr",
          "text": [
            "30it [00:01, 22.96it/s]\n"
          ]
        },
        {
          "output_type": "stream",
          "name": "stdout",
          "text": [
            "ok    recall: 0.683333 precision: 0.537658 mAP@0.5: 0.624312, mAP@0.5-0.95: 0.208636\n",
            "\n",
            "Epoch 162/200\n",
            "----------\n",
            "Train: \n"
          ]
        },
        {
          "output_type": "stream",
          "name": "stderr",
          "text": [
            "35it [00:02, 12.82it/s]\n"
          ]
        },
        {
          "output_type": "stream",
          "name": "stdout",
          "text": [
            "    box loss-> 0.00601, object loss-> 0.00836, class loss-> 0.00000\n",
            "Validation:\n"
          ]
        },
        {
          "output_type": "stream",
          "name": "stderr",
          "text": [
            "30it [00:01, 26.70it/s]\n"
          ]
        },
        {
          "output_type": "stream",
          "name": "stdout",
          "text": [
            "ok    recall: 0.616667 precision: 0.615071 mAP@0.5: 0.661422, mAP@0.5-0.95: 0.225861\n",
            "\n",
            "Epoch 163/200\n",
            "----------\n",
            "Train: \n"
          ]
        },
        {
          "output_type": "stream",
          "name": "stderr",
          "text": [
            "35it [00:02, 15.43it/s]\n"
          ]
        },
        {
          "output_type": "stream",
          "name": "stdout",
          "text": [
            "    box loss-> 0.00686, object loss-> 0.00929, class loss-> 0.00000\n",
            "Validation:\n"
          ]
        },
        {
          "output_type": "stream",
          "name": "stderr",
          "text": [
            "30it [00:01, 27.26it/s]\n"
          ]
        },
        {
          "output_type": "stream",
          "name": "stdout",
          "text": [
            "ok    recall: 0.666667 precision: 0.525594 mAP@0.5: 0.601340, mAP@0.5-0.95: 0.213443\n",
            "\n",
            "Epoch 164/200\n",
            "----------\n",
            "Train: \n"
          ]
        },
        {
          "output_type": "stream",
          "name": "stderr",
          "text": [
            "35it [00:02, 15.40it/s]\n"
          ]
        },
        {
          "output_type": "stream",
          "name": "stdout",
          "text": [
            "    box loss-> 0.00514, object loss-> 0.00757, class loss-> 0.00000\n",
            "Validation:\n"
          ]
        },
        {
          "output_type": "stream",
          "name": "stderr",
          "text": [
            "30it [00:01, 27.05it/s]\n"
          ]
        },
        {
          "output_type": "stream",
          "name": "stdout",
          "text": [
            "ok    recall: 0.666667 precision: 0.532936 mAP@0.5: 0.634410, mAP@0.5-0.95: 0.219961\n",
            "\n",
            "Epoch 165/200\n",
            "----------\n",
            "Train: \n"
          ]
        },
        {
          "output_type": "stream",
          "name": "stderr",
          "text": [
            "35it [00:02, 12.70it/s]\n"
          ]
        },
        {
          "output_type": "stream",
          "name": "stdout",
          "text": [
            "    box loss-> 0.00505, object loss-> 0.00740, class loss-> 0.00000\n",
            "Validation:\n"
          ]
        },
        {
          "output_type": "stream",
          "name": "stderr",
          "text": [
            "30it [00:01, 23.52it/s]\n"
          ]
        },
        {
          "output_type": "stream",
          "name": "stdout",
          "text": [
            "ok    recall: 0.683333 precision: 0.524081 mAP@0.5: 0.616216, mAP@0.5-0.95: 0.204514\n",
            "\n",
            "Epoch 166/200\n",
            "----------\n",
            "Train: \n"
          ]
        },
        {
          "output_type": "stream",
          "name": "stderr",
          "text": [
            "35it [00:02, 15.14it/s]\n"
          ]
        },
        {
          "output_type": "stream",
          "name": "stdout",
          "text": [
            "    box loss-> 0.00475, object loss-> 0.00699, class loss-> 0.00000\n",
            "Validation:\n"
          ]
        },
        {
          "output_type": "stream",
          "name": "stderr",
          "text": [
            "30it [00:01, 27.16it/s]\n"
          ]
        },
        {
          "output_type": "stream",
          "name": "stdout",
          "text": [
            "ok    recall: 0.682001 precision: 0.531976 mAP@0.5: 0.627316, mAP@0.5-0.95: 0.214075\n",
            "\n",
            "Epoch 167/200\n",
            "----------\n",
            "Train: \n"
          ]
        },
        {
          "output_type": "stream",
          "name": "stderr",
          "text": [
            "35it [00:02, 15.55it/s]\n"
          ]
        },
        {
          "output_type": "stream",
          "name": "stdout",
          "text": [
            "    box loss-> 0.00483, object loss-> 0.00711, class loss-> 0.00000\n",
            "Validation:\n"
          ]
        },
        {
          "output_type": "stream",
          "name": "stderr",
          "text": [
            "30it [00:01, 27.28it/s]\n"
          ]
        },
        {
          "output_type": "stream",
          "name": "stdout",
          "text": [
            "ok    recall: 0.716667 precision: 0.517179 mAP@0.5: 0.638399, mAP@0.5-0.95: 0.220736\n",
            "\n",
            "Epoch 168/200\n",
            "----------\n",
            "Train: \n"
          ]
        },
        {
          "output_type": "stream",
          "name": "stderr",
          "text": [
            "35it [00:02, 15.34it/s]\n"
          ]
        },
        {
          "output_type": "stream",
          "name": "stdout",
          "text": [
            "    box loss-> 0.00510, object loss-> 0.00753, class loss-> 0.00000\n",
            "Validation:\n"
          ]
        },
        {
          "output_type": "stream",
          "name": "stderr",
          "text": [
            "30it [00:01, 20.39it/s]\n"
          ]
        },
        {
          "output_type": "stream",
          "name": "stdout",
          "text": [
            "ok    recall: 0.666667 precision: 0.595668 mAP@0.5: 0.663418, mAP@0.5-0.95: 0.225942\n",
            "\n",
            "Epoch 169/200\n",
            "----------\n",
            "Train: \n"
          ]
        },
        {
          "output_type": "stream",
          "name": "stderr",
          "text": [
            "35it [00:02, 13.37it/s]\n"
          ]
        },
        {
          "output_type": "stream",
          "name": "stdout",
          "text": [
            "    box loss-> 0.00530, object loss-> 0.00763, class loss-> 0.00000\n",
            "Validation:\n"
          ]
        },
        {
          "output_type": "stream",
          "name": "stderr",
          "text": [
            "30it [00:01, 26.45it/s]\n"
          ]
        },
        {
          "output_type": "stream",
          "name": "stdout",
          "text": [
            "ok    recall: 0.666658 precision: 0.606058 mAP@0.5: 0.653720, mAP@0.5-0.95: 0.219775\n",
            "\n",
            "Epoch 170/200\n",
            "----------\n",
            "Train: \n"
          ]
        },
        {
          "output_type": "stream",
          "name": "stderr",
          "text": [
            "35it [00:02, 15.39it/s]\n"
          ]
        },
        {
          "output_type": "stream",
          "name": "stdout",
          "text": [
            "    box loss-> 0.00500, object loss-> 0.00726, class loss-> 0.00000\n",
            "Validation:\n"
          ]
        },
        {
          "output_type": "stream",
          "name": "stderr",
          "text": [
            "30it [00:01, 26.62it/s]\n"
          ]
        },
        {
          "output_type": "stream",
          "name": "stdout",
          "text": [
            "ok    recall: 0.766667 precision: 0.504712 mAP@0.5: 0.644363, mAP@0.5-0.95: 0.220379\n",
            "\n",
            "Epoch 171/200\n",
            "----------\n",
            "Train: \n"
          ]
        },
        {
          "output_type": "stream",
          "name": "stderr",
          "text": [
            "35it [00:02, 15.53it/s]\n"
          ]
        },
        {
          "output_type": "stream",
          "name": "stdout",
          "text": [
            "    box loss-> 0.00478, object loss-> 0.00703, class loss-> 0.00000\n",
            "Validation:\n"
          ]
        },
        {
          "output_type": "stream",
          "name": "stderr",
          "text": [
            "30it [00:01, 26.96it/s]\n"
          ]
        },
        {
          "output_type": "stream",
          "name": "stdout",
          "text": [
            "ok    recall: 0.766667 precision: 0.515113 mAP@0.5: 0.635311, mAP@0.5-0.95: 0.216847\n",
            "\n",
            "Epoch 172/200\n",
            "----------\n",
            "Train: \n"
          ]
        },
        {
          "output_type": "stream",
          "name": "stderr",
          "text": [
            "35it [00:02, 12.35it/s]\n"
          ]
        },
        {
          "output_type": "stream",
          "name": "stdout",
          "text": [
            "    box loss-> 0.00465, object loss-> 0.00686, class loss-> 0.00000\n",
            "Validation:\n"
          ]
        },
        {
          "output_type": "stream",
          "name": "stderr",
          "text": [
            "30it [00:01, 26.10it/s]\n"
          ]
        },
        {
          "output_type": "stream",
          "name": "stdout",
          "text": [
            "ok    recall: 0.650000 precision: 0.598875 mAP@0.5: 0.647471, mAP@0.5-0.95: 0.221058\n",
            "\n",
            "Epoch 173/200\n",
            "----------\n",
            "Train: \n"
          ]
        },
        {
          "output_type": "stream",
          "name": "stderr",
          "text": [
            "35it [00:02, 14.98it/s]\n"
          ]
        },
        {
          "output_type": "stream",
          "name": "stdout",
          "text": [
            "    box loss-> 0.00487, object loss-> 0.00704, class loss-> 0.00000\n",
            "Validation:\n"
          ]
        },
        {
          "output_type": "stream",
          "name": "stderr",
          "text": [
            "30it [00:01, 26.77it/s]\n"
          ]
        },
        {
          "output_type": "stream",
          "name": "stdout",
          "text": [
            "ok    recall: 0.683110 precision: 0.577384 mAP@0.5: 0.668462, mAP@0.5-0.95: 0.220502\n",
            "\n",
            "Epoch 174/200\n",
            "----------\n",
            "Train: \n"
          ]
        },
        {
          "output_type": "stream",
          "name": "stderr",
          "text": [
            "35it [00:02, 15.20it/s]\n"
          ]
        },
        {
          "output_type": "stream",
          "name": "stdout",
          "text": [
            "    box loss-> 0.00471, object loss-> 0.00677, class loss-> 0.00000\n",
            "Validation:\n"
          ]
        },
        {
          "output_type": "stream",
          "name": "stderr",
          "text": [
            "30it [00:01, 26.52it/s]\n"
          ]
        },
        {
          "output_type": "stream",
          "name": "stdout",
          "text": [
            "ok    recall: 0.676200 precision: 0.591649 mAP@0.5: 0.653919, mAP@0.5-0.95: 0.223146\n",
            "\n",
            "Epoch 175/200\n",
            "----------\n",
            "Train: \n"
          ]
        },
        {
          "output_type": "stream",
          "name": "stderr",
          "text": [
            "35it [00:02, 14.30it/s]\n"
          ]
        },
        {
          "output_type": "stream",
          "name": "stdout",
          "text": [
            "    box loss-> 0.00467, object loss-> 0.00684, class loss-> 0.00000\n",
            "Validation:\n"
          ]
        },
        {
          "output_type": "stream",
          "name": "stderr",
          "text": [
            "30it [00:01, 20.27it/s]\n"
          ]
        },
        {
          "output_type": "stream",
          "name": "stdout",
          "text": [
            "ok    recall: 0.616667 precision: 0.586216 mAP@0.5: 0.632520, mAP@0.5-0.95: 0.210624\n",
            "\n",
            "Epoch 176/200\n",
            "----------\n",
            "Train: \n"
          ]
        },
        {
          "output_type": "stream",
          "name": "stderr",
          "text": [
            "35it [00:02, 14.92it/s]\n"
          ]
        },
        {
          "output_type": "stream",
          "name": "stdout",
          "text": [
            "    box loss-> 0.00476, object loss-> 0.00685, class loss-> 0.00000\n",
            "Validation:\n"
          ]
        },
        {
          "output_type": "stream",
          "name": "stderr",
          "text": [
            "30it [00:01, 25.53it/s]\n"
          ]
        },
        {
          "output_type": "stream",
          "name": "stdout",
          "text": [
            "ok    recall: 0.650000 precision: 0.611530 mAP@0.5: 0.650246, mAP@0.5-0.95: 0.215895\n",
            "\n",
            "Epoch 177/200\n",
            "----------\n",
            "Train: \n"
          ]
        },
        {
          "output_type": "stream",
          "name": "stderr",
          "text": [
            "35it [00:02, 15.03it/s]\n"
          ]
        },
        {
          "output_type": "stream",
          "name": "stdout",
          "text": [
            "    box loss-> 0.00466, object loss-> 0.00675, class loss-> 0.00000\n",
            "Validation:\n"
          ]
        },
        {
          "output_type": "stream",
          "name": "stderr",
          "text": [
            "30it [00:01, 26.79it/s]\n"
          ]
        },
        {
          "output_type": "stream",
          "name": "stdout",
          "text": [
            "ok    recall: 0.648935 precision: 0.608979 mAP@0.5: 0.651890, mAP@0.5-0.95: 0.222990\n",
            "\n",
            "Epoch 178/200\n",
            "----------\n",
            "Train: \n"
          ]
        },
        {
          "output_type": "stream",
          "name": "stderr",
          "text": [
            "35it [00:02, 15.26it/s]\n"
          ]
        },
        {
          "output_type": "stream",
          "name": "stdout",
          "text": [
            "    box loss-> 0.00464, object loss-> 0.00684, class loss-> 0.00000\n",
            "Validation:\n"
          ]
        },
        {
          "output_type": "stream",
          "name": "stderr",
          "text": [
            "30it [00:01, 25.18it/s]\n"
          ]
        },
        {
          "output_type": "stream",
          "name": "stdout",
          "text": [
            "ok    recall: 0.666667 precision: 0.622706 mAP@0.5: 0.685218, mAP@0.5-0.95: 0.224434\n",
            "\n",
            "Epoch 179/200\n",
            "----------\n",
            "Train: \n"
          ]
        },
        {
          "output_type": "stream",
          "name": "stderr",
          "text": [
            "35it [00:02, 12.30it/s]\n"
          ]
        },
        {
          "output_type": "stream",
          "name": "stdout",
          "text": [
            "    box loss-> 0.00491, object loss-> 0.00719, class loss-> 0.00000\n",
            "Validation:\n"
          ]
        },
        {
          "output_type": "stream",
          "name": "stderr",
          "text": [
            "30it [00:01, 26.72it/s]\n"
          ]
        },
        {
          "output_type": "stream",
          "name": "stdout",
          "text": [
            "ok    recall: 0.649294 precision: 0.618787 mAP@0.5: 0.656294, mAP@0.5-0.95: 0.213784\n",
            "\n",
            "Epoch 180/200\n",
            "----------\n",
            "Train: \n"
          ]
        },
        {
          "output_type": "stream",
          "name": "stderr",
          "text": [
            "35it [00:02, 15.19it/s]\n"
          ]
        },
        {
          "output_type": "stream",
          "name": "stdout",
          "text": [
            "    box loss-> 0.00428, object loss-> 0.00650, class loss-> 0.00000\n",
            "Validation:\n"
          ]
        },
        {
          "output_type": "stream",
          "name": "stderr",
          "text": [
            "30it [00:01, 26.03it/s]\n"
          ]
        },
        {
          "output_type": "stream",
          "name": "stdout",
          "text": [
            "ok    recall: 0.650000 precision: 0.627382 mAP@0.5: 0.676902, mAP@0.5-0.95: 0.227367\n",
            "\n",
            "Epoch 181/200\n",
            "----------\n",
            "Train: \n"
          ]
        },
        {
          "output_type": "stream",
          "name": "stderr",
          "text": [
            "35it [00:02, 15.16it/s]\n"
          ]
        },
        {
          "output_type": "stream",
          "name": "stdout",
          "text": [
            "    box loss-> 0.00415, object loss-> 0.00628, class loss-> 0.00000\n",
            "Validation:\n"
          ]
        },
        {
          "output_type": "stream",
          "name": "stderr",
          "text": [
            "30it [00:01, 26.80it/s]\n"
          ]
        },
        {
          "output_type": "stream",
          "name": "stdout",
          "text": [
            "ok    recall: 0.665806 precision: 0.615074 mAP@0.5: 0.666989, mAP@0.5-0.95: 0.222594\n",
            "\n",
            "Epoch 182/200\n",
            "----------\n",
            "Train: \n"
          ]
        },
        {
          "output_type": "stream",
          "name": "stderr",
          "text": [
            "35it [00:02, 13.26it/s]\n"
          ]
        },
        {
          "output_type": "stream",
          "name": "stdout",
          "text": [
            "    box loss-> 0.00437, object loss-> 0.00655, class loss-> 0.00000\n",
            "Validation:\n"
          ]
        },
        {
          "output_type": "stream",
          "name": "stderr",
          "text": [
            "30it [00:01, 21.98it/s]\n"
          ]
        },
        {
          "output_type": "stream",
          "name": "stdout",
          "text": [
            "ok    recall: 0.683333 precision: 0.583444 mAP@0.5: 0.660113, mAP@0.5-0.95: 0.217945\n",
            "\n",
            "Epoch 183/200\n",
            "----------\n",
            "Train: \n"
          ]
        },
        {
          "output_type": "stream",
          "name": "stderr",
          "text": [
            "35it [00:02, 15.28it/s]\n"
          ]
        },
        {
          "output_type": "stream",
          "name": "stdout",
          "text": [
            "    box loss-> 0.00435, object loss-> 0.00643, class loss-> 0.00000\n",
            "Validation:\n"
          ]
        },
        {
          "output_type": "stream",
          "name": "stderr",
          "text": [
            "30it [00:01, 26.58it/s]\n"
          ]
        },
        {
          "output_type": "stream",
          "name": "stdout",
          "text": [
            "ok    recall: 0.679880 precision: 0.592967 mAP@0.5: 0.659590, mAP@0.5-0.95: 0.220516\n",
            "\n",
            "Epoch 184/200\n",
            "----------\n",
            "Train: \n"
          ]
        },
        {
          "output_type": "stream",
          "name": "stderr",
          "text": [
            "35it [00:02, 15.25it/s]\n"
          ]
        },
        {
          "output_type": "stream",
          "name": "stdout",
          "text": [
            "    box loss-> 0.00430, object loss-> 0.00638, class loss-> 0.00000\n",
            "Validation:\n"
          ]
        },
        {
          "output_type": "stream",
          "name": "stderr",
          "text": [
            "30it [00:01, 26.56it/s]\n"
          ]
        },
        {
          "output_type": "stream",
          "name": "stdout",
          "text": [
            "ok    recall: 0.697363 precision: 0.616744 mAP@0.5: 0.683911, mAP@0.5-0.95: 0.230167\n",
            "\n",
            "Epoch 185/200\n",
            "----------\n",
            "Train: \n"
          ]
        },
        {
          "output_type": "stream",
          "name": "stderr",
          "text": [
            "35it [00:02, 14.57it/s]\n"
          ]
        },
        {
          "output_type": "stream",
          "name": "stdout",
          "text": [
            "    box loss-> 0.00443, object loss-> 0.00648, class loss-> 0.00000\n",
            "Validation:\n"
          ]
        },
        {
          "output_type": "stream",
          "name": "stderr",
          "text": [
            "30it [00:01, 20.87it/s]\n"
          ]
        },
        {
          "output_type": "stream",
          "name": "stdout",
          "text": [
            "ok    recall: 0.683333 precision: 0.575411 mAP@0.5: 0.657976, mAP@0.5-0.95: 0.218373\n",
            "\n",
            "Epoch 186/200\n",
            "----------\n",
            "Train: \n"
          ]
        },
        {
          "output_type": "stream",
          "name": "stderr",
          "text": [
            "35it [00:02, 13.92it/s]\n"
          ]
        },
        {
          "output_type": "stream",
          "name": "stdout",
          "text": [
            "    box loss-> 0.00432, object loss-> 0.00636, class loss-> 0.00000\n",
            "Validation:\n"
          ]
        },
        {
          "output_type": "stream",
          "name": "stderr",
          "text": [
            "30it [00:01, 27.23it/s]\n"
          ]
        },
        {
          "output_type": "stream",
          "name": "stdout",
          "text": [
            "ok    recall: 0.683333 precision: 0.608652 mAP@0.5: 0.688980, mAP@0.5-0.95: 0.224574\n",
            "\n",
            "Epoch 187/200\n",
            "----------\n",
            "Train: \n"
          ]
        },
        {
          "output_type": "stream",
          "name": "stderr",
          "text": [
            "35it [00:02, 15.27it/s]\n"
          ]
        },
        {
          "output_type": "stream",
          "name": "stdout",
          "text": [
            "    box loss-> 0.00424, object loss-> 0.00638, class loss-> 0.00000\n",
            "Validation:\n"
          ]
        },
        {
          "output_type": "stream",
          "name": "stderr",
          "text": [
            "30it [00:01, 26.39it/s]\n"
          ]
        },
        {
          "output_type": "stream",
          "name": "stdout",
          "text": [
            "ok    recall: 0.650000 precision: 0.604702 mAP@0.5: 0.644357, mAP@0.5-0.95: 0.217356\n",
            "\n",
            "Epoch 188/200\n",
            "----------\n",
            "Train: \n"
          ]
        },
        {
          "output_type": "stream",
          "name": "stderr",
          "text": [
            "35it [00:02, 15.51it/s]\n"
          ]
        },
        {
          "output_type": "stream",
          "name": "stdout",
          "text": [
            "    box loss-> 0.00429, object loss-> 0.00640, class loss-> 0.00000\n",
            "Validation:\n"
          ]
        },
        {
          "output_type": "stream",
          "name": "stderr",
          "text": [
            "30it [00:01, 27.13it/s]\n"
          ]
        },
        {
          "output_type": "stream",
          "name": "stdout",
          "text": [
            "ok    recall: 0.678340 precision: 0.601166 mAP@0.5: 0.664609, mAP@0.5-0.95: 0.219308\n",
            "\n",
            "Epoch 189/200\n",
            "----------\n",
            "Train: \n"
          ]
        },
        {
          "output_type": "stream",
          "name": "stderr",
          "text": [
            "35it [00:02, 12.11it/s]\n"
          ]
        },
        {
          "output_type": "stream",
          "name": "stdout",
          "text": [
            "    box loss-> 0.00419, object loss-> 0.00631, class loss-> 0.00000\n",
            "Validation:\n"
          ]
        },
        {
          "output_type": "stream",
          "name": "stderr",
          "text": [
            "30it [00:01, 25.90it/s]\n"
          ]
        },
        {
          "output_type": "stream",
          "name": "stdout",
          "text": [
            "ok    recall: 0.633333 precision: 0.602553 mAP@0.5: 0.655192, mAP@0.5-0.95: 0.219665\n",
            "\n",
            "Epoch 190/200\n",
            "----------\n",
            "Train: \n"
          ]
        },
        {
          "output_type": "stream",
          "name": "stderr",
          "text": [
            "35it [00:02, 15.41it/s]\n"
          ]
        },
        {
          "output_type": "stream",
          "name": "stdout",
          "text": [
            "    box loss-> 0.00417, object loss-> 0.00626, class loss-> 0.00000\n",
            "Validation:\n"
          ]
        },
        {
          "output_type": "stream",
          "name": "stderr",
          "text": [
            "30it [00:01, 27.24it/s]\n"
          ]
        },
        {
          "output_type": "stream",
          "name": "stdout",
          "text": [
            "ok    recall: 0.682805 precision: 0.585524 mAP@0.5: 0.667154, mAP@0.5-0.95: 0.224820\n",
            "\n",
            "Epoch 191/200\n",
            "----------\n",
            "Train: \n"
          ]
        },
        {
          "output_type": "stream",
          "name": "stderr",
          "text": [
            "35it [00:02, 15.12it/s]\n"
          ]
        },
        {
          "output_type": "stream",
          "name": "stdout",
          "text": [
            "    box loss-> 0.00429, object loss-> 0.00631, class loss-> 0.00000\n",
            "Validation:\n"
          ]
        },
        {
          "output_type": "stream",
          "name": "stderr",
          "text": [
            "30it [00:01, 26.64it/s]\n"
          ]
        },
        {
          "output_type": "stream",
          "name": "stdout",
          "text": [
            "ok    recall: 0.683333 precision: 0.610439 mAP@0.5: 0.671339, mAP@0.5-0.95: 0.229276\n",
            "\n",
            "Epoch 192/200\n",
            "----------\n",
            "Train: \n"
          ]
        },
        {
          "output_type": "stream",
          "name": "stderr",
          "text": [
            "35it [00:02, 14.16it/s]\n"
          ]
        },
        {
          "output_type": "stream",
          "name": "stdout",
          "text": [
            "    box loss-> 0.00421, object loss-> 0.00624, class loss-> 0.00000\n",
            "Validation:\n"
          ]
        },
        {
          "output_type": "stream",
          "name": "stderr",
          "text": [
            "30it [00:01, 20.74it/s]\n"
          ]
        },
        {
          "output_type": "stream",
          "name": "stdout",
          "text": [
            "ok    recall: 0.657249 precision: 0.584763 mAP@0.5: 0.664119, mAP@0.5-0.95: 0.221757\n",
            "\n",
            "Epoch 193/200\n",
            "----------\n",
            "Train: \n"
          ]
        },
        {
          "output_type": "stream",
          "name": "stderr",
          "text": [
            "35it [00:02, 14.55it/s]\n"
          ]
        },
        {
          "output_type": "stream",
          "name": "stdout",
          "text": [
            "    box loss-> 0.00416, object loss-> 0.00627, class loss-> 0.00000\n",
            "Validation:\n"
          ]
        },
        {
          "output_type": "stream",
          "name": "stderr",
          "text": [
            "30it [00:01, 26.68it/s]\n"
          ]
        },
        {
          "output_type": "stream",
          "name": "stdout",
          "text": [
            "ok    recall: 0.633333 precision: 0.581781 mAP@0.5: 0.653893, mAP@0.5-0.95: 0.225838\n",
            "\n",
            "Epoch 194/200\n",
            "----------\n",
            "Train: \n"
          ]
        },
        {
          "output_type": "stream",
          "name": "stderr",
          "text": [
            "35it [00:02, 14.93it/s]\n"
          ]
        },
        {
          "output_type": "stream",
          "name": "stdout",
          "text": [
            "    box loss-> 0.00408, object loss-> 0.00620, class loss-> 0.00000\n",
            "Validation:\n"
          ]
        },
        {
          "output_type": "stream",
          "name": "stderr",
          "text": [
            "30it [00:01, 25.92it/s]\n"
          ]
        },
        {
          "output_type": "stream",
          "name": "stdout",
          "text": [
            "ok    recall: 0.647944 precision: 0.590133 mAP@0.5: 0.662395, mAP@0.5-0.95: 0.223907\n",
            "\n",
            "Epoch 195/200\n",
            "----------\n",
            "Train: \n"
          ]
        },
        {
          "output_type": "stream",
          "name": "stderr",
          "text": [
            "35it [00:02, 15.07it/s]\n"
          ]
        },
        {
          "output_type": "stream",
          "name": "stdout",
          "text": [
            "    box loss-> 0.00411, object loss-> 0.00621, class loss-> 0.00000\n",
            "Validation:\n"
          ]
        },
        {
          "output_type": "stream",
          "name": "stderr",
          "text": [
            "30it [00:01, 25.00it/s]\n"
          ]
        },
        {
          "output_type": "stream",
          "name": "stdout",
          "text": [
            "ok    recall: 0.666667 precision: 0.596531 mAP@0.5: 0.663051, mAP@0.5-0.95: 0.223369\n",
            "\n",
            "Epoch 196/200\n",
            "----------\n",
            "Train: \n"
          ]
        },
        {
          "output_type": "stream",
          "name": "stderr",
          "text": [
            "35it [00:02, 12.17it/s]\n"
          ]
        },
        {
          "output_type": "stream",
          "name": "stdout",
          "text": [
            "    box loss-> 0.00402, object loss-> 0.00604, class loss-> 0.00000\n",
            "Validation:\n"
          ]
        },
        {
          "output_type": "stream",
          "name": "stderr",
          "text": [
            "30it [00:01, 25.98it/s]\n"
          ]
        },
        {
          "output_type": "stream",
          "name": "stdout",
          "text": [
            "ok    recall: 0.666667 precision: 0.613482 mAP@0.5: 0.678220, mAP@0.5-0.95: 0.225069\n",
            "\n",
            "Epoch 197/200\n",
            "----------\n",
            "Train: \n"
          ]
        },
        {
          "output_type": "stream",
          "name": "stderr",
          "text": [
            "35it [00:02, 15.54it/s]\n"
          ]
        },
        {
          "output_type": "stream",
          "name": "stdout",
          "text": [
            "    box loss-> 0.00410, object loss-> 0.00617, class loss-> 0.00000\n",
            "Validation:\n"
          ]
        },
        {
          "output_type": "stream",
          "name": "stderr",
          "text": [
            "30it [00:01, 26.59it/s]\n"
          ]
        },
        {
          "output_type": "stream",
          "name": "stdout",
          "text": [
            "ok    recall: 0.666667 precision: 0.605026 mAP@0.5: 0.671887, mAP@0.5-0.95: 0.223560\n",
            "\n",
            "Epoch 198/200\n",
            "----------\n",
            "Train: \n"
          ]
        },
        {
          "output_type": "stream",
          "name": "stderr",
          "text": [
            "35it [00:02, 15.44it/s]\n"
          ]
        },
        {
          "output_type": "stream",
          "name": "stdout",
          "text": [
            "    box loss-> 0.00393, object loss-> 0.00610, class loss-> 0.00000\n",
            "Validation:\n"
          ]
        },
        {
          "output_type": "stream",
          "name": "stderr",
          "text": [
            "30it [00:01, 26.60it/s]\n"
          ]
        },
        {
          "output_type": "stream",
          "name": "stdout",
          "text": [
            "ok    recall: 0.666667 precision: 0.605206 mAP@0.5: 0.670922, mAP@0.5-0.95: 0.227697\n",
            "\n",
            "Epoch 199/200\n",
            "----------\n",
            "Train: \n"
          ]
        },
        {
          "output_type": "stream",
          "name": "stderr",
          "text": [
            "35it [00:02, 12.93it/s]\n"
          ]
        },
        {
          "output_type": "stream",
          "name": "stdout",
          "text": [
            "    box loss-> 0.00406, object loss-> 0.00616, class loss-> 0.00000\n",
            "Validation:\n"
          ]
        },
        {
          "output_type": "stream",
          "name": "stderr",
          "text": [
            "30it [00:01, 22.08it/s]\n"
          ]
        },
        {
          "output_type": "stream",
          "name": "stdout",
          "text": [
            "ok    recall: 0.666667 precision: 0.585304 mAP@0.5: 0.675408, mAP@0.5-0.95: 0.225549\n",
            "\n",
            "Epoch 200/200\n",
            "----------\n",
            "Train: \n"
          ]
        },
        {
          "output_type": "stream",
          "name": "stderr",
          "text": [
            "35it [00:02, 15.21it/s]\n"
          ]
        },
        {
          "output_type": "stream",
          "name": "stdout",
          "text": [
            "    box loss-> 0.00405, object loss-> 0.00611, class loss-> 0.00000\n",
            "Validation:\n"
          ]
        },
        {
          "output_type": "stream",
          "name": "stderr",
          "text": [
            "30it [00:01, 26.21it/s]"
          ]
        },
        {
          "output_type": "stream",
          "name": "stdout",
          "text": [
            "ok    recall: 0.666667 precision: 0.588016 mAP@0.5: 0.665904, mAP@0.5-0.95: 0.231941\n",
            "\n",
            "box_loss\n",
            " [0.07507483661174774, 0.06882119923830032, 0.06518828868865967, 0.06181041896343231, 0.05957295000553131, 0.056949108839035034, 0.054399631917476654, 0.051886580884456635, 0.049594052135944366, 0.046915773302316666, 0.044892340898513794, 0.04296628385782242, 0.041295867413282394, 0.041090384125709534, 0.03965682536363602, 0.03913118317723274, 0.03710988163948059, 0.03486623242497444, 0.036324482411146164, 0.03776586800813675, 0.033892128616571426, 0.03562867268919945, 0.026925919577479362, 0.03312186524271965, 0.03010217472910881, 0.03255981579422951, 0.030658060684800148, 0.030491549521684647, 0.036107923835515976, 0.028304457664489746, 0.02802557311952114, 0.026264186948537827, 0.021686958149075508, 0.022750157862901688, 0.025743499398231506, 0.024689629673957825, 0.021391581743955612, 0.018384283408522606, 0.01950138993561268, 0.02629922330379486, 0.02146485447883606, 0.02188238315284252, 0.017858343198895454, 0.0180888082832098, 0.020581748336553574, 0.021281713619828224, 0.024569470435380936, 0.01652151346206665, 0.016647344455122948, 0.01942671276628971, 0.024945924058556557, 0.015209431760013103, 0.01642322726547718, 0.01716722548007965, 0.019647374749183655, 0.022077174857258797, 0.0180540569126606, 0.01638244092464447, 0.014351148158311844, 0.013830102048814297, 0.016315974295139313, 0.014721627347171307, 0.016118248924613, 0.015009341761469841, 0.014369522221386433, 0.015256674028933048, 0.016278337687253952, 0.014502270147204399, 0.014404399320483208, 0.012414110824465752, 0.013335218653082848, 0.016173595562577248, 0.013814668171107769, 0.013114639557898045, 0.01254906877875328, 0.015321768820285797, 0.01653379574418068, 0.012684380635619164, 0.01257570181041956, 0.012912648729979992, 0.013701449148356915, 0.01606394164264202, 0.01826475001871586, 0.013225839473307133, 0.012072766199707985, 0.009513435885310173, 0.010103916749358177, 0.012761225923895836, 0.013094281777739525, 0.0116264084354043, 0.010311627760529518, 0.009939431212842464, 0.012615908868610859, 0.012717261910438538, 0.012741451151669025, 0.01045589055866003, 0.00923480186611414, 0.009973309934139252, 0.010746080428361893, 0.009460285305976868, 0.00967979896813631, 0.008873026818037033, 0.009433883242309093, 0.011154631152749062, 0.00994434766471386, 0.009859506972134113, 0.00864945538341999, 0.008601585403084755, 0.010620263405144215, 0.010691642761230469, 0.009289462119340897, 0.008722169324755669, 0.00897780992090702, 0.010810240171849728, 0.011928983964025974, 0.00905075017362833, 0.008980941958725452, 0.00820345152169466, 0.009884301573038101, 0.0125670051202178, 0.009702330455183983, 0.009579465724527836, 0.00823596678674221, 0.008059061132371426, 0.011169400066137314, 0.009863088838756084, 0.009182050824165344, 0.006612887140363455, 0.0065290178172290325, 0.007730318699032068, 0.010724367573857307, 0.008060119114816189, 0.007547976449131966, 0.006467573810368776, 0.006572810932993889, 0.007933655753731728, 0.0077296895906329155, 0.006808610633015633, 0.006052340846508741, 0.005909909959882498, 0.006521190050989389, 0.006978436838835478, 0.007959588430821896, 0.006622649263590574, 0.006209178827702999, 0.007649387698620558, 0.009005079977214336, 0.006294918712228537, 0.005859910044819117, 0.005487766116857529, 0.005683372728526592, 0.006493144202977419, 0.0058979978784918785, 0.006048046518117189, 0.005508643575012684, 0.005476478952914476, 0.006340372376143932, 0.006754029542207718, 0.005948904901742935, 0.005712114740163088, 0.005555715411901474, 0.006012733560055494, 0.006864446215331554, 0.005136126186698675, 0.005047617945820093, 0.004753300454467535, 0.004830036778002977, 0.0051015750505030155, 0.0053021772764623165, 0.005002907942980528, 0.004778606351464987, 0.004651459399610758, 0.004870099015533924, 0.004713202826678753, 0.00467416038736701, 0.004760037641972303, 0.0046586766839027405, 0.0046355524100363255, 0.004911782220005989, 0.004283238667994738, 0.004152460489422083, 0.004365835338830948, 0.004346847999840975, 0.004300686065107584, 0.004433095455169678, 0.004315036348998547, 0.004237834829837084, 0.00428575137630105, 0.004188441671431065, 0.004173937253654003, 0.00428670784458518, 0.004211878404021263, 0.004160335753113031, 0.004083194304257631, 0.004112016409635544, 0.004018953535705805, 0.004096073564141989, 0.003930973820388317, 0.004057846963405609, 0.004049321170896292]\n",
            "object_loss\n",
            " [0.34216198325157166, 0.06334345787763596, 0.0569780096411705, 0.0528227873146534, 0.048898130655288696, 0.04498488828539848, 0.04129393398761749, 0.0390157476067543, 0.03725578263401985, 0.03603136166930199, 0.035202451050281525, 0.034501075744628906, 0.033517852425575256, 0.03282609209418297, 0.03169884532690048, 0.03135133162140846, 0.03040517121553421, 0.02998722717165947, 0.02911764569580555, 0.028631605207920074, 0.027564745396375656, 0.02711392566561699, 0.02581683173775673, 0.030080311000347137, 0.02593708597123623, 0.02685125358402729, 0.026297753676772118, 0.02470412477850914, 0.02461961656808853, 0.02476884238421917, 0.023583395406603813, 0.02368129789829254, 0.021549995988607407, 0.02150721661746502, 0.02309618517756462, 0.021250838413834572, 0.01972944661974907, 0.01866200752556324, 0.018910259008407593, 0.021064693108201027, 0.02089972421526909, 0.01952529326081276, 0.018290378153324127, 0.018336355686187744, 0.019741548225283623, 0.018696192651987076, 0.021169520914554596, 0.01658729463815689, 0.016621867194771767, 0.01814255118370056, 0.021114621311426163, 0.016553035005927086, 0.016414908692240715, 0.016537293791770935, 0.017549490556120872, 0.018734319135546684, 0.017298873513936996, 0.01668066903948784, 0.015377821400761604, 0.014883709140121937, 0.016543814912438393, 0.015210258774459362, 0.015795046463608742, 0.015357080847024918, 0.014891646802425385, 0.01566806063055992, 0.0158923901617527, 0.01564946211874485, 0.01549885980784893, 0.013954346999526024, 0.014652729034423828, 0.016573119908571243, 0.014439141377806664, 0.014247010461986065, 0.014697066508233547, 0.01668809913098812, 0.017389506101608276, 0.014504442922770977, 0.014193274080753326, 0.014164328575134277, 0.014180924743413925, 0.015287156216800213, 0.016868451610207558, 0.013826614245772362, 0.013153521344065666, 0.01166045293211937, 0.012189015746116638, 0.013740241527557373, 0.013451481238007545, 0.012885954231023788, 0.012248373590409756, 0.011887496337294579, 0.013559785671532154, 0.013267183676362038, 0.013830447569489479, 0.012314002960920334, 0.011385699734091759, 0.011984623037278652, 0.012831884436309338, 0.010931017808616161, 0.011283655650913715, 0.01109425537288189, 0.011708489619195461, 0.013101001270115376, 0.011606109328567982, 0.01146493386477232, 0.010718835517764091, 0.01100268866866827, 0.012679326348006725, 0.012179148383438587, 0.01143913809210062, 0.010525740683078766, 0.009956950321793556, 0.011240226216614246, 0.013071837835013866, 0.011274650692939758, 0.01101000141352415, 0.010306394658982754, 0.011711782775819302, 0.013565167784690857, 0.011672998778522015, 0.011245716363191605, 0.010262934491038322, 0.009841238148510456, 0.012641624547541142, 0.01108638010919094, 0.011222818866372108, 0.008987016044557095, 0.008708583191037178, 0.009927208535373211, 0.012927612289786339, 0.010561567731201649, 0.01013453770428896, 0.008884884417057037, 0.00876621063798666, 0.010001851245760918, 0.009881303645670414, 0.008966956287622452, 0.00838949903845787, 0.008119388483464718, 0.00872835610061884, 0.009566869586706161, 0.010116524994373322, 0.008932114578783512, 0.008838809095323086, 0.010206219740211964, 0.01159748062491417, 0.008632329292595387, 0.008083960972726345, 0.007813083939254284, 0.007893966510891914, 0.008866345509886742, 0.008398161269724369, 0.008648950606584549, 0.007930471561849117, 0.007813967764377594, 0.008786034770309925, 0.00943216122686863, 0.008430791087448597, 0.007956484332680702, 0.007919775322079659, 0.008357611484825611, 0.009292821399867535, 0.007566312327980995, 0.007395247928798199, 0.006993067916482687, 0.007112924009561539, 0.007525636348873377, 0.007632926572114229, 0.007262120023369789, 0.007034422364085913, 0.006862480193376541, 0.007043659221380949, 0.006772527005523443, 0.00683892285451293, 0.006854915991425514, 0.006748121697455645, 0.006844528019428253, 0.007188043557107449, 0.006503887940198183, 0.006281777285039425, 0.006554874125868082, 0.006427262909710407, 0.006379193626344204, 0.006481064483523369, 0.006356700323522091, 0.006377070676535368, 0.006401493214070797, 0.006306363269686699, 0.006261350587010384, 0.006313092075288296, 0.006235387176275253, 0.006267779506742954, 0.0061975098215043545, 0.006212072446942329, 0.006043371744453907, 0.006171874701976776, 0.006097252015024424, 0.00616423599421978, 0.006111510097980499]\n",
            "Recall\n",
            " [0.08333333333333333, 0.11666666666666667, 0.11666666666666667, 0.26666666666666666, 0.25, 0.31666666666666665, 0.2999082115763767, 0.3333333333333333, 0.4666666666666667, 0.5666666666666667, 0.6, 0.5333333333333333, 0.55, 0.5323786917763813, 0.4787998265658754, 0.55, 0.6, 0.5833333333333334, 0.5833333333333334, 0.5492046667893361, 0.6, 0.65, 0.5333333333333333, 0.7166666666666667, 0.5833333333333334, 0.6, 0.6, 0.5833333333333334, 0.6333333333333333, 0.7151417429086099, 0.6333333333333333, 0.7333333333333333, 0.7666666666666667, 0.6988539409997294, 0.6821164088878039, 0.75, 0.6666666666666666, 0.6166666666666667, 0.748705494953781, 0.6143421530585728, 0.6166666666666667, 0.6632049867060534, 0.8, 0.5666666666666667, 0.65, 0.55, 0.7656790413931613, 0.6833333333333333, 0.5665502402742479, 0.7333333333333333, 0.7314906405931415, 0.6980349705236861, 0.6666666666666666, 0.6492888498835087, 0.6996321833109871, 0.6833333333333333, 0.6316361387636121, 0.5999993366390703, 0.65, 0.6666666666666666, 0.7488966946555435, 0.6333333333333333, 0.7166666666666667, 0.699899329623854, 0.6333333333333333, 0.6987468471549729, 0.78316769684483, 0.6815141282374295, 0.6166666666666667, 0.7333333333333333, 0.7166666666666667, 0.7, 0.7666666666666667, 0.7333333333333333, 0.7833333333333333, 0.6333333333333333, 0.7472304154801216, 0.7666666666666667, 0.7166666666666667, 0.7833333333333333, 0.6666666666666666, 0.8, 0.6999636232188247, 0.7666666666666667, 0.7109443377857839, 0.7, 0.6333333333333333, 0.7166666666666667, 0.7253650405322749, 0.75, 0.7166666666666667, 0.7792191094166855, 0.7333333333333333, 0.716375616162538, 0.7833333333333333, 0.7993556917929437, 0.7325171935152741, 0.6166666666666667, 0.7833333333333333, 0.6333333333333333, 0.7, 0.7833333333333333, 0.7308387384434585, 0.6999304642627798, 0.7166666666666667, 0.7163817559235671, 0.6833333333333333, 0.7333333333333333, 0.6934201153597971, 0.7144225758043983, 0.7323880742583674, 0.7333333333333333, 0.7666666666666667, 0.7666666666666667, 0.75, 0.7166666666666667, 0.6833333333333333, 0.73168777969303, 0.7, 0.7333333333333333, 0.7333333333333333, 0.5833333333333334, 0.7166666666666667, 0.715258678622185, 0.7, 0.7141879760930889, 0.7145134061236272, 0.6833333333333333, 0.7166666666666667, 0.6833333333333333, 0.7483101913151878, 0.75, 0.748599324715163, 0.5620815083246948, 0.782884581737892, 0.7666666666666667, 0.5333333333333333, 0.8, 0.75, 0.7653429276648274, 0.75, 0.6437721834304988, 0.7166666666666667, 0.7, 0.7333333333333333, 0.65, 0.65, 0.6651278517469164, 0.6666666666666666, 0.7333333333333333, 0.7333333333333333, 0.6833333333333333, 0.7, 0.7833333333333333, 0.6166666666666667, 0.7833333333333333, 0.6, 0.7, 0.6833333333333333, 0.7166666666666667, 0.6833333333333333, 0.6166666666666667, 0.6666666666666666, 0.6666666666666666, 0.6833333333333333, 0.6820005268922417, 0.7166666666666667, 0.6666666666666666, 0.6666582019656846, 0.7666666666666667, 0.7666666666666667, 0.65, 0.6831100143283486, 0.6761995999361876, 0.6166666666666667, 0.65, 0.6489348176492212, 0.6666666666666666, 0.6492942155443183, 0.65, 0.6658057730851303, 0.6833333333333333, 0.6798804663863155, 0.6973627051029497, 0.6833333333333333, 0.6833333333333333, 0.65, 0.6783404741500206, 0.6333333333333333, 0.6828045023607444, 0.6833333333333333, 0.6572489425546864, 0.6333333333333333, 0.6479438038295093, 0.6666666666666666, 0.6666666666666666, 0.6666666666666666, 0.6666666666666666, 0.6666666666666666, 0.6666666666666666]\n",
            "Precision\n",
            " [0.021159580436356948, 0.07427994232973395, 0.04657716666116938, 0.10102802016916379, 0.2480844456322096, 0.3205584156166152, 0.42849467170149963, 0.46416441926890073, 0.404111181871657, 0.4468799455913872, 0.4492855882365835, 0.4993936012252089, 0.45082262072287865, 0.5419209470127814, 0.5248914913948706, 0.4581875237394974, 0.5065881194285571, 0.5379408817991341, 0.20192283368315364, 0.49963292313353974, 0.40428915247206104, 0.5903264787463129, 0.31810839659564866, 0.524080898331941, 0.4996276309449469, 0.49508293707937556, 0.4438618325932463, 0.4717449357269939, 0.4467410158457223, 0.45691303286437274, 0.6126895008664065, 0.5052331554516136, 0.5344240394959349, 0.40344815725532057, 0.585275890572418, 0.548384764442619, 0.596520862157343, 0.6361804043208723, 0.6919342773905137, 0.6157605003448674, 0.4075010080544807, 0.5542553940680013, 0.5572266812711998, 0.4706192440780515, 0.6710134878443441, 0.46436694716328714, 0.540852795078431, 0.5669492461964842, 0.6070929601175348, 0.517396397833365, 0.5493702189368965, 0.5993165114864994, 0.5792084494130229, 0.6497468787720964, 0.5674368367191958, 0.5765699146424692, 0.5750929401218808, 0.590163662556996, 0.6387134941861778, 0.5956744928062818, 0.6077527302296641, 0.5667515445427458, 0.6124586420204445, 0.5384253333312562, 0.6714889122577736, 0.5595529292552877, 0.5594710681290194, 0.5317960555353465, 0.6592776541433094, 0.5845656520418647, 0.5654502747788306, 0.5112226435043792, 0.5048859251079327, 0.5865270616044932, 0.5215126855285168, 0.6438682204210951, 0.5284808119260913, 0.5972019396065472, 0.549675215095414, 0.564665133723091, 0.6242784477407587, 0.4892213564455898, 0.5185053824586496, 0.5164843297901001, 0.5422979178216965, 0.5888327944910575, 0.6543462737706658, 0.5691914836378873, 0.5613960510632435, 0.5466482536079524, 0.5962621356664791, 0.5327689405910457, 0.5112544427569492, 0.58894142106023, 0.5214196348400227, 0.5579385741843929, 0.5497210661381318, 0.6483133825985201, 0.5728581856643965, 0.6320488553169509, 0.5818571147588303, 0.5585489707314775, 0.5561118712644049, 0.5316205177967172, 0.5489629827163488, 0.5583422389070535, 0.5122528023056968, 0.5172872379553398, 0.5360951463831438, 0.5300746100052512, 0.5428860377860456, 0.5052201626754298, 0.5142649405742391, 0.5790228803424475, 0.5222741105427635, 0.516142041780537, 0.5448345449182482, 0.5360204964920369, 0.5674199511951065, 0.5418664344122912, 0.5231446209847261, 0.6445066302371999, 0.5288948413528045, 0.5238942047539766, 0.5790155484130589, 0.5649284548533888, 0.5725884215779035, 0.5991170016050832, 0.54414029305735, 0.6461869869333117, 0.5166722376522686, 0.522201924176525, 0.5416994505363755, 0.6519788947928622, 0.5463679782854538, 0.5675463777392452, 0.7592799586465727, 0.5154205145254354, 0.5533969504388465, 0.5283004012370323, 0.5475876536793948, 0.562828203362084, 0.5799642356560126, 0.538010461457336, 0.5561601594908999, 0.6045989277139057, 0.564581862817297, 0.5791394846631788, 0.5330057548243503, 0.5428622744608934, 0.555082994209541, 0.5681115034420634, 0.5671851894017114, 0.5276224892397257, 0.59970589572875, 0.5385307924271766, 0.608872548637371, 0.5350424867938895, 0.5312544764398498, 0.5442026742753971, 0.5376584471089497, 0.6150706721857503, 0.5255935376133317, 0.532936335600024, 0.5240811143120419, 0.5319755875063639, 0.5171794255802461, 0.595667620870695, 0.6060575279875217, 0.504712361628649, 0.5151131391194853, 0.5988754526796901, 0.5773839086098647, 0.5916486206080126, 0.586216246641033, 0.6115301775780547, 0.6089787268040258, 0.622706196864681, 0.6187874220132664, 0.6273815036172212, 0.6150741970258884, 0.5834444823339929, 0.5929665779047336, 0.6167440342319144, 0.5754114503132022, 0.6086523026908718, 0.6047017851006287, 0.6011658402377158, 0.6025532943021719, 0.5855237751775767, 0.6104387478556533, 0.5847625600289449, 0.5817808716326229, 0.5901326252223322, 0.5965310612242527, 0.613481765103452, 0.6050258852660623, 0.6052055959727463, 0.5853037296263911, 0.5880158612765715]\n",
            "Map50\n",
            " [0.004469766817587122, 0.01957349750712264, 0.01737449410307065, 0.05581633083518755, 0.14925225162398023, 0.2095668435937959, 0.2553547672938992, 0.3210752461441715, 0.3610744277039787, 0.4195732734279965, 0.42297409223142446, 0.4575640320744463, 0.4116824558160034, 0.5136483687693358, 0.4952790310086726, 0.4159838913122551, 0.5742691786997597, 0.5287013872497925, 0.21094239369904183, 0.5388711845868019, 0.4212182433057713, 0.623347735402333, 0.29348874173565087, 0.602224708298245, 0.5665181095038919, 0.5435125787994898, 0.4596166496370083, 0.5556170232002556, 0.4821607919582285, 0.50672670470908, 0.6381513516586079, 0.6019533372561298, 0.6459780949924455, 0.47260380487486303, 0.6158625032489629, 0.6583530666649406, 0.6403357634658845, 0.6234675415000779, 0.7152020692194978, 0.6375204831898363, 0.44934367557541915, 0.6304099769790033, 0.707723667057548, 0.5087061032336332, 0.6839949405901993, 0.5327434770849343, 0.6659599382213346, 0.6473523864059009, 0.6181336238739618, 0.6244966075683416, 0.65881320775825, 0.6492635347922162, 0.6382340504620915, 0.6780875217288465, 0.6448536059414478, 0.6008934489135963, 0.6184943676553553, 0.5865095590741995, 0.6419511342257934, 0.635390499357497, 0.6671127703274258, 0.6147518341571812, 0.6559058962168699, 0.6147509574017654, 0.6820410575559075, 0.6362340010069255, 0.6779952098286646, 0.6281977682174099, 0.6510225323920596, 0.6822814285479618, 0.6476024045645739, 0.6344841288532225, 0.6426544979010439, 0.6536252905657989, 0.6402242419694726, 0.642987883903826, 0.6176402992299668, 0.6915875331252074, 0.6414884396780332, 0.6542345448636064, 0.6513953319609168, 0.6139993889982313, 0.6217177630397538, 0.6322063581460438, 0.6266396547808949, 0.6703087992831237, 0.6599944642818187, 0.6682509163327864, 0.6535447296916863, 0.648969987044669, 0.6866160674945201, 0.658876979648211, 0.6316556506800733, 0.6660905209283556, 0.657716905672718, 0.6764453629789203, 0.6685092383918592, 0.6937851198488483, 0.6980835083928492, 0.7030058807076437, 0.6750916113150692, 0.7095013941262156, 0.6589389180023282, 0.6411257408264333, 0.6654247233678139, 0.6690416359773255, 0.623263107058711, 0.6534771177387184, 0.6460931362912142, 0.6316813349294279, 0.6519072682861048, 0.6328658264910962, 0.645083621726044, 0.6882301373496725, 0.6460848259217034, 0.6480935843237245, 0.6466501947183014, 0.6701325315528542, 0.6795909326407513, 0.6618678416775101, 0.645969288519811, 0.6661785827911114, 0.6654859665501944, 0.642820900258904, 0.6585521369180001, 0.6564474291834637, 0.669138835391955, 0.6888149237981764, 0.6739528183201933, 0.7061255339328583, 0.6462506666220422, 0.656874202632019, 0.6784943613337707, 0.6493751088069492, 0.6941912787932435, 0.6811000781542413, 0.6740743191540859, 0.681561837188195, 0.6723832189592523, 0.6314660504067099, 0.6356595853026994, 0.63992907897028, 0.6756631068858474, 0.636453047830458, 0.6725130221247637, 0.6612022313646815, 0.627566538399269, 0.6440644390255331, 0.63628781187409, 0.6647640632135712, 0.6536522384191341, 0.6406686933637114, 0.669403734983642, 0.660861368020926, 0.6290844111880708, 0.6659475943109365, 0.64813900571905, 0.6233043142199368, 0.6223854754176502, 0.6619797001838768, 0.6243123262896914, 0.6614219183411623, 0.6013403450776877, 0.6344103301094955, 0.6162157896894476, 0.6273161884493692, 0.638399151969093, 0.6634183241186371, 0.6537203399027913, 0.644363122308879, 0.6353106871130475, 0.6474709576349686, 0.6684616558194127, 0.6539191010705152, 0.6325204308679729, 0.6502464614009856, 0.6518903993199409, 0.6852178683207223, 0.6562943702044773, 0.6769020556903216, 0.6669891894061477, 0.6601127247771539, 0.6595899321003593, 0.6839105994625944, 0.6579759748876894, 0.6889803143578064, 0.6443568489950156, 0.6646094985876912, 0.6551915203087593, 0.6671538091980198, 0.6713392598099007, 0.6641188732644185, 0.6538927466178837, 0.6623952280114453, 0.6630508105788017, 0.6782199549749667, 0.6718871905725899, 0.6709215199103725, 0.6754077422439214, 0.6659035883147375]\n",
            "Map50-95\n",
            " [0.0010025034741081651, 0.0037057196156467256, 0.0030261787966384653, 0.011267504596283074, 0.029896395792178787, 0.05007732191540022, 0.05686547180407201, 0.08812255289980643, 0.08357098845844205, 0.12945891980092564, 0.12657888387374547, 0.09581052238800113, 0.14279937342348933, 0.17760404488863207, 0.15071799059140373, 0.1535747143906605, 0.18582070259899278, 0.18300767023992223, 0.051044644706833175, 0.17316581185777896, 0.10476075008728156, 0.22637851916924148, 0.06575382934847561, 0.14914583286630875, 0.19571047210506567, 0.13752090664609826, 0.13886168870719823, 0.13830863321980572, 0.1381213757983264, 0.12945692543841839, 0.14921992835621262, 0.19404340601252532, 0.19313829646746553, 0.1479329380676381, 0.21863903820247405, 0.19289646367099192, 0.22578271742614303, 0.16217581358108896, 0.22599545519875916, 0.22609596234973006, 0.13782328394599003, 0.1781684652902776, 0.24057433092555397, 0.1640396861218743, 0.23750977418433514, 0.11388736738298944, 0.20931090871425745, 0.23124156465323722, 0.1964188784496031, 0.20760088207841143, 0.21372146003872006, 0.1923593674928012, 0.19318814651281813, 0.18846248173232177, 0.21104036579144755, 0.19225055757252782, 0.18927234196918147, 0.18897577910616734, 0.1963624667374377, 0.21268589860040818, 0.20626629798210377, 0.17689861740407606, 0.1939025198887366, 0.1962525017149279, 0.2025830722756889, 0.20685975243562127, 0.21993954204688254, 0.1955366496321196, 0.2290314208342091, 0.2144691075048315, 0.1912402409865713, 0.20972324258259278, 0.21210312497891964, 0.21118235967868318, 0.1865950464641733, 0.18715255022027016, 0.1995842525969715, 0.21831512211626003, 0.1990359964635428, 0.20628911183278476, 0.19696808944695696, 0.17404681658946622, 0.19348623438327134, 0.18855446258229505, 0.2125236387730231, 0.2258807888371941, 0.2251316798286159, 0.21754975297209925, 0.21692852258712456, 0.2107513529559395, 0.22304739290592202, 0.21590499176674277, 0.20791471746008477, 0.21691005554436157, 0.21455350063525183, 0.21531021467340178, 0.2096164316551572, 0.2071803402678694, 0.21052695057343537, 0.23702830821339343, 0.22037397702760697, 0.2275181008539476, 0.2102283845974601, 0.21488384016408163, 0.23050834430857864, 0.22805673294818868, 0.20198148393013068, 0.22352913723339327, 0.21148124119509498, 0.20211089966067347, 0.21164774963771021, 0.19143660336844007, 0.1965699341208661, 0.22464046397107507, 0.21246078235391716, 0.20763830282091175, 0.21963921771448724, 0.20563033231512634, 0.21795381508185777, 0.22486369806585835, 0.21198143775717485, 0.21545711227431336, 0.19747863468185095, 0.21477257927721943, 0.21578277097222656, 0.2064525223347197, 0.2085629940750436, 0.2233298548878404, 0.22314253489589975, 0.23444155804846245, 0.22159773436483832, 0.2187367268416235, 0.22256867528943253, 0.21843746868344352, 0.235295776490318, 0.2270990676444245, 0.2162140863478686, 0.21785354192075618, 0.2216306860520087, 0.22294495674319634, 0.22054125310208872, 0.21486792726848325, 0.22061111667175215, 0.21163838325830037, 0.22668429234023516, 0.20901940711449404, 0.2113374008087156, 0.2214259481536239, 0.21199129981127313, 0.21633606029382135, 0.2213747093805043, 0.22015424486264065, 0.22563852207042429, 0.2260634297824014, 0.21083204841850925, 0.2271462877720984, 0.21447898261174178, 0.22105624296755272, 0.21951759187436531, 0.23155373037892774, 0.20863566913286996, 0.22586106306551706, 0.21344333825031153, 0.21996149194562736, 0.20451436638581696, 0.21407532875519175, 0.22073635170054176, 0.22594178950017435, 0.21977501755786216, 0.22037878215036266, 0.2168468829976709, 0.22105774166821326, 0.22050207723875928, 0.22314582133170657, 0.21062416056534436, 0.2158951116585414, 0.22299016041592168, 0.22443443200885277, 0.21378380132932598, 0.22736659302663326, 0.2225939177681484, 0.2179452653440351, 0.22051607645410506, 0.23016728643244785, 0.21837340613126305, 0.2245741468740769, 0.21735636609715328, 0.21930807519988726, 0.21966514204155113, 0.22481966624298694, 0.229276219746625, 0.22175670858132263, 0.2258378164196216, 0.22390659346244957, 0.22336892688017124, 0.22506884032476532, 0.22356022998571357, 0.22769672898626309, 0.22554936619448904, 0.23194096445052673]\n",
            "Training completed in 12m 7s\n"
          ]
        },
        {
          "output_type": "stream",
          "name": "stderr",
          "text": [
            "\n"
          ]
        }
      ],
      "source": [
        "trainer = DetectionModelTrainer()\n",
        "trainer.setModelTypeAsTinyYOLOv3 ()\n",
        "trainer.setDataDirectory(data_directory=\"Human_target_labelImg\")\n",
        "trainer.setTrainConfig(object_names_array=[\"person\"], batch_size=4, num_experiments=200, train_from_pretrained_model=\"tiny-yolov3.pt\")\n",
        "# the file tiny-yolov3.pt was obtained from the imageai repository, which helped me as a starting point for my training.\n",
        "trainer.trainModel()"
      ]
    },
    {
      "cell_type": "code",
      "source": [
        "import numpy as np\n",
        "import matplotlib.pyplot as plt\n",
        "def plot_data(data, x_label, y_label, plot_title, save=False, save_name=None, color='blue'):\n",
        "    \"\"\"\n",
        "    Uses matplotlib to plot data.\n",
        "\n",
        "    :param data: List of data to plot\n",
        "    :type data: list\n",
        "    :param x_label: Label on x axis\n",
        "    :type x_label: str\n",
        "    :param y_label: Label on y axis\n",
        "    :type y_label: str\n",
        "    :param plot_title: Plot title\n",
        "    :type plot_title: str\n",
        "    :param save: Whether to save plot automatically or not, defaults to False\n",
        "    :type save: bool, optional\n",
        "    :param save_name: Filename of saved plot, defaults to None\n",
        "    :type save_name: str, optional\n",
        "    \"\"\"\n",
        "    fig, ax = plt.subplots()\n",
        "    ax.plot(data, color=color)\n",
        "    ax.set(xlabel=x_label, ylabel=y_label,\n",
        "           title=plot_title)\n",
        "    ax.grid()\n",
        "    if save:\n",
        "        if save_name is not None:\n",
        "            fig.savefig(save_name)\n",
        "        else:\n",
        "            fig.savefig(\"figure\")\n",
        "    plt.show()"
      ],
      "metadata": {
        "id": "o6nZ4FXNLnEE"
      },
      "execution_count": null,
      "outputs": []
    },
    {
      "cell_type": "code",
      "source": [
        "\n",
        "box_loss = [0.07507483661174774, 0.06882119923830032, 0.06518828868865967, 0.06181041896343231, 0.05957295000553131, 0.056949108839035034, 0.054399631917476654, 0.051886580884456635, 0.049594052135944366, 0.046915773302316666, 0.044892340898513794, 0.04296628385782242, 0.041295867413282394, 0.041090384125709534, 0.03965682536363602, 0.03913118317723274, 0.03710988163948059, 0.03486623242497444, 0.036324482411146164, 0.03776586800813675, 0.033892128616571426, 0.03562867268919945, 0.026925919577479362, 0.03312186524271965, 0.03010217472910881, 0.03255981579422951, 0.030658060684800148, 0.030491549521684647, 0.036107923835515976, 0.028304457664489746, 0.02802557311952114, 0.026264186948537827, 0.021686958149075508, 0.022750157862901688, 0.025743499398231506, 0.024689629673957825, 0.021391581743955612, 0.018384283408522606, 0.01950138993561268, 0.02629922330379486, 0.02146485447883606, 0.02188238315284252, 0.017858343198895454, 0.0180888082832098, 0.020581748336553574, 0.021281713619828224, 0.024569470435380936, 0.01652151346206665, 0.016647344455122948, 0.01942671276628971, 0.024945924058556557, 0.015209431760013103, 0.01642322726547718, 0.01716722548007965, 0.019647374749183655, 0.022077174857258797, 0.0180540569126606, 0.01638244092464447, 0.014351148158311844, 0.013830102048814297, 0.016315974295139313, 0.014721627347171307, 0.016118248924613, 0.015009341761469841, 0.014369522221386433, 0.015256674028933048, 0.016278337687253952, 0.014502270147204399, 0.014404399320483208, 0.012414110824465752, 0.013335218653082848, 0.016173595562577248, 0.013814668171107769, 0.013114639557898045, 0.01254906877875328, 0.015321768820285797, 0.01653379574418068, 0.012684380635619164, 0.01257570181041956, 0.012912648729979992, 0.013701449148356915, 0.01606394164264202, 0.01826475001871586, 0.013225839473307133, 0.012072766199707985, 0.009513435885310173, 0.010103916749358177, 0.012761225923895836, 0.013094281777739525, 0.0116264084354043, 0.010311627760529518, 0.009939431212842464, 0.012615908868610859, 0.012717261910438538, 0.012741451151669025, 0.01045589055866003, 0.00923480186611414, 0.009973309934139252, 0.010746080428361893, 0.009460285305976868, 0.00967979896813631, 0.008873026818037033, 0.009433883242309093, 0.011154631152749062, 0.00994434766471386, 0.009859506972134113, 0.00864945538341999, 0.008601585403084755, 0.010620263405144215, 0.010691642761230469, 0.009289462119340897, 0.008722169324755669, 0.00897780992090702, 0.010810240171849728, 0.011928983964025974, 0.00905075017362833, 0.008980941958725452, 0.00820345152169466, 0.009884301573038101, 0.0125670051202178, 0.009702330455183983, 0.009579465724527836, 0.00823596678674221, 0.008059061132371426, 0.011169400066137314, 0.009863088838756084, 0.009182050824165344, 0.006612887140363455, 0.0065290178172290325, 0.007730318699032068, 0.010724367573857307, 0.008060119114816189, 0.007547976449131966, 0.006467573810368776, 0.006572810932993889, 0.007933655753731728, 0.0077296895906329155, 0.006808610633015633, 0.006052340846508741, 0.005909909959882498, 0.006521190050989389, 0.006978436838835478, 0.007959588430821896, 0.006622649263590574, 0.006209178827702999, 0.007649387698620558, 0.009005079977214336, 0.006294918712228537, 0.005859910044819117, 0.005487766116857529, 0.005683372728526592, 0.006493144202977419, 0.0058979978784918785, 0.006048046518117189, 0.005508643575012684, 0.005476478952914476, 0.006340372376143932, 0.006754029542207718, 0.005948904901742935, 0.005712114740163088, 0.005555715411901474, 0.006012733560055494, 0.006864446215331554, 0.005136126186698675, 0.005047617945820093, 0.004753300454467535, 0.004830036778002977, 0.0051015750505030155, 0.0053021772764623165, 0.005002907942980528, 0.004778606351464987, 0.004651459399610758, 0.004870099015533924, 0.004713202826678753, 0.00467416038736701, 0.004760037641972303, 0.0046586766839027405, 0.0046355524100363255, 0.004911782220005989, 0.004283238667994738, 0.004152460489422083, 0.004365835338830948, 0.004346847999840975, 0.004300686065107584, 0.004433095455169678, 0.004315036348998547, 0.004237834829837084, 0.00428575137630105, 0.004188441671431065, 0.004173937253654003, 0.00428670784458518, 0.004211878404021263, 0.004160335753113031, 0.004083194304257631, 0.004112016409635544, 0.004018953535705805, 0.004096073564141989, 0.003930973820388317, 0.004057846963405609, 0.004049321170896292]\n",
        "object_loss = [0.34216198325157166, 0.06334345787763596, 0.0569780096411705, 0.0528227873146534, 0.048898130655288696, 0.04498488828539848, 0.04129393398761749, 0.0390157476067543, 0.03725578263401985, 0.03603136166930199, 0.035202451050281525, 0.034501075744628906, 0.033517852425575256, 0.03282609209418297, 0.03169884532690048, 0.03135133162140846, 0.03040517121553421, 0.02998722717165947, 0.02911764569580555, 0.028631605207920074, 0.027564745396375656, 0.02711392566561699, 0.02581683173775673, 0.030080311000347137, 0.02593708597123623, 0.02685125358402729, 0.026297753676772118, 0.02470412477850914, 0.02461961656808853, 0.02476884238421917, 0.023583395406603813, 0.02368129789829254, 0.021549995988607407, 0.02150721661746502, 0.02309618517756462, 0.021250838413834572, 0.01972944661974907, 0.01866200752556324, 0.018910259008407593, 0.021064693108201027, 0.02089972421526909, 0.01952529326081276, 0.018290378153324127, 0.018336355686187744, 0.019741548225283623, 0.018696192651987076, 0.021169520914554596, 0.01658729463815689, 0.016621867194771767, 0.01814255118370056, 0.021114621311426163, 0.016553035005927086, 0.016414908692240715, 0.016537293791770935, 0.017549490556120872, 0.018734319135546684, 0.017298873513936996, 0.01668066903948784, 0.015377821400761604, 0.014883709140121937, 0.016543814912438393, 0.015210258774459362, 0.015795046463608742, 0.015357080847024918, 0.014891646802425385, 0.01566806063055992, 0.0158923901617527, 0.01564946211874485, 0.01549885980784893, 0.013954346999526024, 0.014652729034423828, 0.016573119908571243, 0.014439141377806664, 0.014247010461986065, 0.014697066508233547, 0.01668809913098812, 0.017389506101608276, 0.014504442922770977, 0.014193274080753326, 0.014164328575134277, 0.014180924743413925, 0.015287156216800213, 0.016868451610207558, 0.013826614245772362, 0.013153521344065666, 0.01166045293211937, 0.012189015746116638, 0.013740241527557373, 0.013451481238007545, 0.012885954231023788, 0.012248373590409756, 0.011887496337294579, 0.013559785671532154, 0.013267183676362038, 0.013830447569489479, 0.012314002960920334, 0.011385699734091759, 0.011984623037278652, 0.012831884436309338, 0.010931017808616161, 0.011283655650913715, 0.01109425537288189, 0.011708489619195461, 0.013101001270115376, 0.011606109328567982, 0.01146493386477232, 0.010718835517764091, 0.01100268866866827, 0.012679326348006725, 0.012179148383438587, 0.01143913809210062, 0.010525740683078766, 0.009956950321793556, 0.011240226216614246, 0.013071837835013866, 0.011274650692939758, 0.01101000141352415, 0.010306394658982754, 0.011711782775819302, 0.013565167784690857, 0.011672998778522015, 0.011245716363191605, 0.010262934491038322, 0.009841238148510456, 0.012641624547541142, 0.01108638010919094, 0.011222818866372108, 0.008987016044557095, 0.008708583191037178, 0.009927208535373211, 0.012927612289786339, 0.010561567731201649, 0.01013453770428896, 0.008884884417057037, 0.00876621063798666, 0.010001851245760918, 0.009881303645670414, 0.008966956287622452, 0.00838949903845787, 0.008119388483464718, 0.00872835610061884, 0.009566869586706161, 0.010116524994373322, 0.008932114578783512, 0.008838809095323086, 0.010206219740211964, 0.01159748062491417, 0.008632329292595387, 0.008083960972726345, 0.007813083939254284, 0.007893966510891914, 0.008866345509886742, 0.008398161269724369, 0.008648950606584549, 0.007930471561849117, 0.007813967764377594, 0.008786034770309925, 0.00943216122686863, 0.008430791087448597, 0.007956484332680702, 0.007919775322079659, 0.008357611484825611, 0.009292821399867535, 0.007566312327980995, 0.007395247928798199, 0.006993067916482687, 0.007112924009561539, 0.007525636348873377, 0.007632926572114229, 0.007262120023369789, 0.007034422364085913, 0.006862480193376541, 0.007043659221380949, 0.006772527005523443, 0.00683892285451293, 0.006854915991425514, 0.006748121697455645, 0.006844528019428253, 0.007188043557107449, 0.006503887940198183, 0.006281777285039425, 0.006554874125868082, 0.006427262909710407, 0.006379193626344204, 0.006481064483523369, 0.006356700323522091, 0.006377070676535368, 0.006401493214070797, 0.006306363269686699, 0.006261350587010384, 0.006313092075288296, 0.006235387176275253, 0.006267779506742954, 0.0061975098215043545, 0.006212072446942329, 0.006043371744453907, 0.006171874701976776, 0.006097252015024424, 0.00616423599421978, 0.006111510097980499]\n",
        "Recall = [0.08333333333333333, 0.11666666666666667, 0.11666666666666667, 0.26666666666666666, 0.25, 0.31666666666666665, 0.2999082115763767, 0.3333333333333333, 0.4666666666666667, 0.5666666666666667, 0.6, 0.5333333333333333, 0.55, 0.5323786917763813, 0.4787998265658754, 0.55, 0.6, 0.5833333333333334, 0.5833333333333334, 0.5492046667893361, 0.6, 0.65, 0.5333333333333333, 0.7166666666666667, 0.5833333333333334, 0.6, 0.6, 0.5833333333333334, 0.6333333333333333, 0.7151417429086099, 0.6333333333333333, 0.7333333333333333, 0.7666666666666667, 0.6988539409997294, 0.6821164088878039, 0.75, 0.6666666666666666, 0.6166666666666667, 0.748705494953781, 0.6143421530585728, 0.6166666666666667, 0.6632049867060534, 0.8, 0.5666666666666667, 0.65, 0.55, 0.7656790413931613, 0.6833333333333333, 0.5665502402742479, 0.7333333333333333, 0.7314906405931415, 0.6980349705236861, 0.6666666666666666, 0.6492888498835087, 0.6996321833109871, 0.6833333333333333, 0.6316361387636121, 0.5999993366390703, 0.65, 0.6666666666666666, 0.7488966946555435, 0.6333333333333333, 0.7166666666666667, 0.699899329623854, 0.6333333333333333, 0.6987468471549729, 0.78316769684483, 0.6815141282374295, 0.6166666666666667, 0.7333333333333333, 0.7166666666666667, 0.7, 0.7666666666666667, 0.7333333333333333, 0.7833333333333333, 0.6333333333333333, 0.7472304154801216, 0.7666666666666667, 0.7166666666666667, 0.7833333333333333, 0.6666666666666666, 0.8, 0.6999636232188247, 0.7666666666666667, 0.7109443377857839, 0.7, 0.6333333333333333, 0.7166666666666667, 0.7253650405322749, 0.75, 0.7166666666666667, 0.7792191094166855, 0.7333333333333333, 0.716375616162538, 0.7833333333333333, 0.7993556917929437, 0.7325171935152741, 0.6166666666666667, 0.7833333333333333, 0.6333333333333333, 0.7, 0.7833333333333333, 0.7308387384434585, 0.6999304642627798, 0.7166666666666667, 0.7163817559235671, 0.6833333333333333, 0.7333333333333333, 0.6934201153597971, 0.7144225758043983, 0.7323880742583674, 0.7333333333333333, 0.7666666666666667, 0.7666666666666667, 0.75, 0.7166666666666667, 0.6833333333333333, 0.73168777969303, 0.7, 0.7333333333333333, 0.7333333333333333, 0.5833333333333334, 0.7166666666666667, 0.715258678622185, 0.7, 0.7141879760930889, 0.7145134061236272, 0.6833333333333333, 0.7166666666666667, 0.6833333333333333, 0.7483101913151878, 0.75, 0.748599324715163, 0.5620815083246948, 0.782884581737892, 0.7666666666666667, 0.5333333333333333, 0.8, 0.75, 0.7653429276648274, 0.75, 0.6437721834304988, 0.7166666666666667, 0.7, 0.7333333333333333, 0.65, 0.65, 0.6651278517469164, 0.6666666666666666, 0.7333333333333333, 0.7333333333333333, 0.6833333333333333, 0.7, 0.7833333333333333, 0.6166666666666667, 0.7833333333333333, 0.6, 0.7, 0.6833333333333333, 0.7166666666666667, 0.6833333333333333, 0.6166666666666667, 0.6666666666666666, 0.6666666666666666, 0.6833333333333333, 0.6820005268922417, 0.7166666666666667, 0.6666666666666666, 0.6666582019656846, 0.7666666666666667, 0.7666666666666667, 0.65, 0.6831100143283486, 0.6761995999361876, 0.6166666666666667, 0.65, 0.6489348176492212, 0.6666666666666666, 0.6492942155443183, 0.65, 0.6658057730851303, 0.6833333333333333, 0.6798804663863155, 0.6973627051029497, 0.6833333333333333, 0.6833333333333333, 0.65, 0.6783404741500206, 0.6333333333333333, 0.6828045023607444, 0.6833333333333333, 0.6572489425546864, 0.6333333333333333, 0.6479438038295093, 0.6666666666666666, 0.6666666666666666, 0.6666666666666666, 0.6666666666666666, 0.6666666666666666, 0.6666666666666666]\n",
        "Precision = [0.021159580436356948, 0.07427994232973395, 0.04657716666116938, 0.10102802016916379, 0.2480844456322096, 0.3205584156166152, 0.42849467170149963, 0.46416441926890073, 0.404111181871657, 0.4468799455913872, 0.4492855882365835, 0.4993936012252089, 0.45082262072287865, 0.5419209470127814, 0.5248914913948706, 0.4581875237394974, 0.5065881194285571, 0.5379408817991341, 0.20192283368315364, 0.49963292313353974, 0.40428915247206104, 0.5903264787463129, 0.31810839659564866, 0.524080898331941, 0.4996276309449469, 0.49508293707937556, 0.4438618325932463, 0.4717449357269939, 0.4467410158457223, 0.45691303286437274, 0.6126895008664065, 0.5052331554516136, 0.5344240394959349, 0.40344815725532057, 0.585275890572418, 0.548384764442619, 0.596520862157343, 0.6361804043208723, 0.6919342773905137, 0.6157605003448674, 0.4075010080544807, 0.5542553940680013, 0.5572266812711998, 0.4706192440780515, 0.6710134878443441, 0.46436694716328714, 0.540852795078431, 0.5669492461964842, 0.6070929601175348, 0.517396397833365, 0.5493702189368965, 0.5993165114864994, 0.5792084494130229, 0.6497468787720964, 0.5674368367191958, 0.5765699146424692, 0.5750929401218808, 0.590163662556996, 0.6387134941861778, 0.5956744928062818, 0.6077527302296641, 0.5667515445427458, 0.6124586420204445, 0.5384253333312562, 0.6714889122577736, 0.5595529292552877, 0.5594710681290194, 0.5317960555353465, 0.6592776541433094, 0.5845656520418647, 0.5654502747788306, 0.5112226435043792, 0.5048859251079327, 0.5865270616044932, 0.5215126855285168, 0.6438682204210951, 0.5284808119260913, 0.5972019396065472, 0.549675215095414, 0.564665133723091, 0.6242784477407587, 0.4892213564455898, 0.5185053824586496, 0.5164843297901001, 0.5422979178216965, 0.5888327944910575, 0.6543462737706658, 0.5691914836378873, 0.5613960510632435, 0.5466482536079524, 0.5962621356664791, 0.5327689405910457, 0.5112544427569492, 0.58894142106023, 0.5214196348400227, 0.5579385741843929, 0.5497210661381318, 0.6483133825985201, 0.5728581856643965, 0.6320488553169509, 0.5818571147588303, 0.5585489707314775, 0.5561118712644049, 0.5316205177967172, 0.5489629827163488, 0.5583422389070535, 0.5122528023056968, 0.5172872379553398, 0.5360951463831438, 0.5300746100052512, 0.5428860377860456, 0.5052201626754298, 0.5142649405742391, 0.5790228803424475, 0.5222741105427635, 0.516142041780537, 0.5448345449182482, 0.5360204964920369, 0.5674199511951065, 0.5418664344122912, 0.5231446209847261, 0.6445066302371999, 0.5288948413528045, 0.5238942047539766, 0.5790155484130589, 0.5649284548533888, 0.5725884215779035, 0.5991170016050832, 0.54414029305735, 0.6461869869333117, 0.5166722376522686, 0.522201924176525, 0.5416994505363755, 0.6519788947928622, 0.5463679782854538, 0.5675463777392452, 0.7592799586465727, 0.5154205145254354, 0.5533969504388465, 0.5283004012370323, 0.5475876536793948, 0.562828203362084, 0.5799642356560126, 0.538010461457336, 0.5561601594908999, 0.6045989277139057, 0.564581862817297, 0.5791394846631788, 0.5330057548243503, 0.5428622744608934, 0.555082994209541, 0.5681115034420634, 0.5671851894017114, 0.5276224892397257, 0.59970589572875, 0.5385307924271766, 0.608872548637371, 0.5350424867938895, 0.5312544764398498, 0.5442026742753971, 0.5376584471089497, 0.6150706721857503, 0.5255935376133317, 0.532936335600024, 0.5240811143120419, 0.5319755875063639, 0.5171794255802461, 0.595667620870695, 0.6060575279875217, 0.504712361628649, 0.5151131391194853, 0.5988754526796901, 0.5773839086098647, 0.5916486206080126, 0.586216246641033, 0.6115301775780547, 0.6089787268040258, 0.622706196864681, 0.6187874220132664, 0.6273815036172212, 0.6150741970258884, 0.5834444823339929, 0.5929665779047336, 0.6167440342319144, 0.5754114503132022, 0.6086523026908718, 0.6047017851006287, 0.6011658402377158, 0.6025532943021719, 0.5855237751775767, 0.6104387478556533, 0.5847625600289449, 0.5817808716326229, 0.5901326252223322, 0.5965310612242527, 0.613481765103452, 0.6050258852660623, 0.6052055959727463, 0.5853037296263911, 0.5880158612765715]\n",
        "Map50 = [0.004469766817587122, 0.01957349750712264, 0.01737449410307065, 0.05581633083518755, 0.14925225162398023, 0.2095668435937959, 0.2553547672938992, 0.3210752461441715, 0.3610744277039787, 0.4195732734279965, 0.42297409223142446, 0.4575640320744463, 0.4116824558160034, 0.5136483687693358, 0.4952790310086726, 0.4159838913122551, 0.5742691786997597, 0.5287013872497925, 0.21094239369904183, 0.5388711845868019, 0.4212182433057713, 0.623347735402333, 0.29348874173565087, 0.602224708298245, 0.5665181095038919, 0.5435125787994898, 0.4596166496370083, 0.5556170232002556, 0.4821607919582285, 0.50672670470908, 0.6381513516586079, 0.6019533372561298, 0.6459780949924455, 0.47260380487486303, 0.6158625032489629, 0.6583530666649406, 0.6403357634658845, 0.6234675415000779, 0.7152020692194978, 0.6375204831898363, 0.44934367557541915, 0.6304099769790033, 0.707723667057548, 0.5087061032336332, 0.6839949405901993, 0.5327434770849343, 0.6659599382213346, 0.6473523864059009, 0.6181336238739618, 0.6244966075683416, 0.65881320775825, 0.6492635347922162, 0.6382340504620915, 0.6780875217288465, 0.6448536059414478, 0.6008934489135963, 0.6184943676553553, 0.5865095590741995, 0.6419511342257934, 0.635390499357497, 0.6671127703274258, 0.6147518341571812, 0.6559058962168699, 0.6147509574017654, 0.6820410575559075, 0.6362340010069255, 0.6779952098286646, 0.6281977682174099, 0.6510225323920596, 0.6822814285479618, 0.6476024045645739, 0.6344841288532225, 0.6426544979010439, 0.6536252905657989, 0.6402242419694726, 0.642987883903826, 0.6176402992299668, 0.6915875331252074, 0.6414884396780332, 0.6542345448636064, 0.6513953319609168, 0.6139993889982313, 0.6217177630397538, 0.6322063581460438, 0.6266396547808949, 0.6703087992831237, 0.6599944642818187, 0.6682509163327864, 0.6535447296916863, 0.648969987044669, 0.6866160674945201, 0.658876979648211, 0.6316556506800733, 0.6660905209283556, 0.657716905672718, 0.6764453629789203, 0.6685092383918592, 0.6937851198488483, 0.6980835083928492, 0.7030058807076437, 0.6750916113150692, 0.7095013941262156, 0.6589389180023282, 0.6411257408264333, 0.6654247233678139, 0.6690416359773255, 0.623263107058711, 0.6534771177387184, 0.6460931362912142, 0.6316813349294279, 0.6519072682861048, 0.6328658264910962, 0.645083621726044, 0.6882301373496725, 0.6460848259217034, 0.6480935843237245, 0.6466501947183014, 0.6701325315528542, 0.6795909326407513, 0.6618678416775101, 0.645969288519811, 0.6661785827911114, 0.6654859665501944, 0.642820900258904, 0.6585521369180001, 0.6564474291834637, 0.669138835391955, 0.6888149237981764, 0.6739528183201933, 0.7061255339328583, 0.6462506666220422, 0.656874202632019, 0.6784943613337707, 0.6493751088069492, 0.6941912787932435, 0.6811000781542413, 0.6740743191540859, 0.681561837188195, 0.6723832189592523, 0.6314660504067099, 0.6356595853026994, 0.63992907897028, 0.6756631068858474, 0.636453047830458, 0.6725130221247637, 0.6612022313646815, 0.627566538399269, 0.6440644390255331, 0.63628781187409, 0.6647640632135712, 0.6536522384191341, 0.6406686933637114, 0.669403734983642, 0.660861368020926, 0.6290844111880708, 0.6659475943109365, 0.64813900571905, 0.6233043142199368, 0.6223854754176502, 0.6619797001838768, 0.6243123262896914, 0.6614219183411623, 0.6013403450776877, 0.6344103301094955, 0.6162157896894476, 0.6273161884493692, 0.638399151969093, 0.6634183241186371, 0.6537203399027913, 0.644363122308879, 0.6353106871130475, 0.6474709576349686, 0.6684616558194127, 0.6539191010705152, 0.6325204308679729, 0.6502464614009856, 0.6518903993199409, 0.6852178683207223, 0.6562943702044773, 0.6769020556903216, 0.6669891894061477, 0.6601127247771539, 0.6595899321003593, 0.6839105994625944, 0.6579759748876894, 0.6889803143578064, 0.6443568489950156, 0.6646094985876912, 0.6551915203087593, 0.6671538091980198, 0.6713392598099007, 0.6641188732644185, 0.6538927466178837, 0.6623952280114453, 0.6630508105788017, 0.6782199549749667, 0.6718871905725899, 0.6709215199103725, 0.6754077422439214, 0.6659035883147375]\n",
        "Map50_95 = [0.0010025034741081651, 0.0037057196156467256, 0.0030261787966384653, 0.011267504596283074, 0.029896395792178787, 0.05007732191540022, 0.05686547180407201, 0.08812255289980643, 0.08357098845844205, 0.12945891980092564, 0.12657888387374547, 0.09581052238800113, 0.14279937342348933, 0.17760404488863207, 0.15071799059140373, 0.1535747143906605, 0.18582070259899278, 0.18300767023992223, 0.051044644706833175, 0.17316581185777896, 0.10476075008728156, 0.22637851916924148, 0.06575382934847561, 0.14914583286630875, 0.19571047210506567, 0.13752090664609826, 0.13886168870719823, 0.13830863321980572, 0.1381213757983264, 0.12945692543841839, 0.14921992835621262, 0.19404340601252532, 0.19313829646746553, 0.1479329380676381, 0.21863903820247405, 0.19289646367099192, 0.22578271742614303, 0.16217581358108896, 0.22599545519875916, 0.22609596234973006, 0.13782328394599003, 0.1781684652902776, 0.24057433092555397, 0.1640396861218743, 0.23750977418433514, 0.11388736738298944, 0.20931090871425745, 0.23124156465323722, 0.1964188784496031, 0.20760088207841143, 0.21372146003872006, 0.1923593674928012, 0.19318814651281813, 0.18846248173232177, 0.21104036579144755, 0.19225055757252782, 0.18927234196918147, 0.18897577910616734, 0.1963624667374377, 0.21268589860040818, 0.20626629798210377, 0.17689861740407606, 0.1939025198887366, 0.1962525017149279, 0.2025830722756889, 0.20685975243562127, 0.21993954204688254, 0.1955366496321196, 0.2290314208342091, 0.2144691075048315, 0.1912402409865713, 0.20972324258259278, 0.21210312497891964, 0.21118235967868318, 0.1865950464641733, 0.18715255022027016, 0.1995842525969715, 0.21831512211626003, 0.1990359964635428, 0.20628911183278476, 0.19696808944695696, 0.17404681658946622, 0.19348623438327134, 0.18855446258229505, 0.2125236387730231, 0.2258807888371941, 0.2251316798286159, 0.21754975297209925, 0.21692852258712456, 0.2107513529559395, 0.22304739290592202, 0.21590499176674277, 0.20791471746008477, 0.21691005554436157, 0.21455350063525183, 0.21531021467340178, 0.2096164316551572, 0.2071803402678694, 0.21052695057343537, 0.23702830821339343, 0.22037397702760697, 0.2275181008539476, 0.2102283845974601, 0.21488384016408163, 0.23050834430857864, 0.22805673294818868, 0.20198148393013068, 0.22352913723339327, 0.21148124119509498, 0.20211089966067347, 0.21164774963771021, 0.19143660336844007, 0.1965699341208661, 0.22464046397107507, 0.21246078235391716, 0.20763830282091175, 0.21963921771448724, 0.20563033231512634, 0.21795381508185777, 0.22486369806585835, 0.21198143775717485, 0.21545711227431336, 0.19747863468185095, 0.21477257927721943, 0.21578277097222656, 0.2064525223347197, 0.2085629940750436, 0.2233298548878404, 0.22314253489589975, 0.23444155804846245, 0.22159773436483832, 0.2187367268416235, 0.22256867528943253, 0.21843746868344352, 0.235295776490318, 0.2270990676444245, 0.2162140863478686, 0.21785354192075618, 0.2216306860520087, 0.22294495674319634, 0.22054125310208872, 0.21486792726848325, 0.22061111667175215, 0.21163838325830037, 0.22668429234023516, 0.20901940711449404, 0.2113374008087156, 0.2214259481536239, 0.21199129981127313, 0.21633606029382135, 0.2213747093805043, 0.22015424486264065, 0.22563852207042429, 0.2260634297824014, 0.21083204841850925, 0.2271462877720984, 0.21447898261174178, 0.22105624296755272, 0.21951759187436531, 0.23155373037892774, 0.20863566913286996, 0.22586106306551706, 0.21344333825031153, 0.21996149194562736, 0.20451436638581696, 0.21407532875519175, 0.22073635170054176, 0.22594178950017435, 0.21977501755786216, 0.22037878215036266, 0.2168468829976709, 0.22105774166821326, 0.22050207723875928, 0.22314582133170657, 0.21062416056534436, 0.2158951116585414, 0.22299016041592168, 0.22443443200885277, 0.21378380132932598, 0.22736659302663326, 0.2225939177681484, 0.2179452653440351, 0.22051607645410506, 0.23016728643244785, 0.21837340613126305, 0.2245741468740769, 0.21735636609715328, 0.21930807519988726, 0.21966514204155113, 0.22481966624298694, 0.229276219746625, 0.22175670858132263, 0.2258378164196216, 0.22390659346244957, 0.22336892688017124, 0.22506884032476532, 0.22356022998571357, 0.22769672898626309, 0.22554936619448904, 0.23194096445052673]\n",
        "\n",
        "plot_data(box_loss, \"Epoch\", \"box_loss\", \"box_loss vs Epoch\", save=False, save_name=None, color='red')\n",
        "plot_data(object_loss, \"Epoch\", \"object_loss\", \"object_loss vs Epoch\", save=False, save_name=None, color='red')\n",
        "plot_data(Recall, \"Epoch\", \"Recall\", \"Recall vs Epoch\", save=False, save_name=None, color='blue')\n",
        "plot_data(Precision, \"Epoch\", \"Precision\", \"Precision vs Epoch\", save=False, save_name=None, color='blue')\n",
        "plot_data(Map50, \"Epoch\", \"Map50\", \"Map50 vs Epoch\", save=False, save_name=None, color='orange')\n",
        "plot_data(Map50_95, \"Epoch\", \"Map50_95\", \"Map50_95 vs Epoch\", save=False, save_name=None, color='orange')"
      ],
      "metadata": {
        "colab": {
          "base_uri": "https://localhost:8080/",
          "height": 1000
        },
        "id": "WGupdIWGLu6S",
        "outputId": "4c500b34-2cd6-4387-e497-54563647e0f6"
      },
      "execution_count": null,
      "outputs": [
        {
          "output_type": "display_data",
          "data": {
            "text/plain": [
              "<Figure size 640x480 with 1 Axes>"
            ],
            "image/png": "[encoded data removed]"
          },
          "metadata": {}
        },
        {
          "output_type": "display_data",
          "data": {
            "text/plain": [
              "<Figure size 640x480 with 1 Axes>"
            ],
            "image/png": "[encoded data removed]"
          },
          "metadata": {}
        },
        {
          "output_type": "display_data",
          "data": {
            "text/plain": [
              "<Figure size 640x480 with 1 Axes>"
            ],
            "image/png": "[encoded data removed]"
          },
          "metadata": {}
        },
        {
          "output_type": "display_data",
          "data": {
            "text/plain": [
              "<Figure size 640x480 with 1 Axes>"
            ],
            "image/png": "[encoded data removed]"
          },
          "metadata": {}
        },
        {
          "output_type": "display_data",
          "data": {
            "text/plain": [
              "<Figure size 640x480 with 1 Axes>"
            ],
            "image/png": "[encoded data removed]"
          },
          "metadata": {}
        },
        {
          "output_type": "display_data",
          "data": {
            "text/plain": [
              "<Figure size 640x480 with 1 Axes>"
            ],
            "image/png": "[encoded data removed]"
          },
          "metadata": {}
        }
      ]
    }
  ]
}